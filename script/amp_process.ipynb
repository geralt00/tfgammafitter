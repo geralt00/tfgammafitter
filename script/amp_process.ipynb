{
 "cells": [
  {
   "cell_type": "code",
   "execution_count": null,
   "metadata": {},
   "outputs": [],
   "source": [
    "import cupy as cp\n",
    "import numpy as np\n",
    "import time\n",
    "import math\n",
    "import matplotlib.pyplot as plt\n",
    "import sys\n",
    "sys.path.append('/software/pc24403/tfpcbpggsz/func')\n",
    "sys.path.append('/software/pc24403/tfpcbpggsz/amp')\n",
    "from PyD0ToKSpipi2018 import *\n",
    "import uproot as up\n",
    "import pickle\n",
    "import os\n",
    "from multiprocessing import Pool"
   ]
  },
  {
   "cell_type": "code",
   "execution_count": null,
   "metadata": {},
   "outputs": [],
   "source": [
    "def get_mass(p1,p2):\n",
    "    return ((p1[:,0]+p2[:,0])**2 - (p1[:,1]+p2[:,1])**2 - (p1[:,2]+p2[:,2])**2 - (p1[:,3]+p2[:,3])**2)\n",
    "\n",
    "def get_p4(decay=\"b2dpi\", cut='', index=1):\n",
    "\n",
    "    file_name = ''\n",
    "    if cut == 'int':\n",
    "        file_name = f'/software/pc24403/PCBPGGSZ/Int/weighted_{decay}.root:DalitzEventList'\n",
    "    \n",
    "    elif decay.split('_')[0] == 'b2dk' or decay.split('_')[0] == 'b2dpi':\n",
    "        if cut == 'p':\n",
    "            file_name = f'/software/pc24403/PCBPGGSZ/outputs/toy/mass_fit/add_sw/new_frac_sw_pg/lhcb_toy_{decay}_{index}_CPrange.root:BplusDalitzEventList'\n",
    "        elif cut == 'm':\n",
    "            file_name = f'/software/pc24403/PCBPGGSZ/outputs/oy/mass_fit/add_sw/new_frac_sw_pg/lhcb_toy_{decay}_{index}.root:BminusDalitzEventList'\n",
    "\n",
    "    tree = up.open(file_name)\n",
    "  # Load the branches as arrays\n",
    "    branch_names = [\"_1_K0S0_E\", \"_1_K0S0_Px\", \"_1_K0S0_Py\", \"_1_K0S0_Pz\",\n",
    "                         \"_2_pi#_E\", \"_2_pi#_Px\", \"_2_pi#_Py\", \"_2_pi#_Pz\",\n",
    "                         \"_3_pi~_E\", \"_3_pi~_Px\", \"_3_pi~_Py\", \"_3_pi~_Pz\"]\n",
    "    array = tree.arrays(branch_names)\n",
    "       \n",
    "\n",
    "    p1 = cp.asarray([array[\"_1_K0S0_E\"], array[\"_1_K0S0_Px\"], array[\"_1_K0S0_Py\"], array[\"_1_K0S0_Pz\"]])\n",
    "    p2 = cp.asarray([array[\"_2_pi#_E\"], array[\"_2_pi#_Px\"], array[\"_2_pi#_Py\"], array[\"_2_pi#_Pz\"]])\n",
    "    p3 = cp.asarray([array[\"_3_pi~_E\"], array[\"_3_pi~_Px\"], array[\"_3_pi~_Py\"], array[\"_3_pi~_Pz\"]])\n",
    "    \n",
    "    # convert 4*1000 into a vectot<double>\n",
    "    p1 = cp.transpose(p1)\n",
    "    p2 = cp.transpose(p2)\n",
    "    p3 = cp.transpose(p3)\n",
    "\n",
    "\n",
    "    return p1, p2, p3\n",
    "\n",
    "def fillamplitude(amp, events):\n",
    "    "
   ]
  },
  {
   "cell_type": "code",
   "execution_count": null,
   "metadata": {},
   "outputs": [],
   "source": []
  }
 ],
 "metadata": {
  "language_info": {
   "name": "python"
  }
 },
 "nbformat": 4,
 "nbformat_minor": 2
}
