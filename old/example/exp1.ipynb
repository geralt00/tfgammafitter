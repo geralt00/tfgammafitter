{
 "cells": [
  {
   "cell_type": "code",
   "execution_count": null,
   "metadata": {},
   "outputs": [],
   "source": [
    "import uproot as up\n",
    "import numpy as np\n",
    "import time\n",
    "import iminuit\n",
    "from iminuit import Minuit\n",
    "from iminuit.cost import ExtendedUnbinnedNLL\n",
    "import os\n",
    "os.environ['TF_CPP_MIN_LOG_LEVEL'] = '3' \n",
    "import matplotlib.pyplot as plt\n",
    "import sys\n",
    "import tensorflow as tf\n",
    "tf.device('GPU:4')\n"
   ]
  },
  {
   "cell_type": "code",
   "execution_count": null,
   "metadata": {},
   "outputs": [],
   "source": [
    "sys.path.append('/software/pc24403/tfpcbpggsz/func')\n",
    "sys.path.append('/software/pc24403/tfpcbpggsz/amp')\n",
    "from amp import *\n",
    "\n",
    "\n",
    "mc_path = '/shared/scratch/pc24403/amp'\n",
    "\n",
    "amp_Data_dk_dd_p, ampbar_Data_dk_dd_p = getAmp('b2dk_DD', 'p')\n",
    "\n",
    "amp_dk_dd_p = np.load(mc_path + '/Int_b2dk_DD_p_amp.npy')\n",
    "ampbar_dk_dd_p = np.load(mc_path + '/Int_b2dk_DD_p_ampbar.npy')\n"
   ]
  },
  {
   "cell_type": "markdown",
   "metadata": {},
   "source": [
    "# Illustration on the amplitude"
   ]
  },
  {
   "cell_type": "code",
   "execution_count": null,
   "metadata": {},
   "outputs": [],
   "source": [
    "s12, s13 = getMass('b2dk_DD_p', 'int')"
   ]
  },
  {
   "cell_type": "code",
   "execution_count": null,
   "metadata": {},
   "outputs": [],
   "source": [
    "def DeltadeltaD(A, Abar):\n",
    "    var = np.angle(A*np.conj(Abar)) \n",
    "\n",
    "    return var"
   ]
  },
  {
   "cell_type": "code",
   "execution_count": null,
   "metadata": {},
   "outputs": [],
   "source": [
    "#plt.scatter(s12, s13, cmap='rainbow',s=0.1, c=DeltadeltaD(amp_dk_dd_p, ampbar_dk_dd_p).flatten())\n",
    "#plt.colorbar()"
   ]
  },
  {
   "cell_type": "code",
   "execution_count": null,
   "metadata": {},
   "outputs": [],
   "source": [
    "def totalAmplitudeSquared_XY(Bsign=1, amp=[], ampbar=[], x=(0,0,0,0)):\n",
    "\n",
    "    phase = DeltadeltaD(amp, ampbar)\n",
    "    absA = tf.abs(amp)\n",
    "    absAbar = tf.abs(ampbar)\n",
    "\n",
    "\n",
    "    if Bsign == 1:\n",
    "        xPlus = x[0]\n",
    "        yPlus = x[1]\n",
    "        rB2 = xPlus**2 + yPlus**2\n",
    "        return (absA **2 * rB2 + absAbar**2 + 2 * (absA * absAbar) * (xPlus * tf.cos(phase) - yPlus * tf.sin(phase)))\n",
    "    \n",
    "    elif Bsign == -1:\n",
    "        xMinus = x[2]\n",
    "        yMinus = x[3]\n",
    "        rB2 = xMinus**2 + yMinus**2\n",
    "\n",
    "        return (absA**2  + absAbar **2 * rB2 + 2 * (absA * absAbar) * (xMinus * tf.cos(phase) + yMinus * tf.sin(phase)))"
   ]
  },
  {
   "cell_type": "code",
   "execution_count": null,
   "metadata": {},
   "outputs": [],
   "source": [
    "x = (-0.0897, -0.011, 0.0586, 0.0688)\n",
    "\n",
    "prob = totalAmplitudeSquared_XY(1, ampbar_dk_dd_p, amp_dk_dd_p, x)\n",
    "prob = prob.numpy().flatten()\n"
   ]
  },
  {
   "cell_type": "code",
   "execution_count": null,
   "metadata": {},
   "outputs": [],
   "source": [
    "ampbar_dk_dd_p[:1,1:]\n"
   ]
  },
  {
   "cell_type": "code",
   "execution_count": null,
   "metadata": {},
   "outputs": [],
   "source": [
    "amp_dk_dd_p[:2,1:]"
   ]
  },
  {
   "cell_type": "code",
   "execution_count": null,
   "metadata": {},
   "outputs": [],
   "source": [
    "s12_data , s13_data = getMass('b2dk_DD', 'p')\n",
    "scale_factor = np.zeros(len(s12))\n",
    "scale_factor = scale_factor + 1"
   ]
  },
  {
   "cell_type": "code",
   "execution_count": null,
   "metadata": {},
   "outputs": [],
   "source": [
    "fig, (ax0, ax1, ax2) = plt.subplots(nrows=1, ncols=3, sharex=True, figsize=(24, 6))\n",
    "ax0.scatter(s12_data, s13_data,s=0.1)\n",
    "ax0.set_xlabel('$s_-$')\n",
    "ax0.set_ylabel('$s_+$')\n",
    "\n",
    "nbins = 100\n",
    "\n",
    "bin_edges = np.linspace(0.3, 3.2, nbins+1)\n",
    "bin_centers = 0.5 * (bin_edges[:-1] + bin_edges[1:])\n",
    "# Assuming s1 is sorted and binned accordingly, this is a placeholder for counting entries per bin\n",
    "counts, _ = np.histogram(s12_data, bins=bin_edges)\n",
    "# Calculate the standard deviation for the error bars\n",
    "std_devs = np.sqrt(counts)\n",
    "ax1.errorbar(bin_centers, counts, yerr=std_devs, fmt='+', color='darkviolet', label='Toy Data')\n",
    "ax1.hist(s12, bins=100, histtype='step', color='dodgerblue',weights=prob/np.mean(prob)/len(s12)*len(s12_data))\n",
    "ax1.set_xlabel('$s_-$')\n",
    "\n",
    "bin_edges = np.linspace(0.3, 3.2, nbins+1)\n",
    "bin_centers = 0.5 * (bin_edges[:-1] + bin_edges[1:])\n",
    "# Assuming s1 is sorted and binned accordingly, this is a placeholder for counting entries per bin\n",
    "counts, _ = np.histogram(s13_data, bins=bin_edges)\n",
    "# Calculate the standard deviation for the error bars\n",
    "std_devs = np.sqrt(counts)\n",
    "ax2.errorbar(bin_centers, counts, yerr=std_devs, fmt='+', color='darkviolet', label='Toy Data')\n",
    "ax2.hist(s13, bins=100, histtype='step', color='dodgerblue',weights=prob/np.mean(prob)/len(s13)*len(s12_data))\n",
    "\n",
    "plt.show()\n"
   ]
  }
 ],
 "metadata": {
  "kernelspec": {
   "display_name": "tfgammafit",
   "language": "python",
   "name": "python3"
  },
  "language_info": {
   "codemirror_mode": {
    "name": "ipython",
    "version": 3
   },
   "file_extension": ".py",
   "mimetype": "text/x-python",
   "name": "python",
   "nbconvert_exporter": "python",
   "pygments_lexer": "ipython3",
   "version": "3.9.19"
  }
 },
 "nbformat": 4,
 "nbformat_minor": 2
}
