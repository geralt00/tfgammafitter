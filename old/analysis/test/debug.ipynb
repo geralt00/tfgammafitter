{
 "cells": [
  {
   "cell_type": "code",
   "execution_count": 27,
   "metadata": {},
   "outputs": [],
   "source": [
    "import numpy as np\n",
    "import uproot as up"
   ]
  },
  {
   "cell_type": "code",
   "execution_count": 28,
   "metadata": {},
   "outputs": [],
   "source": [
    "import uproot as up\n",
    "import numpy as np\n",
    "\n",
    "def get_dalitz(index=1):\n",
    "    path_D0bar = f'/software/pc24403/PCBPGGSZ/outputs/toy/1x_test/b2dk_DD_comb_{index}.root:Bplus_DalitzEventList'\n",
    "    branch_names = [\n",
    "        \"_1_K0S0_E\", \"_1_K0S0_Px\", \"_1_K0S0_Py\", \"_1_K0S0_Pz\",\n",
    "        \"_2_pi#_E\", \"_2_pi#_Px\", \"_2_pi#_Py\", \"_2_pi#_Pz\",\n",
    "        \"_3_pi~_E\", \"_3_pi~_Px\", \"_3_pi~_Py\", \"_3_pi~_Pz\"\n",
    "    ]\n",
    "\n",
    "    tree = up.open(path_D0bar)\n",
    "\n",
    "    # Read branches into a dict-like structure\n",
    "    array_d0 = tree.arrays(branch_names, '(flav==1)& (B_M>5229) & (B_M<5329)')\n",
    "    array_d0bar = tree.arrays(branch_names, '(flav==-1)& (B_M>5229) & (B_M<5329)')\n",
    "    array_phsp = tree.arrays(branch_names, '(flav==9) & (B_M>5229) & (B_M<5329)')\n",
    "\n",
    "\n",
    "\n",
    "\n",
    "    return (len(array_d0)+len(array_d0bar))/(len(array_d0)+len(array_d0bar)+len(array_phsp))\n"
   ]
  },
  {
   "cell_type": "code",
   "execution_count": 29,
   "metadata": {},
   "outputs": [],
   "source": [
    "frac = []\n",
    "for index in range(1, 100):\n",
    "    frac.append(get_dalitz(index))"
   ]
  },
  {
   "cell_type": "code",
   "execution_count": 30,
   "metadata": {},
   "outputs": [
    {
     "data": {
      "text/plain": [
       "(array([ 0.,  0.,  0.,  0.,  0.,  0.,  0.,  1.,  0.,  0.,  0.,  0.,  0.,\n",
       "         0.,  0.,  4.,  6.,  4.,  6., 18.,  7.,  7., 14., 12.,  6.,  3.,\n",
       "         6.,  3.,  0.,  2.,  0.,  0.,  0.,  0.,  0.,  0.,  0.,  0.,  0.,\n",
       "         0.,  0.,  0.,  0.,  0.,  0.,  0.,  0.,  0.,  0.,  0.]),\n",
       " array([0.4  , 0.406, 0.412, 0.418, 0.424, 0.43 , 0.436, 0.442, 0.448,\n",
       "        0.454, 0.46 , 0.466, 0.472, 0.478, 0.484, 0.49 , 0.496, 0.502,\n",
       "        0.508, 0.514, 0.52 , 0.526, 0.532, 0.538, 0.544, 0.55 , 0.556,\n",
       "        0.562, 0.568, 0.574, 0.58 , 0.586, 0.592, 0.598, 0.604, 0.61 ,\n",
       "        0.616, 0.622, 0.628, 0.634, 0.64 , 0.646, 0.652, 0.658, 0.664,\n",
       "        0.67 , 0.676, 0.682, 0.688, 0.694, 0.7  ]),\n",
       " <BarContainer object of 50 artists>)"
      ]
     },
     "execution_count": 30,
     "metadata": {},
     "output_type": "execute_result"
    },
    {
     "data": {
      "image/png": "[encoded data removed]",
      "text/plain": [
       "<Figure size 640x480 with 1 Axes>"
      ]
     },
     "metadata": {},
     "output_type": "display_data"
    }
   ],
   "source": [
    "\n",
    "import matplotlib.pyplot as plt\n",
    "plt.hist(frac, range=(0.4, 0.7), bins=50)"
   ]
  },
  {
   "cell_type": "code",
   "execution_count": 24,
   "metadata": {},
   "outputs": [],
   "source": [
    "import numpy as np\n",
    "\n",
    "def fisher_yates_shuffle(arr):\n",
    "    \"\"\"Shuffles an array in-place using the Fisher-Yates algorithm.\"\"\"\n",
    "    for i in range(len(arr) - 1, 0, -1):\n",
    "        j = np.random.randint(0, i + 1)  # Random index between 0 and i\n",
    "        arr[i], arr[j] = arr[j], arr[i]  # Swap elements at i and j\n"
   ]
  },
  {
   "cell_type": "code",
   "execution_count": 25,
   "metadata": {},
   "outputs": [
    {
     "name": "stdout",
     "output_type": "stream",
     "text": [
      "[{'id': 3, 'value': 22} {'id': 2, 'value': 40} {'id': 2, 'value': 20}\n",
      " {'id': 3, 'value': 9} {'id': 1, 'value': 10} {'id': 1, 'value': 30}]\n"
     ]
    }
   ],
   "source": [
    "# Example Dictionaries\n",
    "data_d0 = [{\"id\": 1, \"value\": 10}, {\"id\": 2, \"value\": 20}, {\"id\": 3, \"value\": 22}]\n",
    "data_d0bar = [{\"id\": 1, \"value\": 30}, {\"id\": 2, \"value\": 40}, {\"id\": 3, \"value\": 9}]\n",
    "\n",
    "# Combine and Shuffle (In-Place)\n",
    "data_combined = np.append(data_d0, data_d0bar)\n",
    "fisher_yates_shuffle(data_combined)\n",
    "\n",
    "print(data_combined)  # Output will be a shuffled array of dictionaries\n"
   ]
  },
  {
   "cell_type": "code",
   "execution_count": 26,
   "metadata": {},
   "outputs": [
    {
     "name": "stdout",
     "output_type": "stream",
     "text": [
      "0 {'id': 3, 'value': 22}\n",
      "1 {'id': 2, 'value': 40}\n",
      "2 {'id': 2, 'value': 20}\n",
      "3 {'id': 3, 'value': 9}\n",
      "4 {'id': 1, 'value': 10}\n",
      "5 {'id': 1, 'value': 30}\n"
     ]
    }
   ],
   "source": [
    "for i, d in enumerate(data_combined):\n",
    "    print(i, d)\n"
   ]
  }
 ],
 "metadata": {
  "kernelspec": {
   "display_name": "pcbpggsz",
   "language": "python",
   "name": "python3"
  },
  "language_info": {
   "codemirror_mode": {
    "name": "ipython",
    "version": 3
   },
   "file_extension": ".py",
   "mimetype": "text/x-python",
   "name": "python",
   "nbconvert_exporter": "python",
   "pygments_lexer": "ipython3",
   "version": "3.8.12"
  }
 },
 "nbformat": 4,
 "nbformat_minor": 2
}
