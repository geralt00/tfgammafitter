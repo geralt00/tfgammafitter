{
 "cells": [
  {
   "cell_type": "code",
   "execution_count": 1,
   "metadata": {},
   "outputs": [
    {
     "name": "stderr",
     "output_type": "stream",
     "text": [
      "2024-07-31 14:29:12.270541: W tensorflow/compiler/tf2tensorrt/utils/py_utils.cc:38] TF-TRT Warning: Could not find TensorRT\n",
      "/software/pc24403/tfpcbpggsz/tfpcbpggsz/generator/tensorflow_wrapper.py:57: UserWarning: arctan2 already exists.\n",
      "  warnings.warn(\"{} already exists.\".format(name))\n"
     ]
    }
   ],
   "source": [
    "\n",
    "from tfpcbpggsz.tensorflow_wrapper import *\n",
    "import numpy as np\n",
    "import uproot as up\n",
    "\n",
    "from tfpcbpggsz.generator.phasespace import PhaseSpaceGenerator\n",
    "from tfpcbpggsz.ulti import get_mass, phsp_to_srd\n",
    "from matplotlib import pyplot as plt\n",
    "from tfpcbpggsz.generator.generator import GenTest, BaseGenerator, ARGenerator\n",
    "from tfpcbpggsz.generator.data import data_mask, data_merge, data_shape\n",
    "from tfpcbpggsz.amp_test import *\n",
    "from tfpcbpggsz.generator.gen_pcbpggsz import pcbpggsz_generator"
   ]
  },
  {
   "cell_type": "code",
   "execution_count": 2,
   "metadata": {},
   "outputs": [
    {
     "name": "stdout",
     "output_type": "stream",
     "text": [
      "D0ToKSpipi2018 (Apr 30 2024) ==> Initialization !\n"
     ]
    }
   ],
   "source": [
    "\n",
    "pcgen = pcbpggsz_generator()\n"
   ]
  },
  {
   "cell_type": "code",
   "execution_count": 3,
   "metadata": {},
   "outputs": [],
   "source": [
    "pcgen.type = 'b2dh'"
   ]
  },
  {
   "cell_type": "code",
   "execution_count": 4,
   "metadata": {},
   "outputs": [],
   "source": [
    "fun = pcgen.formula()"
   ]
  },
  {
   "cell_type": "code",
   "execution_count": 5,
   "metadata": {},
   "outputs": [
    {
     "data": {
      "text/plain": [
       "<bound method pcbpggsz_generator.b2dh of <tfpcbpggsz.generator.gen_pcbpggsz.pcbpggsz_generator object at 0x7f6c284308f0>>"
      ]
     },
     "execution_count": 5,
     "metadata": {},
     "output_type": "execute_result"
    }
   ],
   "source": [
    "fun"
   ]
  },
  {
   "cell_type": "code",
   "execution_count": 7,
   "metadata": {},
   "outputs": [
    {
     "name": "stdout",
     "output_type": "stream",
     "text": [
      "[<tf.Tensor: shape=(1222, 4), dtype=float64, numpy=\n",
      "array([[ 0.78355464, -0.22174822,  0.56045004, -0.05533221],\n",
      "       [ 0.9124431 ,  0.56840427, -0.2960289 , -0.41739214],\n",
      "       [ 0.60951816,  0.00273255,  0.0155118 ,  0.35163136],\n",
      "       ...,\n",
      "       [ 0.8704056 , -0.63341604, -0.28399079, -0.1676889 ],\n",
      "       [ 0.79268796,  0.1606643 ,  0.27270122, -0.52967494],\n",
      "       [ 0.77685012, -0.02769006,  0.35007677, -0.48224054]])>, <tf.Tensor: shape=(1222, 4), dtype=float64, numpy=\n",
      "array([[ 0.49006325,  0.05295101, -0.16518918,  0.43656715],\n",
      "       [ 0.53026874, -0.18390371,  0.1935077 ,  0.43639351],\n",
      "       [ 0.49504381, -0.35527536,  0.11069575,  0.29515149],\n",
      "       ...,\n",
      "       [ 0.35505287,  0.1536771 ,  0.18678894, -0.21926228],\n",
      "       [ 0.37876476,  0.23920642,  0.16526428,  0.19862253],\n",
      "       [ 0.28366866,  0.04753759,  0.237386  , -0.04874566]])>, <tf.Tensor: shape=(1222, 4), dtype=float64, numpy=\n",
      "array([[ 0.5912221 ,  0.16879721, -0.39526086, -0.38123495],\n",
      "       [ 0.42212814, -0.38450056,  0.1025212 , -0.01900137],\n",
      "       [ 0.76027803,  0.35254282, -0.12620755, -0.64678285],\n",
      "       ...,\n",
      "       [ 0.63938151,  0.47973895,  0.09720185,  0.38695118],\n",
      "       [ 0.69338727, -0.39987072, -0.4379655 ,  0.3310524 ],\n",
      "       [ 0.80432121, -0.01984753, -0.58746277,  0.5309862 ]])>]\n"
     ]
    },
    {
     "name": "stderr",
     "output_type": "stream",
     "text": [
      "2024-07-31 14:31:41.258327: W tensorflow/core/framework/local_rendezvous.cc:404] Local rendezvous is aborting with status: INVALID_ARGUMENT: Shapes of all inputs must match: values[0].shape = [1222] != values[1].shape = [1222,3]\n"
     ]
    },
    {
     "ename": "InvalidArgumentError",
     "evalue": "{{function_node __wrapped__Pack_N_2_device_/job:localhost/replica:0/task:0/device:GPU:0}} Shapes of all inputs must match: values[0].shape = [1222] != values[1].shape = [1222,3] [Op:Pack] name: stack",
     "output_type": "error",
     "traceback": [
      "\u001b[0;31m---------------------------------------------------------------------------\u001b[0m",
      "\u001b[0;31mInvalidArgumentError\u001b[0m                      Traceback (most recent call last)",
      "Cell \u001b[0;32mIn[7], line 1\u001b[0m\n\u001b[0;32m----> 1\u001b[0m \u001b[43mpcgen\u001b[49m\u001b[38;5;241;43m.\u001b[39;49m\u001b[43mgenerate\u001b[49m\u001b[43m(\u001b[49m\u001b[38;5;241;43m1000\u001b[39;49m\u001b[43m,\u001b[49m\u001b[43m \u001b[49m\u001b[38;5;28;43mtype\u001b[39;49m\u001b[38;5;241;43m=\u001b[39;49m\u001b[38;5;124;43m\"\u001b[39;49m\u001b[38;5;124;43mb2dh\u001b[39;49m\u001b[38;5;124;43m\"\u001b[39;49m\u001b[43m,\u001b[49m\u001b[43m \u001b[49m\u001b[43mrb\u001b[49m\u001b[38;5;241;43m=\u001b[39;49m\u001b[38;5;241;43m0.1\u001b[39;49m\u001b[43m,\u001b[49m\u001b[43m \u001b[49m\u001b[43mdeltaB\u001b[49m\u001b[38;5;241;43m=\u001b[39;49m\u001b[38;5;241;43m0.1\u001b[39;49m\u001b[43m,\u001b[49m\u001b[43m \u001b[49m\u001b[43mgamma\u001b[49m\u001b[38;5;241;43m=\u001b[39;49m\u001b[38;5;241;43m0.1\u001b[39;49m\u001b[43m)\u001b[49m\n",
      "File \u001b[0;32m/software/pc24403/tfpcbpggsz/tfpcbpggsz/generator/gen_pcbpggsz.py:45\u001b[0m, in \u001b[0;36mpcbpggsz_generator.generate\u001b[0;34m(self, N, type, **kwargs)\u001b[0m\n\u001b[1;32m     42\u001b[0m     max_N \u001b[38;5;241m=\u001b[39m kwargs[\u001b[38;5;124m'\u001b[39m\u001b[38;5;124mmax_N\u001b[39m\u001b[38;5;124m'\u001b[39m]\n\u001b[1;32m     44\u001b[0m fun \u001b[38;5;241m=\u001b[39m \u001b[38;5;28mself\u001b[39m\u001b[38;5;241m.\u001b[39mformula()\n\u001b[0;32m---> 45\u001b[0m ret, status \u001b[38;5;241m=\u001b[39m \u001b[43mmulti_sampling\u001b[49m\u001b[43m(\u001b[49m\n\u001b[1;32m     46\u001b[0m \u001b[43m    \u001b[49m\u001b[43mphsp\u001b[49m\u001b[43m,\u001b[49m\n\u001b[1;32m     47\u001b[0m \u001b[43m    \u001b[49m\u001b[43mfun\u001b[49m\u001b[43m,\u001b[49m\n\u001b[1;32m     48\u001b[0m \u001b[43m    \u001b[49m\u001b[43mN\u001b[49m\u001b[43m,\u001b[49m\n\u001b[1;32m     49\u001b[0m \u001b[43m    \u001b[49m\u001b[43mforce\u001b[49m\u001b[38;5;241;43m=\u001b[39;49m\u001b[38;5;28;43;01mTrue\u001b[39;49;00m\u001b[43m,\u001b[49m\n\u001b[1;32m     50\u001b[0m \u001b[43m\u001b[49m\u001b[43m)\u001b[49m\n\u001b[1;32m     51\u001b[0m \u001b[38;5;28;01mreturn\u001b[39;00m ret\n",
      "File \u001b[0;32m/software/pc24403/tfpcbpggsz/tfpcbpggsz/generator/generator.py:85\u001b[0m, in \u001b[0;36mmulti_sampling\u001b[0;34m(phsp, amp, N, max_N, force, max_weight, importance_f, display)\u001b[0m\n\u001b[1;32m     82\u001b[0m all_data \u001b[38;5;241m=\u001b[39m []\n\u001b[1;32m     84\u001b[0m \u001b[38;5;28;01mfor\u001b[39;00m i \u001b[38;5;129;01min\u001b[39;00m a\u001b[38;5;241m.\u001b[39mgenerate(N):\n\u001b[0;32m---> 85\u001b[0m     data, new_max_weight \u001b[38;5;241m=\u001b[39m \u001b[43msingle_sampling2\u001b[49m\u001b[43m(\u001b[49m\n\u001b[1;32m     86\u001b[0m \u001b[43m        \u001b[49m\u001b[43mphsp\u001b[49m\u001b[43m,\u001b[49m\u001b[43m \u001b[49m\u001b[43mamp\u001b[49m\u001b[43m,\u001b[49m\u001b[43m \u001b[49m\u001b[43mi\u001b[49m\u001b[43m,\u001b[49m\u001b[43m \u001b[49m\u001b[43mmax_weight\u001b[49m\u001b[43m,\u001b[49m\u001b[43m \u001b[49m\u001b[43mimportance_f\u001b[49m\n\u001b[1;32m     87\u001b[0m \u001b[43m    \u001b[49m\u001b[43m)\u001b[49m\n\u001b[1;32m     88\u001b[0m     \u001b[38;5;28;01mif\u001b[39;00m max_weight \u001b[38;5;129;01mis\u001b[39;00m \u001b[38;5;28;01mNone\u001b[39;00m:\n\u001b[1;32m     89\u001b[0m         max_weight \u001b[38;5;241m=\u001b[39m new_max_weight \u001b[38;5;241m*\u001b[39m \u001b[38;5;241m1.1\u001b[39m\n",
      "File \u001b[0;32m/software/pc24403/tfpcbpggsz/tfpcbpggsz/generator/generator.py:121\u001b[0m, in \u001b[0;36msingle_sampling2\u001b[0;34m(phsp, amp, N, max_weight, importance_f)\u001b[0m\n\u001b[1;32m    118\u001b[0m \u001b[38;5;28;01mfrom\u001b[39;00m \u001b[38;5;21;01mtfpcbpggsz\u001b[39;00m\u001b[38;5;21;01m.\u001b[39;00m\u001b[38;5;21;01mgenerator\u001b[39;00m\u001b[38;5;21;01m.\u001b[39;00m\u001b[38;5;21;01mdata\u001b[39;00m \u001b[38;5;28;01mimport\u001b[39;00m data_mask\n\u001b[1;32m    120\u001b[0m data \u001b[38;5;241m=\u001b[39m phsp(N)\n\u001b[0;32m--> 121\u001b[0m weight \u001b[38;5;241m=\u001b[39m \u001b[43mamp\u001b[49m\u001b[43m(\u001b[49m\u001b[43mdata\u001b[49m\u001b[43m)\u001b[49m\n\u001b[1;32m    122\u001b[0m \u001b[38;5;28;01mif\u001b[39;00m importance_f \u001b[38;5;129;01mis\u001b[39;00m \u001b[38;5;129;01mnot\u001b[39;00m \u001b[38;5;28;01mNone\u001b[39;00m:\n\u001b[1;32m    123\u001b[0m     weight \u001b[38;5;241m=\u001b[39m weight \u001b[38;5;241m/\u001b[39m importance_f(data)\n",
      "File \u001b[0;32m/software/pc24403/tfpcbpggsz/tfpcbpggsz/generator/gen_pcbpggsz.py:137\u001b[0m, in \u001b[0;36mpcbpggsz_generator.b2dh\u001b[0;34m(self, data)\u001b[0m\n\u001b[1;32m    135\u001b[0m \u001b[38;5;28mprint\u001b[39m(data)\n\u001b[1;32m    136\u001b[0m absAmp \u001b[38;5;241m=\u001b[39m tf\u001b[38;5;241m.\u001b[39mabs(\u001b[38;5;28mself\u001b[39m\u001b[38;5;241m.\u001b[39mamp(data))\n\u001b[0;32m--> 137\u001b[0m absAmpbar \u001b[38;5;241m=\u001b[39m tf\u001b[38;5;241m.\u001b[39mabs(\u001b[38;5;28;43mself\u001b[39;49m\u001b[38;5;241;43m.\u001b[39;49m\u001b[43mampbar\u001b[49m\u001b[43m(\u001b[49m\u001b[43mdata\u001b[49m\u001b[43m)\u001b[49m)\n\u001b[1;32m    138\u001b[0m phase \u001b[38;5;241m=\u001b[39m DeltadeltaD(\u001b[38;5;28mself\u001b[39m\u001b[38;5;241m.\u001b[39mamp(data), \u001b[38;5;28mself\u001b[39m\u001b[38;5;241m.\u001b[39mampbar(data))\n\u001b[1;32m    140\u001b[0m \u001b[38;5;28;01mif\u001b[39;00m \u001b[38;5;28mself\u001b[39m\u001b[38;5;241m.\u001b[39mcharge\u001b[38;5;241m==\u001b[39m\u001b[38;5;241m1\u001b[39m:\n",
      "File \u001b[0;32m/software/pc24403/tfpcbpggsz/tfpcbpggsz/generator/gen_pcbpggsz.py:73\u001b[0m, in \u001b[0;36mpcbpggsz_generator.ampbar\u001b[0;34m(self, data)\u001b[0m\n\u001b[1;32m     71\u001b[0m \u001b[38;5;66;03m#time_cal_amp_start = time.time()\u001b[39;00m\n\u001b[1;32m     72\u001b[0m p1,p2,p3 \u001b[38;5;241m=\u001b[39m data\n\u001b[0;32m---> 73\u001b[0m p1bar, p2bar, p3bar \u001b[38;5;241m=\u001b[39m \u001b[43mtf\u001b[49m\u001b[38;5;241;43m.\u001b[39;49m\u001b[43mstack\u001b[49m\u001b[43m(\u001b[49m\u001b[43m[\u001b[49m\u001b[43mp1\u001b[49m\u001b[43m[\u001b[49m\u001b[43m:\u001b[49m\u001b[43m,\u001b[49m\u001b[38;5;241;43m0\u001b[39;49m\u001b[43m]\u001b[49m\u001b[43m,\u001b[49m\u001b[43m \u001b[49m\u001b[43mtf\u001b[49m\u001b[38;5;241;43m.\u001b[39;49m\u001b[43mnegative\u001b[49m\u001b[43m(\u001b[49m\u001b[43mp1\u001b[49m\u001b[43m[\u001b[49m\u001b[43m:\u001b[49m\u001b[43m,\u001b[49m\u001b[38;5;241;43m1\u001b[39;49m\u001b[43m:\u001b[49m\u001b[38;5;241;43m4\u001b[39;49m\u001b[43m]\u001b[49m\u001b[43m)\u001b[49m\u001b[43m]\u001b[49m\u001b[43m,\u001b[49m\u001b[43m \u001b[49m\u001b[43maxis\u001b[49m\u001b[38;5;241;43m=\u001b[39;49m\u001b[38;5;241;43m1\u001b[39;49m\u001b[43m)\u001b[49m, tf\u001b[38;5;241m.\u001b[39mstack([p2[:,\u001b[38;5;241m0\u001b[39m], tf\u001b[38;5;241m.\u001b[39mnegative(p2[:,\u001b[38;5;241m1\u001b[39m:\u001b[38;5;241m4\u001b[39m])], axis\u001b[38;5;241m=\u001b[39m\u001b[38;5;241m1\u001b[39m), tf\u001b[38;5;241m.\u001b[39mstack([p3[:,\u001b[38;5;241m0\u001b[39m], tf\u001b[38;5;241m.\u001b[39mnegative(p3[:,\u001b[38;5;241m1\u001b[39m:\u001b[38;5;241m4\u001b[39m])], axis\u001b[38;5;241m=\u001b[39m\u001b[38;5;241m1\u001b[39m)\n\u001b[1;32m     74\u001b[0m amp_i_bar \u001b[38;5;241m=\u001b[39m Kspipi\u001b[38;5;241m.\u001b[39mAMP(p1bar\u001b[38;5;241m.\u001b[39mnumpy()\u001b[38;5;241m.\u001b[39mtolist(), p2bar\u001b[38;5;241m.\u001b[39mnumpy()\u001b[38;5;241m.\u001b[39mtolist(), p3bar\u001b[38;5;241m.\u001b[39mnumpy()\u001b[38;5;241m.\u001b[39mtolist())\n\u001b[1;32m     75\u001b[0m amp_i_bar \u001b[38;5;241m=\u001b[39m tf\u001b[38;5;241m.\u001b[39mcast(amp_i_bar, tf\u001b[38;5;241m.\u001b[39mcomplex128)\n",
      "File \u001b[0;32m/software/pc24403/miniconda3/envs/tfdev/lib/python3.12/site-packages/tensorflow/python/util/traceback_utils.py:153\u001b[0m, in \u001b[0;36mfilter_traceback.<locals>.error_handler\u001b[0;34m(*args, **kwargs)\u001b[0m\n\u001b[1;32m    151\u001b[0m \u001b[38;5;28;01mexcept\u001b[39;00m \u001b[38;5;167;01mException\u001b[39;00m \u001b[38;5;28;01mas\u001b[39;00m e:\n\u001b[1;32m    152\u001b[0m   filtered_tb \u001b[38;5;241m=\u001b[39m _process_traceback_frames(e\u001b[38;5;241m.\u001b[39m__traceback__)\n\u001b[0;32m--> 153\u001b[0m   \u001b[38;5;28;01mraise\u001b[39;00m e\u001b[38;5;241m.\u001b[39mwith_traceback(filtered_tb) \u001b[38;5;28;01mfrom\u001b[39;00m \u001b[38;5;28;01mNone\u001b[39;00m\n\u001b[1;32m    154\u001b[0m \u001b[38;5;28;01mfinally\u001b[39;00m:\n\u001b[1;32m    155\u001b[0m   \u001b[38;5;28;01mdel\u001b[39;00m filtered_tb\n",
      "File \u001b[0;32m/software/pc24403/miniconda3/envs/tfdev/lib/python3.12/site-packages/tensorflow/python/framework/ops.py:5983\u001b[0m, in \u001b[0;36mraise_from_not_ok_status\u001b[0;34m(e, name)\u001b[0m\n\u001b[1;32m   5981\u001b[0m \u001b[38;5;28;01mdef\u001b[39;00m \u001b[38;5;21mraise_from_not_ok_status\u001b[39m(e, name) \u001b[38;5;241m-\u001b[39m\u001b[38;5;241m>\u001b[39m NoReturn:\n\u001b[1;32m   5982\u001b[0m   e\u001b[38;5;241m.\u001b[39mmessage \u001b[38;5;241m+\u001b[39m\u001b[38;5;241m=\u001b[39m (\u001b[38;5;124m\"\u001b[39m\u001b[38;5;124m name: \u001b[39m\u001b[38;5;124m\"\u001b[39m \u001b[38;5;241m+\u001b[39m \u001b[38;5;28mstr\u001b[39m(name \u001b[38;5;28;01mif\u001b[39;00m name \u001b[38;5;129;01mis\u001b[39;00m \u001b[38;5;129;01mnot\u001b[39;00m \u001b[38;5;28;01mNone\u001b[39;00m \u001b[38;5;28;01melse\u001b[39;00m \u001b[38;5;124m\"\u001b[39m\u001b[38;5;124m\"\u001b[39m))\n\u001b[0;32m-> 5983\u001b[0m   \u001b[38;5;28;01mraise\u001b[39;00m core\u001b[38;5;241m.\u001b[39m_status_to_exception(e) \u001b[38;5;28;01mfrom\u001b[39;00m \u001b[38;5;28;01mNone\u001b[39;00m\n",
      "\u001b[0;31mInvalidArgumentError\u001b[0m: {{function_node __wrapped__Pack_N_2_device_/job:localhost/replica:0/task:0/device:GPU:0}} Shapes of all inputs must match: values[0].shape = [1222] != values[1].shape = [1222,3] [Op:Pack] name: stack"
     ]
    }
   ],
   "source": [
    "pcgen.generate(1000, type=\"b2dh\", rb=0.1, deltaB=0.1, gamma=0.1)"
   ]
  },
  {
   "cell_type": "code",
   "execution_count": 56,
   "metadata": {},
   "outputs": [
    {
     "data": {
      "text/plain": [
       "<tf.Tensor: shape=(2, 4), dtype=float32, numpy=\n",
       "array([[ 0.7,  0.3, -0.3, -0.1],\n",
       "       [ 0.7,  0.2, -0.3, -0.1]], dtype=float32)>"
      ]
     },
     "execution_count": 56,
     "metadata": {},
     "output_type": "execute_result"
    }
   ],
   "source": [
    "import tensorflow as tf\n",
    "import numpy as np\n",
    "p1=np.array([[0.7, 0.3, -0.3, -0.1],[0.7, 0.2, -0.3, -0.1]])\n",
    "tf.cast(p1, tf.float32)"
   ]
  },
  {
   "cell_type": "code",
   "execution_count": 57,
   "metadata": {},
   "outputs": [
    {
     "data": {
      "text/plain": [
       "array([[ 0.7,  0.3, -0.3, -0.1],\n",
       "       [ 0.7,  0.2, -0.3, -0.1]])"
      ]
     },
     "execution_count": 57,
     "metadata": {},
     "output_type": "execute_result"
    }
   ],
   "source": [
    "p1"
   ]
  },
  {
   "cell_type": "code",
   "execution_count": 62,
   "metadata": {},
   "outputs": [
    {
     "name": "stdout",
     "output_type": "stream",
     "text": [
      "tf.Tensor(\n",
      "[[ 0.7 -0.3  0.3  0.1]\n",
      " [ 0.7 -0.2  0.3  0.1]], shape=(2, 4), dtype=float64)\n"
     ]
    }
   ],
   "source": [
    "# Ensure negative values for the specified columns\n",
    "p1_tf_modified = tf.concat([\n",
    "    p1[:, :1], \n",
    "    tf.negative(p1[:, 1:]) \n",
    "], axis=1)\n",
    "\n",
    "print(p1_tf_modified) "
   ]
  },
  {
   "cell_type": "code",
   "execution_count": 54,
   "metadata": {},
   "outputs": [
    {
     "data": {
      "text/plain": [
       "[0.7, 0.3, -0.3, -0.1]"
      ]
     },
     "execution_count": 54,
     "metadata": {},
     "output_type": "execute_result"
    }
   ],
   "source": [
    "p1[0]"
   ]
  },
  {
   "cell_type": "code",
   "execution_count": 40,
   "metadata": {},
   "outputs": [
    {
     "data": {
      "text/plain": [
       "[[0.7, 0.3, -0.3, -0.1],\n",
       " <tf.Tensor: shape=(1, 4), dtype=float32, numpy=array([[-0.7, -0.2,  0.3,  0.1]], dtype=float32)>]"
      ]
     },
     "execution_count": 40,
     "metadata": {},
     "output_type": "execute_result"
    }
   ],
   "source": [
    "[p1[0][:], tf.negative(p1[1:][:])]"
   ]
  },
  {
   "cell_type": "code",
   "execution_count": 27,
   "metadata": {},
   "outputs": [
    {
     "name": "stderr",
     "output_type": "stream",
     "text": [
      "2024-07-31 14:48:08.526147: W tensorflow/core/framework/local_rendezvous.cc:404] Local rendezvous is aborting with status: INVALID_ARGUMENT: ConcatOp : Ranks of all input tensors should match: shape[0] = [4] vs. shape[1] = [1,4]\n"
     ]
    },
    {
     "ename": "InvalidArgumentError",
     "evalue": "{{function_node __wrapped__ConcatV2_N_2_device_/job:localhost/replica:0/task:0/device:GPU:0}} ConcatOp : Ranks of all input tensors should match: shape[0] = [4] vs. shape[1] = [1,4] [Op:ConcatV2]",
     "output_type": "error",
     "traceback": [
      "\u001b[0;31m---------------------------------------------------------------------------\u001b[0m",
      "\u001b[0;31mInvalidArgumentError\u001b[0m                      Traceback (most recent call last)",
      "Cell \u001b[0;32mIn[27], line 1\u001b[0m\n\u001b[0;32m----> 1\u001b[0m result \u001b[38;5;241m=\u001b[39m \u001b[43mtf\u001b[49m\u001b[38;5;241;43m.\u001b[39;49m\u001b[43mconcat\u001b[49m\u001b[43m(\u001b[49m\u001b[43m[\u001b[49m\u001b[43mp1\u001b[49m\u001b[43m[\u001b[49m\u001b[43m:\u001b[49m\u001b[43m]\u001b[49m\u001b[43m[\u001b[49m\u001b[38;5;241;43m0\u001b[39;49m\u001b[43m]\u001b[49m\u001b[43m,\u001b[49m\u001b[43m \u001b[49m\u001b[43mp1\u001b[49m\u001b[43m[\u001b[49m\u001b[43m:\u001b[49m\u001b[43m]\u001b[49m\u001b[43m[\u001b[49m\u001b[38;5;241;43m1\u001b[39;49m\u001b[43m:\u001b[49m\u001b[43m]\u001b[49m\u001b[43m]\u001b[49m\u001b[43m,\u001b[49m\u001b[43m \u001b[49m\u001b[43maxis\u001b[49m\u001b[38;5;241;43m=\u001b[39;49m\u001b[38;5;241;43m0\u001b[39;49m\u001b[43m)\u001b[49m\n",
      "File \u001b[0;32m/software/pc24403/miniconda3/envs/tfdev/lib/python3.12/site-packages/tensorflow/python/util/traceback_utils.py:153\u001b[0m, in \u001b[0;36mfilter_traceback.<locals>.error_handler\u001b[0;34m(*args, **kwargs)\u001b[0m\n\u001b[1;32m    151\u001b[0m \u001b[38;5;28;01mexcept\u001b[39;00m \u001b[38;5;167;01mException\u001b[39;00m \u001b[38;5;28;01mas\u001b[39;00m e:\n\u001b[1;32m    152\u001b[0m   filtered_tb \u001b[38;5;241m=\u001b[39m _process_traceback_frames(e\u001b[38;5;241m.\u001b[39m__traceback__)\n\u001b[0;32m--> 153\u001b[0m   \u001b[38;5;28;01mraise\u001b[39;00m e\u001b[38;5;241m.\u001b[39mwith_traceback(filtered_tb) \u001b[38;5;28;01mfrom\u001b[39;00m \u001b[38;5;28;01mNone\u001b[39;00m\n\u001b[1;32m    154\u001b[0m \u001b[38;5;28;01mfinally\u001b[39;00m:\n\u001b[1;32m    155\u001b[0m   \u001b[38;5;28;01mdel\u001b[39;00m filtered_tb\n",
      "File \u001b[0;32m/software/pc24403/miniconda3/envs/tfdev/lib/python3.12/site-packages/tensorflow/python/eager/execute.py:53\u001b[0m, in \u001b[0;36mquick_execute\u001b[0;34m(op_name, num_outputs, inputs, attrs, ctx, name)\u001b[0m\n\u001b[1;32m     51\u001b[0m \u001b[38;5;28;01mtry\u001b[39;00m:\n\u001b[1;32m     52\u001b[0m   ctx\u001b[38;5;241m.\u001b[39mensure_initialized()\n\u001b[0;32m---> 53\u001b[0m   tensors \u001b[38;5;241m=\u001b[39m pywrap_tfe\u001b[38;5;241m.\u001b[39mTFE_Py_Execute(ctx\u001b[38;5;241m.\u001b[39m_handle, device_name, op_name,\n\u001b[1;32m     54\u001b[0m                                       inputs, attrs, num_outputs)\n\u001b[1;32m     55\u001b[0m \u001b[38;5;28;01mexcept\u001b[39;00m core\u001b[38;5;241m.\u001b[39m_NotOkStatusException \u001b[38;5;28;01mas\u001b[39;00m e:\n\u001b[1;32m     56\u001b[0m   \u001b[38;5;28;01mif\u001b[39;00m name \u001b[38;5;129;01mis\u001b[39;00m \u001b[38;5;129;01mnot\u001b[39;00m \u001b[38;5;28;01mNone\u001b[39;00m:\n",
      "\u001b[0;31mInvalidArgumentError\u001b[0m: {{function_node __wrapped__ConcatV2_N_2_device_/job:localhost/replica:0/task:0/device:GPU:0}} ConcatOp : Ranks of all input tensors should match: shape[0] = [4] vs. shape[1] = [1,4] [Op:ConcatV2]"
     ]
    }
   ],
   "source": [
    "result = tf.concat([p1[:][0], p1[:][1:]], axis=0)\n"
   ]
  }
 ],
 "metadata": {
  "kernelspec": {
   "display_name": "tfdev",
   "language": "python",
   "name": "python3"
  },
  "language_info": {
   "codemirror_mode": {
    "name": "ipython",
    "version": 3
   },
   "file_extension": ".py",
   "mimetype": "text/x-python",
   "name": "python",
   "nbconvert_exporter": "python",
   "pygments_lexer": "ipython3",
   "version": "3.12.3"
  }
 },
 "nbformat": 4,
 "nbformat_minor": 2
}
