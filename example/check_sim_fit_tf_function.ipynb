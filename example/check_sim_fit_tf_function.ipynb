{
 "cells": [
  {
   "cell_type": "code",
   "execution_count": 1,
   "metadata": {},
   "outputs": [
    {
     "name": "stdout",
     "output_type": "stream",
     "text": [
      "Num GPUs Available:  1\n",
      "INFO: Loading the amplitude model\n",
      "D0ToKSpipi2018 (Apr 30 2024) ==> Initialization !\n"
     ]
    }
   ],
   "source": [
    "import uproot as up\n",
    "import numpy as np\n",
    "import time\n",
    "import iminuit\n",
    "from iminuit import Minuit\n",
    "from iminuit.cost import ExtendedUnbinnedNLL\n",
    "from iminuit.cost import UnbinnedNLL\n",
    "from scipy.optimize import minimize\n",
    "import os\n",
    "os.environ['TF_CPP_MIN_LOG_LEVEL']='3' \n",
    "os.environ[\"CUDA_DEVICE_ORDER\"]=\"PCI_BUS_ID\"  \n",
    "os.environ[\"CUDA_VISIBLE_DEVICES\"]=\"3\"\n",
    "import matplotlib.pyplot as plt\n",
    "import sys\n",
    "import tensorflow as tf\n",
    "from multiprocessing import Pool\n",
    "import multiprocessing\n",
    "\n",
    "print(\"Num GPUs Available: \", len(tf.config.list_physical_devices('GPU')))\n",
    "\n",
    "sys.path.append('/software/pc24403/tfpcbpggsz/amp_ampgen')\n",
    "from D0ToKSpipi2018 import *\n",
    "\n",
    "Kspipi = PyD0ToKSpipi2018()\n",
    "Kspipi.init()\n",
    "print('INFO: Loading the amplitude model')\n",
    "\n",
    "\n"
   ]
  },
  {
   "cell_type": "markdown",
   "metadata": {},
   "source": [
    "# Mass shape"
   ]
  },
  {
   "cell_type": "code",
   "execution_count": 2,
   "metadata": {},
   "outputs": [],
   "source": [
    "sys.path.append('/software/pc24403/tfpcbpggsz/func')\n",
    "\n",
    "from tfmassshape import *\n",
    "def preparePdf_data(Bu_M, varDict, mode='b2dk_LL'):\n",
    "    '''\n",
    "    Import constructed data sets and construct PDFs with RooFit functions.\n",
    "    PDFs and data sets are saved together in a new RooWorkspace\n",
    "\n",
    "    Args:\n",
    "        configDict: a dictionary containing the values of PDF shape parameters\n",
    "        year: which subset of data to fit, can be any single year of data taking,\n",
    "              or 'Run1', 'Run2', 'All'.\n",
    "    ''' \n",
    "\n",
    "    pdfList = {}\n",
    "\n",
    "    print('--- Constructing signal pdfs...')\n",
    "    varDict['DD_dk_Gauss_frac'] = 1 - varDict['DD_dk_Cruijff_frac']\n",
    "    varDict['DD_dpi_Gauss_frac'] = 1- varDict['DD_dpi_Cruijff_frac']\n",
    "    varDict['LL_dk_Gauss_frac'] = 1 - varDict['LL_dk_Cruijff_frac']\n",
    "    varDict['LL_dpi_Gauss_frac'] = 1 - varDict['LL_dpi_Cruijff_frac']\n",
    "\n",
    "    pdf_sig_Cruijff_DK_KsPiPi_DD  = lambda Bu_M: CruijffExtended(Bu_M, varDict['signal_mean'], varDict['sigma_dk_DD'], varDict['sigma_dk_DD'], varDict['DD_dk_Cruijff_alpha_L'], varDict['DD_dk_Cruijff_alpha_R'], varDict['Cruijff_beta'])\n",
    "    pdf_sig_Gauss_DK_KsPiPi_DD    = lambda Bu_M: Gaussian(Bu_M, varDict['signal_mean'], varDict['sigma_dk_DD'])\n",
    "\n",
    "    pdf_sig_Cruijff_DPi_KsPiPi_DD = lambda Bu_M: CruijffExtended(Bu_M, varDict['signal_mean'], varDict['sigma_dpi_DD'], varDict['sigma_dpi_DD'], varDict['DD_dpi_Cruijff_alpha_L'], varDict['DD_dpi_Cruijff_alpha_R'], varDict['Cruijff_beta'])\n",
    "    pdf_sig_Gauss_DPi_KsPiPi_DD   = lambda Bu_M: Gaussian(Bu_M, varDict['signal_mean'], varDict['sigma_dpi_DD'])\n",
    "    pdf_sig_Cruijff_DK_KsPiPi_LL  = lambda Bu_M: CruijffExtended(Bu_M, varDict['signal_mean'], varDict['sigma_dk_LL'], varDict['sigma_dk_LL'], varDict['LL_dk_Cruijff_alpha_L'], varDict['LL_dk_Cruijff_alpha_R'], varDict['Cruijff_beta'])\n",
    "    pdf_sig_Gauss_DK_KsPiPi_LL    = lambda Bu_M: Gaussian(Bu_M, varDict['signal_mean'], varDict['sigma_dk_LL'])\n",
    "    pdf_sig_Cruijff_DPi_KsPiPi_LL = lambda Bu_M: CruijffExtended(Bu_M, varDict['signal_mean'], varDict['sigma_dpi_LL'], varDict['sigma_dpi_LL'], varDict['LL_dpi_Cruijff_alpha_L'], varDict['LL_dpi_Cruijff_alpha_R'], varDict['Cruijff_beta'])\n",
    "    pdf_sig_Gauss_DPi_KsPiPi_LL   = lambda Bu_M: Gaussian(Bu_M, varDict['signal_mean'], varDict['sigma_dpi_LL'])\n",
    "\n",
    "\n",
    "    if mode == 'b2dk_LL':\n",
    "        pdfList['sig'] = lambda Bu_M: (norm_pdf(Bu_M, pdf_sig_Cruijff_DK_KsPiPi_LL) * varDict['LL_dk_Cruijff_frac'] +  norm_pdf(Bu_M, pdf_sig_Gauss_DK_KsPiPi_LL) * varDict['LL_dk_Gauss_frac'])\n",
    "    elif mode == 'b2dpi_LL':\n",
    "        pdfList['sig'] = lambda Bu_M: (norm_pdf(Bu_M, pdf_sig_Cruijff_DPi_KsPiPi_LL) * varDict['LL_dpi_Cruijff_frac'] +   norm_pdf(Bu_M, pdf_sig_Gauss_DPi_KsPiPi_LL) *  varDict['LL_dpi_Gauss_frac'])\n",
    "    elif mode == 'b2dk_DD':\n",
    "        pdfList['sig'] = lambda Bu_M: (norm_pdf(Bu_M, pdf_sig_Cruijff_DK_KsPiPi_DD) * varDict['DD_dk_Cruijff_frac'] +   norm_pdf(Bu_M, pdf_sig_Gauss_DK_KsPiPi_DD) *  varDict['DD_dk_Gauss_frac'])\n",
    "    elif mode == 'b2dpi_DD':\n",
    "        pdfList['sig'] = lambda Bu_M: (norm_pdf(Bu_M, pdf_sig_Cruijff_DPi_KsPiPi_DD) * varDict['DD_dpi_Cruijff_frac'] +  norm_pdf(Bu_M, pdf_sig_Gauss_DPi_KsPiPi_DD) * varDict['DD_dpi_Gauss_frac'])    \n",
    " \n",
    "\n",
    "    print('--- Constructing misID pdfs...')\n",
    "    pdf_misid_CB1_DK_KsPiPi_LL = lambda Bu_M: CBShape(Bu_M, varDict['LL_d2kspp_dpi_to_dk_misID_mean1'], varDict['LL_d2kspp_dpi_to_dk_misID_width1'], varDict['LL_d2kspp_dpi_to_dk_misID_alpha1'], varDict['LL_d2kspp_dpi_to_dk_misID_n1'])\n",
    "    pdf_misid_CB2_DK_KsPiPi_LL = lambda Bu_M: CBShape(Bu_M, varDict['LL_d2kspp_dpi_to_dk_misID_mean1'], varDict['LL_d2kspp_dpi_to_dk_misID_width2'], varDict['LL_d2kspp_dpi_to_dk_misID_alpha2'], varDict['LL_d2kspp_dpi_to_dk_misID_n1'])\n",
    "    pdf_misid_CB1_DK_KsPiPi_DD = lambda Bu_M: CBShape(Bu_M, varDict['DD_d2kspp_dpi_to_dk_misID_mean1'], varDict['DD_d2kspp_dpi_to_dk_misID_width1'], varDict['DD_d2kspp_dpi_to_dk_misID_alpha1'], varDict['DD_d2kspp_dpi_to_dk_misID_n1'])\n",
    "    pdf_misid_CB2_DK_KsPiPi_DD = lambda Bu_M: CBShape(Bu_M, varDict['DD_d2kspp_dpi_to_dk_misID_mean1'], varDict['DD_d2kspp_dpi_to_dk_misID_width2'], varDict['DD_d2kspp_dpi_to_dk_misID_alpha2'], varDict['DD_d2kspp_dpi_to_dk_misID_n1'])\n",
    "    pdf_misid_CB_DPi_KsPiPi_DD = lambda Bu_M: CBShape(Bu_M, varDict['DD_dk_to_dpi_misID_mean1'], varDict['DD_dk_to_dpi_misID_width1'], varDict['DD_dk_to_dpi_misID_alpha1'], varDict['DD_dk_to_dpi_misID_n1'])\n",
    "    pdf_misid_CB_DPi_KsPiPi_LL = lambda Bu_M: CBShape(Bu_M, varDict['LL_dk_to_dpi_misID_mean1'], varDict['LL_dk_to_dpi_misID_width1'], varDict['LL_dk_to_dpi_misID_alpha1'], varDict['LL_dk_to_dpi_misID_n1'])\n",
    "    if mode == 'b2dk_LL':\n",
    "        pdfList['misid'] = lambda Bu_M: (norm_pdf(Bu_M, pdf_misid_CB1_DK_KsPiPi_LL) * varDict['LL_d2kspp_dpi_to_dk_misID_frac1'] + norm_pdf(Bu_M, pdf_misid_CB2_DK_KsPiPi_LL) * varDict['LL_d2kspp_dpi_to_dk_misID_frac2'])\n",
    "    elif mode == 'b2dk_DD':\n",
    "        pdfList['misid'] = lambda Bu_M: (norm_pdf(Bu_M, pdf_misid_CB1_DK_KsPiPi_DD) * varDict['DD_d2kspp_dpi_to_dk_misID_frac1'] + norm_pdf(Bu_M, pdf_misid_CB2_DK_KsPiPi_DD) * varDict['DD_d2kspp_dpi_to_dk_misID_frac2'])\n",
    "    elif mode == 'b2dpi_LL':\n",
    "        pdfList['misid'] = lambda Bu_M: norm_pdf(Bu_M, pdf_misid_CB_DPi_KsPiPi_LL) \n",
    "    elif mode == 'b2dpi_DD':\n",
    "        pdfList['misid'] = lambda Bu_M: norm_pdf(Bu_M, pdf_misid_CB_DPi_KsPiPi_DD)\n",
    "\n",
    "    print('--- Constructing low-mass pdfs...')\n",
    "    varDict['low_sigma_k_DD'] = varDict['low_sigma_pi_DD']/varDict['low_sigma_pi_over_k_ratio']\n",
    "    varDict['low_sigma_k_LL'] = varDict['low_sigma_pi_LL']/varDict['low_sigma_pi_over_k_ratio']\n",
    "    varDict['low_sigma_gamma_dk'] = varDict['low_sigma_gamma']/varDict['low_sigma_pi_over_k_ratio_gamma']\n",
    "\n",
    "    # B2Dsth (missing pi)\n",
    "    pdf_Bu_Dstar0h_D0pi0_DPi_KsPiPi_LL = lambda Bu_M: HORNSdini(Bu_M, varDict['low_a_Bu_Dstar0h_D0pi0_dpi'], varDict['low_b_Bu_Dstar0h_D0pi0_dpi'], varDict['low_csi_pi'], varDict['low_global_shift'], varDict['low_sigma_pi_LL'], varDict['low_ratio_pi'], varDict['low_f_pi'])\n",
    "    pdf_Bu_Dstar0h_D0pi0_DPi_KsPiPi_DD = lambda Bu_M: HORNSdini(Bu_M, varDict['low_a_Bu_Dstar0h_D0pi0_dpi'], varDict['low_b_Bu_Dstar0h_D0pi0_dpi'], varDict['low_csi_pi'], varDict['low_global_shift'], varDict['low_sigma_pi_DD'], varDict['low_ratio_pi'], varDict['low_f_pi'])\n",
    "    pdf_Bd_Dstarph_D0pi_DPi_KsPiPi_LL  = lambda Bu_M: HORNSdini(Bu_M, varDict['low_a_Bd_Dstarph_D0pi_dpi'],  varDict['low_b_Bd_Dstarph_D0pi_dpi'],  varDict['low_csi_pi'], varDict['low_global_shift'], varDict['low_sigma_pi_LL'], varDict['low_ratio_pi'], varDict['low_f_pi'])\n",
    "    pdf_Bd_Dstarph_D0pi_DPi_KsPiPi_DD  = lambda Bu_M: HORNSdini(Bu_M, varDict['low_a_Bd_Dstarph_D0pi_dpi'],  varDict['low_b_Bd_Dstarph_D0pi_dpi'],  varDict['low_csi_pi'], varDict['low_global_shift'], varDict['low_sigma_pi_DD'], varDict['low_ratio_pi'], varDict['low_f_pi'])\n",
    "    pdf_Bu_Dstar0h_D0pi0_DK_KsPiPi_LL  = lambda Bu_M: HORNSdini(Bu_M, varDict['low_a_Bu_Dstar0h_D0pi0_dk'],  varDict['low_b_Bu_Dstar0h_D0pi0_dk'],  varDict['low_csi_pi'], varDict['low_global_shift'], varDict['low_sigma_k_LL'],  varDict['low_ratio_pi'], varDict['low_f_pi'])\n",
    "    pdf_Bu_Dstar0h_D0pi0_DK_KsPiPi_DD  = lambda Bu_M: HORNSdini(Bu_M, varDict['low_a_Bu_Dstar0h_D0pi0_dk'],  varDict['low_b_Bu_Dstar0h_D0pi0_dk'],  varDict['low_csi_pi'], varDict['low_global_shift'], varDict['low_sigma_k_DD'],  varDict['low_ratio_pi'], varDict['low_f_pi'])\n",
    "    pdf_Bd_Dstarph_D0pi_DK_KsPiPi_LL   = lambda Bu_M: HORNSdini(Bu_M, varDict['low_a_Bd_Dstarph_D0pi_dk'],   varDict['low_b_Bd_Dstarph_D0pi_dk'],   varDict['low_csi_pi'], varDict['low_global_shift'], varDict['low_sigma_k_LL'],  varDict['low_ratio_pi'], varDict['low_f_pi'])\n",
    "    pdf_Bd_Dstarph_D0pi_DK_KsPiPi_DD   = lambda Bu_M: HORNSdini(Bu_M, varDict['low_a_Bd_Dstarph_D0pi_dk'],   varDict['low_b_Bd_Dstarph_D0pi_dk'],   varDict['low_csi_pi'], varDict['low_global_shift'], varDict['low_sigma_k_DD'],  varDict['low_ratio_pi'], varDict['low_f_pi'])\n",
    "    # DK misid\n",
    "    pdf_low_misID_Bu_Dstar0h_D0pi0_DK_KsPiPi_LL = lambda Bu_M: HORNSdini_misID(Bu_M, varDict['low_a_Bu_Dstar0h_D0pi0_dk'], varDict['low_b_Bu_Dstar0h_D0pi0_dk'], varDict['low_csi_pi'], varDict['m1pi_LL'], varDict['s1pi_LL'], varDict['m2pi_LL'], varDict['s2pi_LL'], varDict['m3pi_LL'], varDict['s3pi_LL'], varDict['m4pi_LL'], varDict['s4pi_LL'], varDict['f1pi_LL'], varDict['f2pi_LL'], varDict['f3pi_LL'])\n",
    "    pdf_low_misID_Bu_Dstar0h_D0pi0_DK_KsPiPi_DD = lambda Bu_M: HORNSdini_misID(Bu_M, varDict['low_a_Bu_Dstar0h_D0pi0_dk'], varDict['low_b_Bu_Dstar0h_D0pi0_dk'], varDict['low_csi_pi'], varDict['m1pi_DD'], varDict['s1pi_DD'], varDict['m2pi_DD'], varDict['s2pi_DD'], varDict['m3pi_DD'], varDict['s3pi_DD'], varDict['m4pi_DD'], varDict['s4pi_DD'], varDict['f1pi_DD'], varDict['f2pi_DD'], varDict['f3pi_DD'])\n",
    "    pdf_low_misID_Bd_Dstarph_D0pi_DK_KsPiPi_LL  = lambda Bu_M: HORNSdini_misID(Bu_M, varDict['low_a_Bd_Dstarph_D0pi_dk'],  varDict['low_b_Bd_Dstarph_D0pi_dk'],  varDict['low_csi_pi'], varDict['m1pi_LL'], varDict['s1pi_LL'], varDict['m2pi_LL'], varDict['s2pi_LL'], varDict['m3pi_LL'], varDict['s3pi_LL'], varDict['m4pi_LL'], varDict['s4pi_LL'], varDict['f1pi_LL'], varDict['f2pi_LL'], varDict['f3pi_LL'])\n",
    "    pdf_low_misID_Bd_Dstarph_D0pi_DK_KsPiPi_DD  = lambda Bu_M: HORNSdini_misID(Bu_M, varDict['low_a_Bd_Dstarph_D0pi_dk'],  varDict['low_b_Bd_Dstarph_D0pi_dk'],  varDict['low_csi_pi'], varDict['m1pi_DD'], varDict['s1pi_DD'], varDict['m2pi_DD'], varDict['s2pi_DD'], varDict['m3pi_DD'], varDict['s3pi_DD'], varDict['m4pi_DD'], varDict['s4pi_DD'], varDict['f1pi_DD'], varDict['f2pi_DD'], varDict['f3pi_DD'])\n",
    "    # DPi misid\n",
    "    pdf_low_misID_Bu_Dstar0h_D0pi0_DPi_KsPiPi_LL = lambda Bu_M: HORNSdini_misID(Bu_M, varDict['low_a_Bu_Dstar0h_D0pi0_dpi'], varDict['low_b_Bu_Dstar0h_D0pi0_dpi'], varDict['low_csi_pi'], varDict['m1pi_pi_LL'], varDict['s1pi_pi_LL'], varDict['m2pi_pi_LL'], varDict['s2pi_pi_LL'], varDict['m3pi_pi_LL'], varDict['s3pi_pi_LL'], varDict['m4pi_pi_LL'], varDict['s4pi_pi_LL'], varDict['f1pi_pi_LL'], varDict['f2pi_pi_LL'], varDict['f3pi_pi_LL'])\n",
    "    pdf_low_misID_Bu_Dstar0h_D0pi0_DPi_KsPiPi_DD = lambda Bu_M: HORNSdini_misID(Bu_M, varDict['low_a_Bu_Dstar0h_D0pi0_dpi'], varDict['low_b_Bu_Dstar0h_D0pi0_dpi'], varDict['low_csi_pi'], varDict['m1pi_pi_DD'], varDict['s1pi_pi_DD'], varDict['m2pi_pi_DD'], varDict['s2pi_pi_DD'], varDict['m3pi_pi_DD'], varDict['s3pi_pi_DD'], varDict['m4pi_pi_DD'], varDict['s4pi_pi_DD'], varDict['f1pi_pi_DD'], varDict['f2pi_pi_DD'], varDict['f3pi_pi_DD'])\n",
    "    pdf_low_misID_Bd_Dstarph_D0pi_DPi_KsPiPi_LL  = lambda Bu_M: HORNSdini_misID(Bu_M, varDict['low_a_Bd_Dstarph_D0pi_dpi'],  varDict['low_b_Bu_Dstar0h_D0pi0_dpi'], varDict['low_csi_pi'], varDict['m1pi_pi_LL'], varDict['s1pi_pi_LL'], varDict['m2pi_pi_LL'], varDict['s2pi_pi_LL'], varDict['m3pi_pi_LL'], varDict['s3pi_pi_LL'], varDict['m4pi_pi_LL'], varDict['s4pi_pi_LL'], varDict['f1pi_pi_LL'], varDict['f2pi_pi_LL'], varDict['f3pi_pi_LL'])\n",
    "    pdf_low_misID_Bd_Dstarph_D0pi_DPi_KsPiPi_DD  = lambda Bu_M: HORNSdini_misID(Bu_M, varDict['low_a_Bd_Dstarph_D0pi_dpi'],  varDict['low_b_Bu_Dstar0h_D0pi0_dpi'], varDict['low_csi_pi'], varDict['m1pi_pi_DD'], varDict['s1pi_pi_DD'], varDict['m2pi_pi_DD'], varDict['s2pi_pi_DD'], varDict['m3pi_pi_DD'], varDict['s3pi_pi_DD'], varDict['m4pi_pi_DD'], varDict['s4pi_pi_DD'], varDict['f1pi_pi_DD'], varDict['f2pi_pi_DD'], varDict['f3pi_pi_DD'])\n",
    "    # B2Dsth (missing photon) \n",
    "    pdf_Bu_Dstar0h_D0gamma_DPi_KsPiPi_LL = lambda Bu_M: HILLdini(Bu_M, varDict['low_a_Bu_Dstar0h_D0gamma_dpi'], varDict['low_b_Bu_Dstar0h_D0gamma_dpi'], varDict['low_csi_gamma'], varDict['low_global_shift'], varDict['low_sigma_gamma'],    varDict['low_ratio_gamma'], varDict['low_f_gamma'])\n",
    "    pdf_Bu_Dstar0h_D0gamma_DPi_KsPiPi_DD = lambda Bu_M: HILLdini(Bu_M, varDict['low_a_Bu_Dstar0h_D0gamma_dpi'], varDict['low_b_Bu_Dstar0h_D0gamma_dpi'], varDict['low_csi_gamma'], varDict['low_global_shift'], varDict['low_sigma_gamma'],    varDict['low_ratio_gamma'], varDict['low_f_gamma'])\n",
    "    pdf_Bu_Dstar0h_D0gamma_DK_KsPiPi_LL  = lambda Bu_M: HILLdini(Bu_M, varDict['low_a_Bu_Dstar0h_D0gamma_dk'],  varDict['low_b_Bu_Dstar0h_D0gamma_dk'],  varDict['low_csi_gamma'], varDict['low_global_shift'], varDict['low_sigma_gamma_dk'], varDict['low_ratio_gamma'], varDict['low_f_gamma'])\n",
    "    pdf_Bu_Dstar0h_D0gamma_DK_KsPiPi_DD  = lambda Bu_M: HILLdini(Bu_M, varDict['low_a_Bu_Dstar0h_D0gamma_dk'],  varDict['low_b_Bu_Dstar0h_D0gamma_dk'],  varDict['low_csi_gamma'], varDict['low_global_shift'], varDict['low_sigma_gamma_dk'], varDict['low_ratio_gamma'], varDict['low_f_gamma'])\n",
    "    # DK misid\n",
    "    pdf_low_misID_Bu_Dstar0h_D0gamma_DK_KsPiPi_LL = lambda Bu_M: HILLdini_misID(Bu_M, varDict['low_a_Bu_Dstar0h_D0gamma_dk'], varDict['low_b_Bu_Dstar0h_D0gamma_dk'], varDict['low_csi_gamma'], varDict['m1ga'], varDict['s1ga'], varDict['m2ga'], varDict['s2ga'], varDict['m3ga'], varDict['s3ga'], varDict['m4ga'], varDict['s4ga'], varDict['f1ga'], varDict['f2ga'], varDict['f3ga'])\n",
    "    pdf_low_misID_Bu_Dstar0h_D0gamma_DK_KsPiPi_DD = lambda Bu_M: HILLdini_misID(Bu_M, varDict['low_a_Bu_Dstar0h_D0gamma_dk'], varDict['low_b_Bu_Dstar0h_D0gamma_dk'], varDict['low_csi_gamma'], varDict['m1ga'], varDict['s1ga'], varDict['m2ga'], varDict['s2ga'], varDict['m3ga'], varDict['s3ga'], varDict['m4ga'], varDict['s4ga'], varDict['f1ga'], varDict['f2ga'], varDict['f3ga'])\n",
    "    # DPi misid\n",
    "    pdf_low_misID_Bu_Dstar0h_D0gamma_DPi_KsPiPi_LL = lambda Bu_M: HILLdini_misID(Bu_M, varDict['low_a_Bu_Dstar0h_D0gamma_dpi'], varDict['low_b_Bu_Dstar0h_D0gamma_dpi'], varDict['low_csi_gamma'], varDict['m1ga_pi'], varDict['s1ga_pi'], varDict['m2ga_pi'], varDict['s2ga_pi'], varDict['m3ga_pi'], varDict['s3ga_pi'], varDict['m4ga_pi'], varDict['s4ga_pi'], varDict['f1ga_pi'], varDict['f2ga_pi'], varDict['f3ga_pi'])\n",
    "    pdf_low_misID_Bu_Dstar0h_D0gamma_DPi_KsPiPi_DD = lambda Bu_M: HILLdini_misID(Bu_M, varDict['low_a_Bu_Dstar0h_D0gamma_dpi'], varDict['low_b_Bu_Dstar0h_D0gamma_dpi'], varDict['low_csi_gamma'], varDict['m1ga_pi'], varDict['s1ga_pi'], varDict['m2ga_pi'], varDict['s2ga_pi'], varDict['m3ga_pi'], varDict['s3ga_pi'], varDict['m4ga_pi'], varDict['s4ga_pi'], varDict['f1ga_pi'], varDict['f2ga_pi'], varDict['f3ga_pi'])\n",
    "\n",
    "    # B2Dhpi\n",
    "    # DPi\n",
    "    pdf_B2Dpipi_1_DPi_KsPiPi_LL = lambda Bu_M: HORNSdini(Bu_M, varDict['low_a_I_B2Dpipi'],  varDict['low_b_I_B2Dpipi'],  varDict['low_csi_B2Dpipi'], varDict['low_global_shift'], varDict['low_sigma_I_B2Dpipi'],  varDict['low_ratio_B2Dpipi'], varDict['low_f_B2Dpipi'])\n",
    "    pdf_B2Dpipi_1_DPi_KsPiPi_DD = lambda Bu_M: HORNSdini(Bu_M, varDict['low_a_I_B2Dpipi'],  varDict['low_b_I_B2Dpipi'],  varDict['low_csi_B2Dpipi'], varDict['low_global_shift'], varDict['low_sigma_I_B2Dpipi'],  varDict['low_ratio_B2Dpipi'], varDict['low_f_B2Dpipi'])\n",
    "    pdf_B2Dpipi_2_DPi_KsPiPi_LL = lambda Bu_M: HORNSdini(Bu_M, varDict['low_a_II_B2Dpipi'], varDict['low_b_II_B2Dpipi'], varDict['low_csi_B2Dpipi'], varDict['low_global_shift'], varDict['low_sigma_II_B2Dpipi'], varDict['low_ratio_B2Dpipi'], varDict['low_f_B2Dpipi'])\n",
    "    pdf_B2Dpipi_2_DPi_KsPiPi_DD = lambda Bu_M: HORNSdini(Bu_M, varDict['low_a_II_B2Dpipi'], varDict['low_b_II_B2Dpipi'], varDict['low_csi_B2Dpipi'], varDict['low_global_shift'], varDict['low_sigma_II_B2Dpipi'], varDict['low_ratio_B2Dpipi'], varDict['low_f_B2Dpipi'])\n",
    "    pdf_B2Dpipi_DPi_KsPiPi_LL   = lambda Bu_M: norm_pdf(Bu_M, pdf_B2Dpipi_1_DPi_KsPiPi_LL) * varDict['low_frac_B2Dpipi'] + norm_pdf(Bu_M, pdf_B2Dpipi_2_DPi_KsPiPi_LL) * (1- varDict['low_frac_B2Dpipi'])\n",
    "    pdf_B2Dpipi_DPi_KsPiPi_DD   = lambda Bu_M: norm_pdf(Bu_M, pdf_B2Dpipi_1_DPi_KsPiPi_DD) * varDict['low_frac_B2Dpipi'] + norm_pdf(Bu_M, pdf_B2Dpipi_2_DPi_KsPiPi_DD) * (1- varDict['low_frac_B2Dpipi'])\n",
    "    # DK\n",
    "    pdf_B2DKpi_1_DK_KsPiPi_LL = lambda Bu_M: HORNSdini(Bu_M, varDict['low_a_B2DKpi'], varDict['low_b_B2DKpi'], varDict['low_csi_B2DKpi'], varDict['low_global_shift'], varDict['low_sigma_B2DKpi'], varDict['low_ratio_B2DKpi'], varDict['low_f_B2DKpi'])\n",
    "    pdf_B2DKpi_1_DK_KsPiPi_DD = lambda Bu_M: HORNSdini(Bu_M, varDict['low_a_B2DKpi'], varDict['low_b_B2DKpi'], varDict['low_csi_B2DKpi'], varDict['low_global_shift'], varDict['low_sigma_B2DKpi'], varDict['low_ratio_B2DKpi'], varDict['low_f_B2DKpi'])\n",
    "    pdf_B2DKpi_2_DK_KsPiPi_LL = lambda Bu_M: Gaussian(Bu_M, varDict['low_mu_B2DKpi'], varDict['low_sigma_gaus_B2DKpi'])\n",
    "    pdf_B2DKpi_2_DK_KsPiPi_DD = lambda Bu_M: Gaussian(Bu_M, varDict['low_mu_B2DKpi'], varDict['low_sigma_gaus_B2DKpi'])\n",
    "    pdf_B2DKpi_DK_KsPiPi_LL   = lambda Bu_M: norm_pdf(Bu_M, pdf_B2DKpi_1_DK_KsPiPi_LL) * varDict['low_frac_B2DKpi'] + pdf_B2DKpi_2_DK_KsPiPi_LL(Bu_M) * (1- varDict['low_frac_B2DKpi'])\n",
    "    pdf_B2DKpi_DK_KsPiPi_DD   = lambda Bu_M: norm_pdf(Bu_M, pdf_B2DKpi_1_DK_KsPiPi_DD) * varDict['low_frac_B2DKpi'] + pdf_B2DKpi_2_DK_KsPiPi_DD(Bu_M) * (1- varDict['low_frac_B2DKpi'])\n",
    "    # DK misid\n",
    "    pdf_low_misID_B2Dpipi_DK_KsPiPi_LL = lambda Bu_M: HORNSdini_misID(Bu_M, varDict['low_a_B2Dpipi_misID'], varDict['low_b_B2Dpipi_misID'], varDict['low_csi_B2Dpipi'], varDict['low_m1_B2Dpipi_misID'], varDict['low_s1_B2Dpipi_misID'], varDict['low_m2_B2Dpipi_misID'], varDict['low_s2_B2Dpipi_misID'], varDict['low_m3_B2Dpipi_misID'], varDict['low_s3_B2Dpipi_misID'], varDict['low_m4_B2Dpipi_misID'], varDict['low_s4_B2Dpipi_misID'], varDict['low_f1_B2Dpipi_misID'], varDict['low_f2_B2Dpipi_misID'], varDict['low_f3_B2Dpipi_misID'])\n",
    "    pdf_low_misID_B2Dpipi_DK_KsPiPi_DD = lambda Bu_M: HORNSdini_misID(Bu_M, varDict['low_a_B2Dpipi_misID'], varDict['low_b_B2Dpipi_misID'], varDict['low_csi_B2Dpipi'], varDict['low_m1_B2Dpipi_misID'], varDict['low_s1_B2Dpipi_misID'], varDict['low_m2_B2Dpipi_misID'], varDict['low_s2_B2Dpipi_misID'], varDict['low_m3_B2Dpipi_misID'], varDict['low_s3_B2Dpipi_misID'], varDict['low_m4_B2Dpipi_misID'], varDict['low_s4_B2Dpipi_misID'], varDict['low_f1_B2Dpipi_misID'], varDict['low_f2_B2Dpipi_misID'], varDict['low_f3_B2Dpipi_misID'])\n",
    "\n",
    "    # Bs pdf\n",
    "    pdf_low_Bs2DKPi_DK_KsPiPi_LL = lambda Bu_M: HORNSdini(Bu_M, varDict['low_a_Bs2DKpi'], varDict['low_b_Bs2DKpi'], varDict['low_csi_Bs2DKpi'], varDict['low_global_shift'], varDict['low_sigma_Bs2DKpi'], varDict['low_ratio_Bs2DKpi'], varDict['low_f_Bs2DKpi'])\n",
    "    pdf_low_Bs2DKPi_DK_KsPiPi_DD = lambda Bu_M: HORNSdini(Bu_M, varDict['low_a_Bs2DKpi'], varDict['low_b_Bs2DKpi'], varDict['low_csi_Bs2DKpi'], varDict['low_global_shift'], varDict['low_sigma_Bs2DKpi'], varDict['low_ratio_Bs2DKpi'], varDict['low_f_Bs2DKpi'])\n",
    "\n",
    "    if mode == 'b2dk_LL':\n",
    "        pdfList['low_Bs2DKPi'] = lambda Bu_M: norm_pdf(Bu_M,pdf_low_Bs2DKPi_DK_KsPiPi_LL)\n",
    "    elif mode == 'b2dk_DD':\n",
    "        pdfList['low_Bs2DKPi'] = lambda Bu_M: norm_pdf(Bu_M, pdf_low_Bs2DKPi_DK_KsPiPi_DD)\n",
    "\n",
    "\n",
    "    # Combine: with fractions\n",
    "    if 'frac_low_Bu_Dstar0h_D0pi0_DPi' in varDict.keys():\n",
    "        # Combine: DPi lowmass\n",
    "        pdf_low_dpi_DPi_KsPiPi_LL = lambda Bu_M: varDict['frac_low_Bu_Dstar0h_D0pi0_DPi']*norm_pdf(Bu_M, pdf_Bu_Dstar0h_D0pi0_DPi_KsPiPi_LL) + varDict['frac_low_Bd_Dstarph_D0pi_DPi']* norm_pdf(Bu_M, pdf_Bd_Dstarph_D0pi_DPi_KsPiPi_LL) + varDict['frac_low_Bu_Dstar0h_D0gamma_DPi'] * norm_pdf(Bu_M, pdf_Bu_Dstar0h_D0gamma_DPi_KsPiPi_LL) + varDict['frac_low_B2Dpipi_DPi'] * norm_pdf(Bu_M, pdf_B2Dpipi_DPi_KsPiPi_LL)\n",
    "        pdf_low_dpi_DPi_KsPiPi_DD = lambda Bu_M: varDict['frac_low_Bu_Dstar0h_D0pi0_DPi']*norm_pdf(Bu_M, pdf_Bu_Dstar0h_D0pi0_DPi_KsPiPi_DD) + varDict['frac_low_Bd_Dstarph_D0pi_DPi']* norm_pdf(Bu_M, pdf_Bd_Dstarph_D0pi_DPi_KsPiPi_DD) + varDict['frac_low_Bu_Dstar0h_D0gamma_DPi'] * norm_pdf(Bu_M, pdf_Bu_Dstar0h_D0gamma_DPi_KsPiPi_DD) + varDict['frac_low_B2Dpipi_DPi'] * norm_pdf(Bu_M, pdf_B2Dpipi_DPi_KsPiPi_DD)\n",
    "        # Combine: DK lowmass\n",
    "        pdf_low_dk_DK_KsPiPi_LL = lambda Bu_M: varDict['frac_low_Bu_Dstar0h_D0pi0_DK']*norm_pdf(Bu_M, pdf_Bu_Dstar0h_D0pi0_DK_KsPiPi_LL) + varDict['frac_low_Bd_Dstarph_D0pi_DK']* norm_pdf(Bu_M, pdf_Bd_Dstarph_D0pi_DK_KsPiPi_LL) + varDict['frac_low_Bu_Dstar0h_D0gamma_DK']* norm_pdf(Bu_M, pdf_Bu_Dstar0h_D0gamma_DK_KsPiPi_LL) + varDict['frac_low_B2DKpi_DK']* norm_pdf(Bu_M, pdf_B2DKpi_DK_KsPiPi_LL)\n",
    "\n",
    "        pdf_low_dk_DK_KsPiPi_DD = lambda Bu_M: varDict['frac_low_Bu_Dstar0h_D0pi0_DK']*norm_pdf(Bu_M, pdf_Bu_Dstar0h_D0pi0_DK_KsPiPi_DD) + varDict['frac_low_Bd_Dstarph_D0pi_DK']* norm_pdf(Bu_M, pdf_Bd_Dstarph_D0pi_DK_KsPiPi_DD) + varDict['frac_low_Bu_Dstar0h_D0gamma_DK'] * norm_pdf(Bu_M, pdf_Bu_Dstar0h_D0gamma_DK_KsPiPi_DD) + varDict['frac_low_B2DKpi_DK']* norm_pdf(Bu_M, pdf_B2DKpi_DK_KsPiPi_DD)\n",
    "        # Combine: DK misid\n",
    "        pdf_low_misID_DK_KsPiPi_LL = lambda Bu_M: varDict['frac_low_misID_Bu_Dstar0h_D0pi0_DK']* norm_pdf(Bu_M, pdf_low_misID_Bu_Dstar0h_D0pi0_DK_KsPiPi_LL) + varDict['frac_low_misID_Bd_Dstarph_D0pi_DK']* norm_pdf(Bu_M, pdf_low_misID_Bd_Dstarph_D0pi_DK_KsPiPi_LL) + varDict['frac_low_misID_Bu_Dstar0h_D0gamma_DK']* norm_pdf(Bu_M, pdf_low_misID_Bu_Dstar0h_D0gamma_DK_KsPiPi_LL) + varDict['frac_low_misID_B2Dpipi_DK']* norm_pdf(Bu_M, pdf_low_misID_B2Dpipi_DK_KsPiPi_LL)\n",
    "        pdf_low_misID_DK_KsPiPi_DD = lambda Bu_M: varDict['frac_low_misID_Bu_Dstar0h_D0pi0_DK']* norm_pdf(Bu_M, pdf_low_misID_Bu_Dstar0h_D0pi0_DK_KsPiPi_DD) + varDict['frac_low_misID_Bd_Dstarph_D0pi_DK']* norm_pdf(Bu_M, pdf_low_misID_Bd_Dstarph_D0pi_DK_KsPiPi_DD) + varDict['frac_low_misID_Bu_Dstar0h_D0gamma_DK']* norm_pdf(Bu_M, pdf_low_misID_Bu_Dstar0h_D0gamma_DK_KsPiPi_DD) + varDict['frac_low_misID_B2Dpipi_DK']* norm_pdf(Bu_M, pdf_low_misID_B2Dpipi_DK_KsPiPi_DD)\n",
    "    else:\n",
    "        # Combine: DPi lowmass\n",
    "        pdf_low_dst2dpi_DPi_KsPiPi_LL = lambda Bu_M: norm_pdf(Bu_M, pdf_Bd_Dstarph_D0pi_DPi_KsPiPi_LL) * varDict['low_dpi_ratio_Bd_dst_vs_Bu_dst'] + (1 - varDict['low_dpi_ratio_Bd_dst_vs_Bu_dst']) *norm_pdf(Bu_M, pdf_Bu_Dstar0h_D0pi0_DPi_KsPiPi_LL)\n",
    "        pdf_low_dst2dpi_DPi_KsPiPi_DD = lambda Bu_M: norm_pdf(Bu_M, pdf_Bd_Dstarph_D0pi_DPi_KsPiPi_DD) * varDict['low_dpi_ratio_Bd_dst_vs_Bu_dst'] + (1 - varDict['low_dpi_ratio_Bd_dst_vs_Bu_dst']) *norm_pdf(Bu_M, pdf_Bu_Dstar0h_D0pi0_DPi_KsPiPi_DD)\n",
    "        pdf_low_dpi_dst_DPi_KsPiPi_LL = lambda Bu_M: norm_pdf(Bu_M, pdf_Bu_Dstar0h_D0gamma_DPi_KsPiPi_LL) * varDict['low_dpi_ratio_dst2dgam_vs_dst2dpi'] + (1 - varDict['low_dpi_ratio_dst2dgam_vs_dst2dpi']) * norm_pdf(Bu_M, pdf_low_dst2dpi_DPi_KsPiPi_LL)\n",
    "        pdf_low_dpi_dst_DPi_KsPiPi_DD = lambda Bu_M: norm_pdf(Bu_M, pdf_Bu_Dstar0h_D0gamma_DPi_KsPiPi_DD) * varDict['low_dpi_ratio_dst2dgam_vs_dst2dpi'] + (1 - varDict['low_dpi_ratio_dst2dgam_vs_dst2dpi']) * norm_pdf(Bu_M, pdf_low_dst2dpi_DPi_KsPiPi_DD)\n",
    "        pdf_low_dpi_DPi_KsPiPi_LL     = lambda Bu_M: norm_pdf(Bu_M, pdf_B2Dpipi_DPi_KsPiPi_LL) * varDict['low_dpi_ratio_b2drho_vs_b2dstpi'] + (1 - varDict['low_dpi_ratio_b2drho_vs_b2dstpi']) * norm_pdf(Bu_M, pdf_low_dpi_dst_DPi_KsPiPi_LL)\n",
    "        pdf_low_dpi_DPi_KsPiPi_DD     = lambda Bu_M: norm_pdf(Bu_M, pdf_B2Dpipi_DPi_KsPiPi_DD) * varDict['low_dpi_ratio_b2drho_vs_b2dstpi'] + (1 - varDict['low_dpi_ratio_b2drho_vs_b2dstpi']) * norm_pdf(Bu_M, pdf_low_dpi_dst_DPi_KsPiPi_DD)\n",
    "        # Combine: DK lowmass\n",
    "        pdf_low_dst2dpi_DK_KsPiPi_LL = lambda Bu_M: norm_pdf(Bu_M, pdf_Bd_Dstarph_D0pi_DK_KsPiPi_LL) * varDict['low_dk_ratio_Bd_dst_vs_Bu_dst'] + (1 - varDict['low_dk_ratio_Bd_dst_vs_Bu_dst']) * norm_pdf(Bu_M, pdf_Bu_Dstar0h_D0pi0_DK_KsPiPi_LL) \n",
    "        pdf_low_dst2dpi_DK_KsPiPi_DD = lambda Bu_M: norm_pdf(Bu_M, pdf_Bd_Dstarph_D0pi_DK_KsPiPi_DD) * varDict['low_dk_ratio_Bd_dst_vs_Bu_dst'] + (1 - varDict['low_dk_ratio_Bd_dst_vs_Bu_dst']) * norm_pdf(Bu_M, pdf_Bu_Dstar0h_D0pi0_DK_KsPiPi_DD)\n",
    "        pdf_low_dk_dst_DK_KsPiPi_LL  = lambda Bu_M: norm_pdf(Bu_M, pdf_Bu_Dstar0h_D0gamma_DK_KsPiPi_LL) * varDict['low_dk_ratio_dst2dgam_vs_dst2dk'] + (1 - varDict['low_dk_ratio_dst2dgam_vs_dst2dk']) * norm_pdf(Bu_M, pdf_low_dst2dpi_DK_KsPiPi_LL)\n",
    "        pdf_low_dk_dst_DK_KsPiPi_DD  = lambda Bu_M: norm_pdf(Bu_M, pdf_Bu_Dstar0h_D0gamma_DK_KsPiPi_DD) * varDict['low_dk_ratio_dst2dgam_vs_dst2dk'] + (1 - varDict['low_dk_ratio_dst2dgam_vs_dst2dk']) * norm_pdf(Bu_M, pdf_low_dst2dpi_DK_KsPiPi_DD)\n",
    "        pdf_low_dk_DK_KsPiPi_LL      = lambda Bu_M: norm_pdf(Bu_M, pdf_B2DKpi_DK_KsPiPi_LL) * varDict['low_dk_ratio_b2dkst_vs_b2dstk'] + (1- varDict['low_dk_ratio_b2dkst_vs_b2dstk']) *  norm_pdf(Bu_M, pdf_low_dk_dst_DK_KsPiPi_LL)\n",
    "        pdf_low_dk_DK_KsPiPi_DD      = lambda Bu_M: norm_pdf(Bu_M, pdf_B2DKpi_DK_KsPiPi_DD) * varDict['low_dk_ratio_b2dkst_vs_b2dstk'] + (1- varDict['low_dk_ratio_b2dkst_vs_b2dstk']) *  norm_pdf(Bu_M, pdf_low_dk_dst_DK_KsPiPi_DD)\n",
    "        # Combine: DK misid\n",
    "        pdf_low_misID_dst2dpi_DK_KsPiPi_LL = lambda Bu_M: norm_pdf(Bu_M, pdf_low_misID_Bd_Dstarph_D0pi_DK_KsPiPi_LL) * varDict['low_dpi_to_dk_misID_ratio_Bd_dst_vs_Bu_dst'] + (1 - varDict['low_dpi_to_dk_misID_ratio_Bd_dst_vs_Bu_dst']) * norm_pdf(Bu_M, pdf_low_misID_Bu_Dstar0h_D0pi0_DK_KsPiPi_LL)\n",
    "        pdf_low_misID_dst2dpi_DK_KsPiPi_DD = lambda Bu_M: norm_pdf(Bu_M, pdf_low_misID_Bd_Dstarph_D0pi_DK_KsPiPi_DD) * varDict['low_dpi_to_dk_misID_ratio_Bd_dst_vs_Bu_dst'] + (1 - varDict['low_dpi_to_dk_misID_ratio_Bd_dst_vs_Bu_dst']) * norm_pdf(Bu_M, pdf_low_misID_Bu_Dstar0h_D0pi0_DK_KsPiPi_DD)\n",
    "        pdf_low_misID_dst_DK_KsPiPi_LL     = lambda Bu_M: norm_pdf(Bu_M, pdf_low_misID_Bu_Dstar0h_D0gamma_DK_KsPiPi_LL) * varDict['low_dpi_to_dk_misID_ratio_dst2dgam_vs_dst2dpi'] + (1 - varDict['low_dpi_to_dk_misID_ratio_dst2dgam_vs_dst2dpi']) * norm_pdf(Bu_M, pdf_low_misID_dst2dpi_DK_KsPiPi_LL)\n",
    "        pdf_low_misID_dst_DK_KsPiPi_DD     = lambda Bu_M: norm_pdf(Bu_M, pdf_low_misID_Bu_Dstar0h_D0gamma_DK_KsPiPi_DD) * varDict['low_dpi_to_dk_misID_ratio_dst2dgam_vs_dst2dpi'] + (1 - varDict['low_dpi_to_dk_misID_ratio_dst2dgam_vs_dst2dpi']) * norm_pdf(Bu_M, pdf_low_misID_dst2dpi_DK_KsPiPi_DD)\n",
    "        pdf_low_misID_DK_KsPiPi_LL         = lambda Bu_M: norm_pdf(Bu_M, pdf_low_misID_B2Dpipi_DK_KsPiPi_LL) * varDict['low_dpi_to_dk_misID_ratio_b2drho_vs_b2dstpi'] + (1 - varDict['low_dpi_to_dk_misID_ratio_b2drho_vs_b2dstpi']) * norm_pdf(Bu_M, pdf_low_misID_dst_DK_KsPiPi_LL)\n",
    "        pdf_low_misID_DK_KsPiPi_DD         = lambda Bu_M: norm_pdf(Bu_M, pdf_low_misID_B2Dpipi_DK_KsPiPi_DD) * varDict['low_dpi_to_dk_misID_ratio_b2drho_vs_b2dstpi'] + (1 - varDict['low_dpi_to_dk_misID_ratio_b2drho_vs_b2dstpi']) * norm_pdf(Bu_M, pdf_low_misID_dst_DK_KsPiPi_DD)\n",
    "\n",
    "    if mode == 'b2dk_LL':\n",
    "        pdfList['low'] = lambda Bu_M: (pdf_low_dk_DK_KsPiPi_LL(Bu_M))\n",
    "        pdfList['low_misID'] = lambda Bu_M: (pdf_low_misID_DK_KsPiPi_LL(Bu_M))\n",
    "\n",
    "    elif mode == 'b2dk_DD':\n",
    "        pdfList['low'] = lambda Bu_M: pdf_low_dk_DK_KsPiPi_DD(Bu_M)\n",
    "        pdfList['low_misID'] = lambda Bu_M: (pdf_low_misID_DK_KsPiPi_DD(Bu_M))\n",
    "\n",
    "    elif mode == 'b2dpi_LL':\n",
    "        pdfList['low'] = lambda Bu_M: (pdf_low_dpi_DPi_KsPiPi_LL(Bu_M))\n",
    "\n",
    "    elif mode == 'b2dpi_DD':\n",
    "        pdfList['low'] = lambda Bu_M: (pdf_low_dpi_DPi_KsPiPi_DD(Bu_M))\n",
    "\n",
    "\n",
    "    # combinatorial\n",
    "    print('--- Constructing comb pdfs...')\n",
    "    pdf_comb_DK_KsPiPi_LL = lambda Bu_M: Exponential(Bu_M, varDict['comb_const_dk_d2kspp_LL'])\n",
    "    pdf_comb_DK_KsPiPi_DD = lambda Bu_M: Exponential(Bu_M, varDict['comb_const_dk_d2kspp_DD'])\n",
    "    pdf_comb_DPi_KsPiPi_LL = lambda Bu_M: Exponential(Bu_M, varDict['comb_const_dpi_d2kspp_LL'])\n",
    "    pdf_comb_DPi_KsPiPi_DD = lambda Bu_M: Exponential(Bu_M, varDict['comb_const_dpi_d2kspp_DD'])\n",
    "    if mode == 'b2dk_LL':\n",
    "        pdfList['comb'] = lambda Bu_M: norm_pdf(Bu_M, pdf_comb_DK_KsPiPi_LL)\n",
    "    elif mode == 'b2dk_DD':\n",
    "        pdfList['comb'] = lambda Bu_M: norm_pdf(Bu_M, pdf_comb_DK_KsPiPi_DD)\n",
    "    elif mode == 'b2dpi_LL':\n",
    "        pdfList['comb'] = lambda Bu_M: norm_pdf(Bu_M, pdf_comb_DPi_KsPiPi_LL)\n",
    "    elif mode == 'b2dpi_DD':\n",
    "        pdfList['comb'] = lambda Bu_M: norm_pdf(Bu_M, pdf_comb_DPi_KsPiPi_DD)\n",
    "\n",
    "\n",
    "    print('--- INFO: Writing to file...')\n",
    "    return pdfList"
   ]
  },
  {
   "cell_type": "code",
   "execution_count": 3,
   "metadata": {},
   "outputs": [],
   "source": [
    "from importlib.machinery import SourceFileLoader\n",
    "\n",
    "config_mass_shape_input = SourceFileLoader('config_mass_shape_input', '/software/pc24403/PCBPGGSZ/outputs/toy/mass_fit/config/lhcb/%s'%('config_cpfit_output_2.py')).load_module()\n",
    "varDict_init = config_mass_shape_input.getconfig()\n"
   ]
  },
  {
   "cell_type": "code",
   "execution_count": 4,
   "metadata": {},
   "outputs": [],
   "source": [
    "def get_mass(p1,p2):\n",
    "    return ((p1[:,0]+p2[:,0])**2 - (p1[:,1]+p2[:,1])**2 - (p1[:,2]+p2[:,2])**2 - (p1[:,3]+p2[:,3])**2)\n",
    "\n",
    "\n",
    "def get_p4(decay=\"b2dpi\", cut='', index=2):\n",
    "\n",
    "    file_name = ''\n",
    "    branch_names = []\n",
    "    if cut == 'int':\n",
    "        file_name = f'/software/pc24403/PCBPGGSZ/Int/weighted_{decay}.root:DalitzEventList'\n",
    "        branch_names = [\"_1_K0S0_E\", \"_1_K0S0_Px\", \"_1_K0S0_Py\", \"_1_K0S0_Pz\",\n",
    "                         \"_2_pi#_E\", \"_2_pi#_Px\", \"_2_pi#_Py\", \"_2_pi#_Pz\",\n",
    "                         \"_3_pi~_E\", \"_3_pi~_Px\", \"_3_pi~_Py\", \"_3_pi~_Pz\"]\n",
    "    \n",
    "    elif decay.split('_')[0] == 'b2dk' or decay.split('_')[0] == 'b2dpi':\n",
    "        branch_names = [\"_1_K0S0_E\", \"_1_K0S0_Px\", \"_1_K0S0_Py\", \"_1_K0S0_Pz\",\n",
    "                         \"_2_pi#_E\", \"_2_pi#_Px\", \"_2_pi#_Py\", \"_2_pi#_Pz\",\n",
    "                         \"_3_pi~_E\", \"_3_pi~_Px\", \"_3_pi~_Py\", \"_3_pi~_Pz\"]\n",
    "        if cut == 'p':\n",
    "            file_name = f'/software/pc24403/PCBPGGSZ/outputs/toy/mass_fit/add_sw/new_frac_sw_pg/lhcb_toy_{decay}_{index}_CPrange.root:Bplus_DalitzEventList'\n",
    "            #file_name = f'/software/pc24403/PCBPGGSZ/outputs/toy/1x_test/{decay}_sig_{index}.root:Bplus_DalitzEventList'\n",
    "\n",
    "        else:\n",
    "            file_name = f'/software/pc24403/PCBPGGSZ/outputs/toy/mass_fit/add_sw/new_frac_sw_pg/lhcb_toy_{decay}_{index}_CPrange.root:Bminus_DalitzEventList'\n",
    "            #file_name = f'/software/pc24403/PCBPGGSZ/outputs/toy/1x_test/{decay}_sig_{index}.root:Bminus_DalitzEventList'\n",
    "\n",
    "    tree = up.open(file_name)\n",
    "  # Load the branches as arrays\n",
    "    \n",
    "    array = tree.arrays(branch_names)\n",
    "       \n",
    "\n",
    "    _p1 = np.asarray([array[\"_1_K0S0_E\"], array[\"_1_K0S0_Px\"], array[\"_1_K0S0_Py\"], array[\"_1_K0S0_Pz\"]])\n",
    "    _p2 = np.asarray([array[\"_2_pi#_E\"], array[\"_2_pi#_Px\"], array[\"_2_pi#_Py\"], array[\"_2_pi#_Pz\"]])\n",
    "    _p3 = np.asarray([array[\"_3_pi~_E\"], array[\"_3_pi~_Px\"], array[\"_3_pi~_Py\"], array[\"_3_pi~_Pz\"]])\n",
    "    \n",
    "    # convert 4*1000 into a vectot<double>\n",
    "    p1 = np.transpose(_p1)\n",
    "    p2 = np.transpose(_p2)\n",
    "    p3 = np.transpose(_p3)\n",
    "\n",
    "    p1bar = np.hstack((p1[:, :1], np.negative(p1[:, 1:])))\n",
    "    p2bar = np.hstack((p2[:, :1], np.negative(p2[:, 1:])))\n",
    "    p3bar = np.hstack((p3[:, :1], np.negative(p3[:, 1:])))\n",
    "\n",
    "\n",
    "\n",
    "    return p1, p2, p3, p1bar, p2bar, p3bar\n",
    "\n",
    "def load_int_amp(args):\n",
    "    p1, p2, p3 = args\n",
    "\n",
    "    return Kspipi.AMP(p1.tolist(), p2.tolist(), p3.tolist())\n",
    "\n",
    "def getAmp(decay='b2dpi', cut='int'):\n",
    "\n",
    "    start_time = time.time()\n",
    "    p1, p2, p3, p1bar, p2bar, p3bar = get_p4(decay=decay, cut=cut)\n",
    "    amplitude = []\n",
    "    amplitudeBar = []\n",
    "\n",
    "    p1_np = np.array(p1)\n",
    "    p2_np = np.array(p2)\n",
    "    p3_np = np.array(p3)\n",
    "    p1bar_np = np.array(p1bar)\n",
    "    p2bar_np = np.array(p2bar)\n",
    "    p3bar_np = np.array(p3bar)\n",
    "\n",
    "    data = [(p1_np[i], p2_np[i], p3_np[i]) for i in range(len(p1_np))]\n",
    "    with Pool(processes=multiprocessing.cpu_count()) as pool:\n",
    "        amplitude.append(pool.map(load_int_amp, data))\n",
    "    data_bar = [(p1bar_np[i], p3bar_np[i], p2bar_np[i]) for i in range(len(p1bar_np))]\n",
    "    with Pool(processes=multiprocessing.cpu_count()) as pool:\n",
    "        amplitudeBar.append(pool.map(load_int_amp, data_bar))\n",
    "    \n",
    "    end_time = time.time()\n",
    "    print(f'Amplitude for {decay} loaded in {end_time-start_time} seconds')\n",
    "    amplitude = np.array(amplitude)\n",
    "    amplitudeBar = np.array(amplitudeBar)\n",
    "\n",
    "    return amplitude, amplitudeBar\n",
    "    \n",
    "def get_p4_v2(decay=\"b2dpi\", cut='', index=2, comp='sig'):\n",
    "\n",
    "    file_name = ''\n",
    "    branch_names = []\n",
    "    if cut == 'int':\n",
    "        file_name = f'/software/pc24403/PCBPGGSZ/Int/weighted_{decay}.root:DalitzEventList'\n",
    "        branch_names = [\"_1_K0S0_E\", \"_1_K0S0_Px\", \"_1_K0S0_Py\", \"_1_K0S0_Pz\",\n",
    "                         \"_2_pi#_E\", \"_2_pi#_Px\", \"_2_pi#_Py\", \"_2_pi#_Pz\",\n",
    "                         \"_3_pi~_E\", \"_3_pi~_Px\", \"_3_pi~_Py\", \"_3_pi~_Pz\"]\n",
    "    \n",
    "    elif decay.split('_')[0] == 'b2dk' or decay.split('_')[0] == 'b2dpi':\n",
    "        branch_names = [\"_1_K0S0_E\", \"_1_K0S0_Px\", \"_1_K0S0_Py\", \"_1_K0S0_Pz\",\n",
    "                         \"_2_pi#_E\", \"_2_pi#_Px\", \"_2_pi#_Py\", \"_2_pi#_Pz\",\n",
    "                         \"_3_pi~_E\", \"_3_pi~_Px\", \"_3_pi~_Py\", \"_3_pi~_Pz\", \"B_M\"]\n",
    "        if cut == 'p':\n",
    "            file_name = f'/software/pc24403/PCBPGGSZ/outputs/toy/mass_fit/add_sw/new_frac_sw_pg/{decay}_{index}_CPrange.root:DalitzEventList'\n",
    "#            file_name = f'/software/pc24403/PCBPGGSZ/outputs/toy/swap/{decay}_{comp}_{index}.root:Bplus_DalitzEventList'\n",
    "\n",
    "        else:\n",
    "            file_name = f'/software/pc24403/PCBPGGSZ/outputs/toy/mass_fit/add_sw/new_frac_sw_pg/{decay}_{index}_CPrange.root:DalitzEventList'\n",
    "#            file_name = f'/software/pc24403/PCBPGGSZ/outputs/toy/swap/{decay}_{comp}_{index}.root:Bminus_DalitzEventList'\n",
    "\n",
    "    tree = up.open(file_name)\n",
    "  # Load the branches as arrays\n",
    "    charge = '(Bac_ID>0)'\n",
    "    if cut == 'm':\n",
    "        charge = '(Bac_ID<0)'\n",
    "    \n",
    "    array = tree.arrays(branch_names, charge)\n",
    "       \n",
    "\n",
    "    _p1 = np.asarray([array[\"_1_K0S0_E\"], array[\"_1_K0S0_Px\"], array[\"_1_K0S0_Py\"], array[\"_1_K0S0_Pz\"]])\n",
    "    _p2 = np.asarray([array[\"_2_pi#_E\"], array[\"_2_pi#_Px\"], array[\"_2_pi#_Py\"], array[\"_2_pi#_Pz\"]])\n",
    "    _p3 = np.asarray([array[\"_3_pi~_E\"], array[\"_3_pi~_Px\"], array[\"_3_pi~_Py\"], array[\"_3_pi~_Pz\"]])\n",
    "    \n",
    "    # convert 4*1000 into a vectot<double>\n",
    "    p1 = np.transpose(_p1)\n",
    "    p2 = np.transpose(_p2)\n",
    "    p3 = np.transpose(_p3)\n",
    "\n",
    "    p1bar = np.hstack((p1[:, :1], np.negative(p1[:, 1:])))\n",
    "    p2bar = np.hstack((p2[:, :1], np.negative(p2[:, 1:])))\n",
    "    p3bar = np.hstack((p3[:, :1], np.negative(p3[:, 1:])))\n",
    "\n",
    "    B_M = np.zeros(len(p1))\n",
    "    if cut != 'int':\n",
    "        \n",
    "        B_M = np.asarray([array[\"B_M\"]])\n",
    "\n",
    "\n",
    "    return p1, p2, p3, p1bar, p2bar, p3bar, B_M\n",
    "\n",
    "\n",
    "def getMass(decay='b2dpi', cut='int'):\n",
    "\n",
    "    start_time = time.time()\n",
    "    p1, p2, p3, p1bar, p2bar, p3bar = get_p4(decay=decay, cut=cut)\n",
    "    amplitude = []\n",
    "    amplitudeBar = []\n",
    "\n",
    "    p1_np = np.array(p1)\n",
    "    p2_np = np.array(p2)\n",
    "    p3_np = np.array(p3)\n",
    "    p1bar_np = np.array(p1bar)\n",
    "    p2bar_np = np.array(p2bar)\n",
    "    p3bar_np = np.array(p3bar)\n",
    "\n",
    "    s12 = get_mass(p1_np, p2_np)\n",
    "    s13 = get_mass(p1_np, p3_np)\n",
    "\n",
    "    return s12, s13\n",
    "\n",
    "def getMass_v2(decay='b2dpi', cut='int', comp='sig'):\n",
    "\n",
    "    start_time = time.time()\n",
    "    p1, p2, p3, p1bar, p2bar, p3bar, B_M = get_p4_v2(decay=decay, cut=cut, comp=comp)\n",
    "    amplitude = []\n",
    "    amplitudeBar = []\n",
    "\n",
    "    p1_np = np.array(p1)\n",
    "    p2_np = np.array(p2)\n",
    "    p3_np = np.array(p3)\n",
    "    p1bar_np = np.array(p1bar)\n",
    "    p2bar_np = np.array(p2bar)\n",
    "    p3bar_np = np.array(p3bar)\n",
    "\n",
    "    s12 = get_mass(p1_np, p2_np)\n",
    "    s13 = get_mass(p1_np, p3_np)\n",
    "\n",
    "    return s12, s13, B_M"
   ]
  },
  {
   "cell_type": "code",
   "execution_count": 15,
   "metadata": {},
   "outputs": [
    {
     "name": "stdout",
     "output_type": "stream",
     "text": [
      "Amplitude for b2dk_DD loaded in 6.192812919616699 seconds\n",
      "Amplitude for b2dk_DD loaded in 5.816940069198608 seconds\n"
     ]
    }
   ],
   "source": [
    "sys.path.append('/software/pc24403/tfpcbpggsz/func')\n",
    "sys.path.append('/software/pc24403/tfpcbpggsz/amp_ampgen')\n",
    "#\n",
    "mc_path = '/shared/scratch/pc24403/amp_ampgen'\n",
    "#\n",
    "amp_Data_dk_dd_p, ampbar_Data_dk_dd_p = getAmp('b2dk_DD', 'p')\n",
    "amp_Data_dk_dd_m, ampbar_Data_dk_dd_m = getAmp('b2dk_DD', 'm')\n",
    "#\n",
    "#amp_Data_dpi_dd_p, ampbar_Data_dpi_dd_p = getAmp('b2dpi_DD', 'p')\n",
    "#amp_Data_dpi_dd_m, ampbar_Data_dpi_dd_m = getAmp('b2dpi_DD', 'm')"
   ]
  },
  {
   "cell_type": "code",
   "execution_count": 5,
   "metadata": {},
   "outputs": [
    {
     "name": "stdout",
     "output_type": "stream",
     "text": [
      "--- INFO: Preparing pdfs for b2dk_DD_m...\n",
      "--- Constructing signal pdfs...\n",
      "--- Constructing misID pdfs...\n",
      "--- Constructing low-mass pdfs...\n",
      "--- Constructing comb pdfs...\n",
      "--- INFO: Writing to file...\n",
      "--- INFO: Preparing pdfs for b2dk_DD_p...\n",
      "--- Constructing signal pdfs...\n",
      "--- Constructing misID pdfs...\n",
      "--- Constructing low-mass pdfs...\n",
      "--- Constructing comb pdfs...\n",
      "--- INFO: Writing to file...\n",
      "--- Constructing signal pdfs...\n",
      "--- Constructing misID pdfs...\n",
      "--- Constructing low-mass pdfs...\n",
      "--- Constructing comb pdfs...\n",
      "--- INFO: Writing to file...\n",
      "--- INFO: Preparing pdfs for b2dpi_DD_m...\n",
      "--- Constructing signal pdfs...\n",
      "--- Constructing misID pdfs...\n",
      "--- Constructing low-mass pdfs...\n",
      "--- Constructing comb pdfs...\n",
      "--- INFO: Writing to file...\n",
      "--- INFO: Preparing pdfs for b2dpi_DD_p...\n",
      "--- Constructing signal pdfs...\n",
      "--- Constructing misID pdfs...\n",
      "--- Constructing low-mass pdfs...\n",
      "--- Constructing comb pdfs...\n",
      "--- INFO: Writing to file...\n",
      "--- Constructing signal pdfs...\n",
      "--- Constructing misID pdfs...\n",
      "--- Constructing low-mass pdfs...\n",
      "--- Constructing comb pdfs...\n",
      "--- INFO: Writing to file...\n"
     ]
    }
   ],
   "source": [
    "pdfs_data = {}\n",
    "s12_data = {}\n",
    "s13_data = {}\n",
    "Bu_M = {}\n",
    "for decay in ['b2dk_DD', 'b2dpi_DD']:\n",
    "    for charge in ['m', 'p']:\n",
    "        new_decay = decay + '_'+ charge\n",
    "        print('--- INFO: Preparing pdfs for %s...'%new_decay)\n",
    "        s12_data[new_decay], s13_data[new_decay], Bu_M[new_decay] = getMass_v2(decay, charge)\n",
    "        pdfs_data[new_decay] = preparePdf_data(Bu_M[new_decay], varDict_init, decay)\n",
    "\n",
    "    Bu_M[decay] = np.concatenate((Bu_M[decay+'_p'].flatten(), Bu_M[decay+'_m'].flatten()))\n",
    "    pdfs_data[decay] = preparePdf_data(Bu_M[decay], varDict_init, decay)\n"
   ]
  },
  {
   "cell_type": "code",
   "execution_count": 35,
   "metadata": {},
   "outputs": [],
   "source": [
    "@tf.function(reduce_retracing=True)\n",
    "def norm_pdf(x, pdf):\n",
    "    # Flatten the tensors for sorting purposes\n",
    "    x_flat = tf.reshape(x, [-1])\n",
    "    y_flat = tf.reshape(pdf(x), [-1])\n",
    "\n",
    "    # Get the sorted indices and sort both x and y\n",
    "    sorted_indices = tf.argsort(x_flat)\n",
    "    sorted_x = tf.gather(x_flat, sorted_indices)\n",
    "    sorted_y = tf.gather(y_flat, sorted_indices)\n",
    "\n",
    "    # Perform integration using tfp.math.trapz along the second axis\n",
    "    norm_const = tfp.math.trapz(sorted_y, sorted_x)\n",
    "\n",
    "    a = tf.convert_to_tensor(pdf(x)/norm_const)\n",
    "    return a"
   ]
  },
  {
   "cell_type": "code",
   "execution_count": 30,
   "metadata": {},
   "outputs": [
    {
     "data": {
      "text/plain": [
       "<tf.Tensor: shape=(1, 10415), dtype=float64, numpy=\n",
       "array([[1.87226960e-05, 9.02444868e-06, 6.12059731e-09, ...,\n",
       "        1.00908358e-02, 1.41095638e-02, 1.43630949e-02]])>"
      ]
     },
     "execution_count": 30,
     "metadata": {},
     "output_type": "execute_result"
    }
   ],
   "source": [
    "pdfs_data['b2dk_DD_p']['low_Bs2DKPi'](Bu_M['b2dk_DD_p'])"
   ]
  },
  {
   "cell_type": "code",
   "execution_count": 31,
   "metadata": {},
   "outputs": [],
   "source": [
    "a = pdfs_data['b2dk_DD_p']['low_Bs2DKPi'](Bu_M['b2dk_DD_p'])"
   ]
  },
  {
   "cell_type": "code",
   "execution_count": 45,
   "metadata": {},
   "outputs": [],
   "source": [
    "import numpy as np\n",
    "def clip_log(x, _epsilon=1e-6):\n",
    "    \"\"\"clip log to allowed large value\"\"\"\n",
    "    x_cut = tf.where(x > _epsilon, x, tf.ones_like(x) * _epsilon)\n",
    "    b_t = tf.math.log(x_cut)\n",
    "\n",
    "    delta_x = x - _epsilon\n",
    "    b_f = (\n",
    "       np.log(_epsilon) + delta_x / _epsilon - (delta_x / _epsilon) ** 2 / 2.0\n",
    "    )\n",
    "    print(\"$$$\", b_t)\n",
    "    return tf.where(x > _epsilon, b_t, b_f)"
   ]
  },
  {
   "cell_type": "code",
   "execution_count": 46,
   "metadata": {},
   "outputs": [
    {
     "name": "stdout",
     "output_type": "stream",
     "text": [
      "$$$ tf.Tensor(\n",
      "[[-10.88577408 -11.61557314 -13.81551056 ...  -4.59612762  -4.26090243\n",
      "   -4.24309321]], shape=(1, 10415), dtype=float64)\n"
     ]
    },
    {
     "data": {
      "text/plain": [
       "<tf.Tensor: shape=(), dtype=float64, numpy=235357.30446625882>"
      ]
     },
     "execution_count": 46,
     "metadata": {},
     "output_type": "execute_result"
    }
   ],
   "source": [
    "tf.reduce_sum(-2*clip_log(a))"
   ]
  },
  {
   "cell_type": "code",
   "execution_count": 21,
   "metadata": {},
   "outputs": [
    {
     "data": {
      "text/plain": [
       "(array([7.647e+03, 3.280e+02, 1.530e+02, 9.500e+01, 8.500e+01, 4.500e+01,\n",
       "        3.500e+01, 3.100e+01, 2.700e+01, 2.200e+01, 2.200e+01, 2.000e+01,\n",
       "        1.600e+01, 1.100e+01, 1.500e+01, 1.300e+01, 1.000e+01, 1.200e+01,\n",
       "        7.000e+00, 8.000e+00, 4.000e+00, 5.000e+00, 1.300e+01, 8.000e+00,\n",
       "        6.000e+00, 5.000e+00, 3.000e+00, 1.200e+01, 3.000e+00, 1.300e+01,\n",
       "        4.000e+00, 8.000e+00, 6.000e+00, 7.000e+00, 1.200e+01, 4.000e+00,\n",
       "        5.000e+00, 6.000e+00, 5.000e+00, 3.000e+00, 6.000e+00, 1.200e+01,\n",
       "        4.000e+00, 6.000e+00, 7.000e+00, 2.000e+00, 4.000e+00, 6.000e+00,\n",
       "        2.000e+00, 8.000e+00, 2.000e+00, 6.000e+00, 5.000e+00, 5.000e+00,\n",
       "        7.000e+00, 7.000e+00, 4.000e+00, 5.000e+00, 1.000e+01, 4.000e+00,\n",
       "        1.200e+01, 7.000e+00, 7.000e+00, 8.000e+00, 9.000e+00, 1.200e+01,\n",
       "        1.000e+01, 7.000e+00, 7.000e+00, 7.000e+00, 6.000e+00, 1.000e+01,\n",
       "        8.000e+00, 1.500e+01, 7.000e+00, 1.200e+01, 1.300e+01, 1.000e+01,\n",
       "        1.200e+01, 1.100e+01, 1.800e+01, 1.300e+01, 6.000e+00, 1.400e+01,\n",
       "        1.700e+01, 1.500e+01, 2.300e+01, 2.300e+01, 2.100e+01, 2.200e+01,\n",
       "        3.200e+01, 4.000e+01, 4.300e+01, 6.200e+01, 6.000e+01, 1.000e+02,\n",
       "        1.200e+02, 1.490e+02, 2.750e+02, 3.260e+02]),\n",
       " array([0.        , 0.00014586, 0.00029172, 0.00043758, 0.00058344,\n",
       "        0.00072929, 0.00087515, 0.00102101, 0.00116687, 0.00131273,\n",
       "        0.00145859, 0.00160445, 0.00175031, 0.00189617, 0.00204203,\n",
       "        0.00218788, 0.00233374, 0.0024796 , 0.00262546, 0.00277132,\n",
       "        0.00291718, 0.00306304, 0.0032089 , 0.00335476, 0.00350062,\n",
       "        0.00364647, 0.00379233, 0.00393819, 0.00408405, 0.00422991,\n",
       "        0.00437577, 0.00452163, 0.00466749, 0.00481335, 0.0049592 ,\n",
       "        0.00510506, 0.00525092, 0.00539678, 0.00554264, 0.0056885 ,\n",
       "        0.00583436, 0.00598022, 0.00612608, 0.00627194, 0.00641779,\n",
       "        0.00656365, 0.00670951, 0.00685537, 0.00700123, 0.00714709,\n",
       "        0.00729295, 0.00743881, 0.00758467, 0.00773053, 0.00787638,\n",
       "        0.00802224, 0.0081681 , 0.00831396, 0.00845982, 0.00860568,\n",
       "        0.00875154, 0.0088974 , 0.00904326, 0.00918911, 0.00933497,\n",
       "        0.00948083, 0.00962669, 0.00977255, 0.00991841, 0.01006427,\n",
       "        0.01021013, 0.01035599, 0.01050185, 0.0106477 , 0.01079356,\n",
       "        0.01093942, 0.01108528, 0.01123114, 0.011377  , 0.01152286,\n",
       "        0.01166872, 0.01181458, 0.01196044, 0.01210629, 0.01225215,\n",
       "        0.01239801, 0.01254387, 0.01268973, 0.01283559, 0.01298145,\n",
       "        0.01312731, 0.01327317, 0.01341902, 0.01356488, 0.01371074,\n",
       "        0.0138566 , 0.01400246, 0.01414832, 0.01429418, 0.01444004,\n",
       "        0.0145859 ]),\n",
       " [<matplotlib.patches.Polygon at 0x7faaa4238590>])"
      ]
     },
     "execution_count": 21,
     "metadata": {},
     "output_type": "execute_result"
    },
    {
     "data": {
      "image/png": "[encoded data removed]",
      "text/plain": [
       "<Figure size 2400x600 with 3 Axes>"
      ]
     },
     "metadata": {},
     "output_type": "display_data"
    }
   ],
   "source": [
    "fig, (ax0, ax1, ax2) = plt.subplots(1, 3, figsize=(8*3, 6))\n",
    "\n",
    "ax0.hist(Bu_M['b2dk_DD_p'].flatten(), bins=100, histtype='step', label='sig')\n",
    "ax1.plot(Bu_M['b2dk_DD_p'].flatten(), pdfs_data['b2dk_DD_p']['low_Bs2DKPi'](Bu_M['b2dk_DD_p'].flatten()), 'o', label='sig')\n",
    "ax2.hist(pdfs_data['b2dk_DD_p']['low_Bs2DKPi'](Bu_M['b2dk_DD_p'].flatten()), bins=100, histtype='step', label='sig')"
   ]
  },
  {
   "cell_type": "code",
   "execution_count": 10,
   "metadata": {},
   "outputs": [
    {
     "data": {
      "text/plain": [
       "(array([ 20.,  18.,  15.,  14.,  24.,  25.,  18.,  17.,  13.,  14.,  19.,\n",
       "         20.,  27.,  16.,  22.,  21.,  25.,  19.,  22.,  25.,  20.,  30.,\n",
       "         24.,  27.,  24.,  30.,  32.,  19.,  33.,  31.,  31.,  45.,  45.,\n",
       "         47.,  51.,  60.,  57.,  72.,  71.,  79., 114., 105., 125., 138.,\n",
       "        172., 155., 178., 160., 173., 172., 196., 273., 332., 395., 505.,\n",
       "        595., 582., 557., 523., 433., 357., 327., 218., 161., 135.,  96.,\n",
       "         66.,  61.,  63.,  44.,  39.,  33.,  27.,  45.,  42.,  48.,  40.,\n",
       "         45.,  48.,  42.,  58.,  52.,  46.,  60.,  53.,  58.,  59.,  74.,\n",
       "         74.,  56.,  87.,  86.,  78.,  85.,  72.,  86.,  87.,  92.,  85.,\n",
       "         99.]),\n",
       " array([0.00034891, 0.00038771, 0.0004265 , 0.0004653 , 0.0005041 ,\n",
       "        0.00054289, 0.00058169, 0.00062048, 0.00065928, 0.00069807,\n",
       "        0.00073687, 0.00077566, 0.00081446, 0.00085326, 0.00089205,\n",
       "        0.00093085, 0.00096964, 0.00100844, 0.00104723, 0.00108603,\n",
       "        0.00112482, 0.00116362, 0.00120242, 0.00124121, 0.00128001,\n",
       "        0.0013188 , 0.0013576 , 0.00139639, 0.00143519, 0.00147398,\n",
       "        0.00151278, 0.00155158, 0.00159037, 0.00162917, 0.00166796,\n",
       "        0.00170676, 0.00174555, 0.00178435, 0.00182314, 0.00186194,\n",
       "        0.00190074, 0.00193953, 0.00197833, 0.00201712, 0.00205592,\n",
       "        0.00209471, 0.00213351, 0.0021723 , 0.0022111 , 0.0022499 ,\n",
       "        0.00228869, 0.00232749, 0.00236628, 0.00240508, 0.00244387,\n",
       "        0.00248267, 0.00252146, 0.00256026, 0.00259906, 0.00263785,\n",
       "        0.00267665, 0.00271544, 0.00275424, 0.00279303, 0.00283183,\n",
       "        0.00287062, 0.00290942, 0.00294822, 0.00298701, 0.00302581,\n",
       "        0.0030646 , 0.0031034 , 0.00314219, 0.00318099, 0.00321978,\n",
       "        0.00325858, 0.00329738, 0.00333617, 0.00337497, 0.00341376,\n",
       "        0.00345256, 0.00349135, 0.00353015, 0.00356894, 0.00360774,\n",
       "        0.00364654, 0.00368533, 0.00372413, 0.00376292, 0.00380172,\n",
       "        0.00384051, 0.00387931, 0.0039181 , 0.0039569 , 0.0039957 ,\n",
       "        0.00403449, 0.00407329, 0.00411208, 0.00415088, 0.00418967,\n",
       "        0.00422847]),\n",
       " [<matplotlib.patches.Polygon at 0x7f5c0c3c3830>])"
      ]
     },
     "execution_count": 10,
     "metadata": {},
     "output_type": "execute_result"
    },
    {
     "data": {
      "image/png": "[encoded data removed]",
      "text/plain": [
       "<Figure size 2400x600 with 3 Axes>"
      ]
     },
     "metadata": {},
     "output_type": "display_data"
    }
   ],
   "source": [
    "fig, (ax0, ax1, ax2) = plt.subplots(1, 3, figsize=(8*3, 6))\n",
    "\n",
    "ax0.hist(Bu_M['b2dk_DD_m'].flatten(), bins=100, histtype='step', label='sig')\n",
    "ax1.plot(Bu_M['b2dk_DD_m'].flatten(), pdfs_data['b2dk_DD_m']['comb'](Bu_M['b2dk_DD_m'].flatten()), 'o', label='sig')\n",
    "ax2.hist(pdfs_data['b2dk_DD_m']['comb'](Bu_M['b2dk_DD_m'].flatten()), bins=100, histtype='step', label='sig')"
   ]
  },
  {
   "cell_type": "code",
   "execution_count": null,
   "metadata": {},
   "outputs": [
    {
     "ename": "KeyboardInterrupt",
     "evalue": "",
     "output_type": "error",
     "traceback": [
      "\u001b[0;31m---------------------------------------------------------------------------\u001b[0m",
      "\u001b[0;31mKeyboardInterrupt\u001b[0m                         Traceback (most recent call last)",
      "Cell \u001b[0;32mIn[26], line 4\u001b[0m\n\u001b[1;32m      1\u001b[0m fig, (ax0, ax1) \u001b[38;5;241m=\u001b[39m plt\u001b[38;5;241m.\u001b[39msubplots(\u001b[38;5;241m1\u001b[39m, \u001b[38;5;241m2\u001b[39m, figsize\u001b[38;5;241m=\u001b[39m(\u001b[38;5;241m12\u001b[39m, \u001b[38;5;241m6\u001b[39m))\n\u001b[1;32m      3\u001b[0m ax0\u001b[38;5;241m.\u001b[39mplot(Bu_M[\u001b[38;5;124m'\u001b[39m\u001b[38;5;124mb2dk_DD\u001b[39m\u001b[38;5;124m'\u001b[39m], pdfs_data[\u001b[38;5;124m'\u001b[39m\u001b[38;5;124mb2dk_DD\u001b[39m\u001b[38;5;124m'\u001b[39m][\u001b[38;5;124m'\u001b[39m\u001b[38;5;124mcomb\u001b[39m\u001b[38;5;124m'\u001b[39m](Bu_M[\u001b[38;5;124m'\u001b[39m\u001b[38;5;124mb2dk_DD\u001b[39m\u001b[38;5;124m'\u001b[39m]), \u001b[38;5;124m'\u001b[39m\u001b[38;5;124mo\u001b[39m\u001b[38;5;124m'\u001b[39m, label\u001b[38;5;241m=\u001b[39m\u001b[38;5;124m'\u001b[39m\u001b[38;5;124msig\u001b[39m\u001b[38;5;124m'\u001b[39m)\n\u001b[0;32m----> 4\u001b[0m \u001b[43max1\u001b[49m\u001b[38;5;241;43m.\u001b[39;49m\u001b[43mhist\u001b[49m\u001b[43m(\u001b[49m\u001b[43mpdfs_data\u001b[49m\u001b[43m[\u001b[49m\u001b[38;5;124;43m'\u001b[39;49m\u001b[38;5;124;43mb2dk_DD\u001b[39;49m\u001b[38;5;124;43m'\u001b[39;49m\u001b[43m]\u001b[49m\u001b[43m[\u001b[49m\u001b[38;5;124;43m'\u001b[39;49m\u001b[38;5;124;43mcomb\u001b[39;49m\u001b[38;5;124;43m'\u001b[39;49m\u001b[43m]\u001b[49m\u001b[43m(\u001b[49m\u001b[43mBu_M\u001b[49m\u001b[43m[\u001b[49m\u001b[38;5;124;43m'\u001b[39;49m\u001b[38;5;124;43mb2dk_DD\u001b[39;49m\u001b[38;5;124;43m'\u001b[39;49m\u001b[43m]\u001b[49m\u001b[43m)\u001b[49m\u001b[43m,\u001b[49m\u001b[43m \u001b[49m\u001b[43mbins\u001b[49m\u001b[38;5;241;43m=\u001b[39;49m\u001b[38;5;241;43m100\u001b[39;49m\u001b[43m,\u001b[49m\u001b[43m \u001b[49m\u001b[43mhisttype\u001b[49m\u001b[38;5;241;43m=\u001b[39;49m\u001b[38;5;124;43m'\u001b[39;49m\u001b[38;5;124;43mstep\u001b[39;49m\u001b[38;5;124;43m'\u001b[39;49m\u001b[43m,\u001b[49m\u001b[43m \u001b[49m\u001b[43mlabel\u001b[49m\u001b[38;5;241;43m=\u001b[39;49m\u001b[38;5;124;43m'\u001b[39;49m\u001b[38;5;124;43msig\u001b[39;49m\u001b[38;5;124;43m'\u001b[39;49m\u001b[43m)\u001b[49m\n",
      "File \u001b[0;32m/software/pc24403/miniconda3/envs/tfdev/lib/python3.12/site-packages/matplotlib/__init__.py:1465\u001b[0m, in \u001b[0;36m_preprocess_data.<locals>.inner\u001b[0;34m(ax, data, *args, **kwargs)\u001b[0m\n\u001b[1;32m   1462\u001b[0m \u001b[38;5;129m@functools\u001b[39m\u001b[38;5;241m.\u001b[39mwraps(func)\n\u001b[1;32m   1463\u001b[0m \u001b[38;5;28;01mdef\u001b[39;00m \u001b[38;5;21minner\u001b[39m(ax, \u001b[38;5;241m*\u001b[39margs, data\u001b[38;5;241m=\u001b[39m\u001b[38;5;28;01mNone\u001b[39;00m, \u001b[38;5;241m*\u001b[39m\u001b[38;5;241m*\u001b[39mkwargs):\n\u001b[1;32m   1464\u001b[0m     \u001b[38;5;28;01mif\u001b[39;00m data \u001b[38;5;129;01mis\u001b[39;00m \u001b[38;5;28;01mNone\u001b[39;00m:\n\u001b[0;32m-> 1465\u001b[0m         \u001b[38;5;28;01mreturn\u001b[39;00m \u001b[43mfunc\u001b[49m\u001b[43m(\u001b[49m\u001b[43max\u001b[49m\u001b[43m,\u001b[49m\u001b[43m \u001b[49m\u001b[38;5;241;43m*\u001b[39;49m\u001b[38;5;28;43mmap\u001b[39;49m\u001b[43m(\u001b[49m\u001b[43msanitize_sequence\u001b[49m\u001b[43m,\u001b[49m\u001b[43m \u001b[49m\u001b[43margs\u001b[49m\u001b[43m)\u001b[49m\u001b[43m,\u001b[49m\u001b[43m \u001b[49m\u001b[38;5;241;43m*\u001b[39;49m\u001b[38;5;241;43m*\u001b[39;49m\u001b[43mkwargs\u001b[49m\u001b[43m)\u001b[49m\n\u001b[1;32m   1467\u001b[0m     bound \u001b[38;5;241m=\u001b[39m new_sig\u001b[38;5;241m.\u001b[39mbind(ax, \u001b[38;5;241m*\u001b[39margs, \u001b[38;5;241m*\u001b[39m\u001b[38;5;241m*\u001b[39mkwargs)\n\u001b[1;32m   1468\u001b[0m     auto_label \u001b[38;5;241m=\u001b[39m (bound\u001b[38;5;241m.\u001b[39marguments\u001b[38;5;241m.\u001b[39mget(label_namer)\n\u001b[1;32m   1469\u001b[0m                   \u001b[38;5;129;01mor\u001b[39;00m bound\u001b[38;5;241m.\u001b[39mkwargs\u001b[38;5;241m.\u001b[39mget(label_namer))\n",
      "File \u001b[0;32m/software/pc24403/miniconda3/envs/tfdev/lib/python3.12/site-packages/matplotlib/axes/_axes.py:6775\u001b[0m, in \u001b[0;36mAxes.hist\u001b[0;34m(self, x, bins, range, density, weights, cumulative, bottom, histtype, align, orientation, rwidth, log, color, label, stacked, **kwargs)\u001b[0m\n\u001b[1;32m   6772\u001b[0m     stacked \u001b[38;5;241m=\u001b[39m \u001b[38;5;28;01mTrue\u001b[39;00m\n\u001b[1;32m   6774\u001b[0m \u001b[38;5;66;03m# Massage 'x' for processing.\u001b[39;00m\n\u001b[0;32m-> 6775\u001b[0m x \u001b[38;5;241m=\u001b[39m \u001b[43mcbook\u001b[49m\u001b[38;5;241;43m.\u001b[39;49m\u001b[43m_reshape_2D\u001b[49m\u001b[43m(\u001b[49m\u001b[43mx\u001b[49m\u001b[43m,\u001b[49m\u001b[43m \u001b[49m\u001b[38;5;124;43m'\u001b[39;49m\u001b[38;5;124;43mx\u001b[39;49m\u001b[38;5;124;43m'\u001b[39;49m\u001b[43m)\u001b[49m\n\u001b[1;32m   6776\u001b[0m nx \u001b[38;5;241m=\u001b[39m \u001b[38;5;28mlen\u001b[39m(x)  \u001b[38;5;66;03m# number of datasets\u001b[39;00m\n\u001b[1;32m   6778\u001b[0m \u001b[38;5;66;03m# Process unit information.  _process_unit_info sets the unit and\u001b[39;00m\n\u001b[1;32m   6779\u001b[0m \u001b[38;5;66;03m# converts the first dataset; then we convert each following dataset\u001b[39;00m\n\u001b[1;32m   6780\u001b[0m \u001b[38;5;66;03m# one at a time.\u001b[39;00m\n",
      "File \u001b[0;32m/software/pc24403/miniconda3/envs/tfdev/lib/python3.12/site-packages/matplotlib/cbook.py:1409\u001b[0m, in \u001b[0;36m_reshape_2D\u001b[0;34m(X, name)\u001b[0m\n\u001b[1;32m   1407\u001b[0m     \u001b[38;5;28;01melse\u001b[39;00m:\n\u001b[1;32m   1408\u001b[0m         is_1d \u001b[38;5;241m=\u001b[39m \u001b[38;5;28;01mFalse\u001b[39;00m\n\u001b[0;32m-> 1409\u001b[0m xi \u001b[38;5;241m=\u001b[39m \u001b[43mnp\u001b[49m\u001b[38;5;241;43m.\u001b[39;49m\u001b[43masanyarray\u001b[49m\u001b[43m(\u001b[49m\u001b[43mxi\u001b[49m\u001b[43m)\u001b[49m\n\u001b[1;32m   1410\u001b[0m nd \u001b[38;5;241m=\u001b[39m np\u001b[38;5;241m.\u001b[39mndim(xi)\n\u001b[1;32m   1411\u001b[0m \u001b[38;5;28;01mif\u001b[39;00m nd \u001b[38;5;241m>\u001b[39m \u001b[38;5;241m1\u001b[39m:\n",
      "\u001b[0;31mKeyboardInterrupt\u001b[0m: "
     ]
    },
    {
     "data": {
      "image/png": "[encoded data removed]",
      "text/plain": [
       "<Figure size 1200x600 with 2 Axes>"
      ]
     },
     "metadata": {},
     "output_type": "display_data"
    }
   ],
   "source": [
    "fig, (ax0, ax1) = plt.subplots(1, 2, figsize=(12, 6))\n",
    "\n",
    "ax0.plot(Bu_M['b2dk_DD'], pdfs_data['b2dk_DD']['comb'](Bu_M['b2dk_DD']), 'o', label='sig')\n",
    "ax1.hist(pdfs_data['b2dk_DD']['comb'](Bu_M['b2dk_DD']), bins=100, histtype='step', label='sig')"
   ]
  },
  {
   "cell_type": "code",
   "execution_count": null,
   "metadata": {},
   "outputs": [],
   "source": [
    "from importlib.machinery import SourceFileLoader\n",
    "\n",
    "config_mass_shape_output = SourceFileLoader('config_mass_shape_output', '/software/pc24403/PCBPGGSZ/outputs/toy/mass_fit/config/lhcb/%s'%('config_cpfit_output_2.py')).load_module()\n",
    "varDict = config_mass_shape_output.getconfig()\n",
    "x_exp = (varDict['n_sig_DK_KsPiPi_DD'], varDict['n_misid_DK_KsPiPi_DD'], varDict['n_comb_DK_KsPiPi_DD'], varDict['n_low_DK_KsPiPi_DD'], varDict['n_low_misID_DK_KsPiPi_DD'], varDict['n_low_Bs2DKPi_DK_KsPiPi_DD'])\n"
   ]
  },
  {
   "cell_type": "code",
   "execution_count": null,
   "metadata": {},
   "outputs": [],
   "source": [
    "amp_dk_dd_p = np.load(mc_path + '/Int_b2dk_DD_p_amp.npy')\n",
    "ampbar_dk_dd_p = np.load(mc_path + '/Int_b2dk_DD_p_ampbar.npy')\n",
    "amp_dk_dd_m = np.load(mc_path + '/Int_b2dk_DD_m_amp.npy')\n",
    "ampbar_dk_dd_m = np.load(mc_path + '/Int_b2dk_DD_m_ampbar.npy')\n",
    "\n",
    "amp_dpi_dd_p = np.load(mc_path + '/Int_b2dpi_DD_p_amp.npy')\n",
    "ampbar_dpi_dd_p = np.load(mc_path + '/Int_b2dpi_DD_p_ampbar.npy')\n",
    "amp_dpi_dd_m = np.load(mc_path + '/Int_b2dpi_DD_m_amp.npy')\n",
    "ampbar_dpi_dd_m = np.load(mc_path + '/Int_b2dpi_DD_m_ampbar.npy')\n"
   ]
  },
  {
   "cell_type": "code",
   "execution_count": null,
   "metadata": {},
   "outputs": [
    {
     "name": "stdout",
     "output_type": "stream",
     "text": [
      "D0ToKSpipi2018 (Apr 30 2024) ==> Initialization !\n"
     ]
    }
   ],
   "source": [
    "sys.path.append('/software/pc24403/tfpcbpggsz/amp_ampgen')\n",
    "sys.path.append('/software/pc24403/tfpcbpggsz/core')\n",
    "from amp import *\n",
    "from core import *"
   ]
  },
  {
   "cell_type": "code",
   "execution_count": null,
   "metadata": {},
   "outputs": [
    {
     "name": "stdout",
     "output_type": "stream",
     "text": [
      "--- INFO: Preparing pdfs for b2dk_DD_p...\n",
      "--- Constructing signal pdfs...\n",
      "--- Constructing misID pdfs...\n",
      "--- Constructing low-mass pdfs...\n",
      "--- Constructing comb pdfs...\n",
      "--- INFO: Writing to file...\n",
      "--- INFO: Preparing pdfs for b2dk_DD_m...\n",
      "--- Constructing signal pdfs...\n",
      "--- Constructing misID pdfs...\n",
      "--- Constructing low-mass pdfs...\n",
      "--- Constructing comb pdfs...\n",
      "--- INFO: Writing to file...\n"
     ]
    }
   ],
   "source": [
    "pdfs_data = {}\n",
    "s12_data = {}\n",
    "s13_data = {}\n",
    "Bu_M = {}\n",
    "index =2\n",
    "for decay in ['b2dk_DD']:\n",
    "    for charge in ['p', 'm']:\n",
    "        new_decay = decay + '_'+ charge\n",
    "        print('--- INFO: Preparing pdfs for %s...'%new_decay)\n",
    "        s12_data[new_decay], s13_data[new_decay], Bu_M[new_decay] = getMass_v2(decay, charge, index)\n",
    "        pdfs_data[new_decay] = preparePdf_data(Bu_M[new_decay], varDict, decay)\n",
    "        Bu_M[new_decay] = tf.constant(Bu_M[new_decay], tf.float32)"
   ]
  },
  {
   "cell_type": "code",
   "execution_count": null,
   "metadata": {},
   "outputs": [
    {
     "name": "stdout",
     "output_type": "stream",
     "text": [
      "--- INFO: Preparing pdfs for b2dk_DD_m...\n",
      "--- Constructing signal pdfs...\n",
      "--- Constructing misID pdfs...\n",
      "--- Constructing low-mass pdfs...\n",
      "--- Constructing comb pdfs...\n",
      "--- INFO: Writing to file...\n",
      "--- INFO: Preparing pdfs for b2dk_DD_p...\n",
      "--- Constructing signal pdfs...\n",
      "--- Constructing misID pdfs...\n",
      "--- Constructing low-mass pdfs...\n",
      "--- Constructing comb pdfs...\n",
      "--- INFO: Writing to file...\n",
      "--- INFO: Preparing pdfs for b2dpi_DD_m...\n",
      "--- Constructing signal pdfs...\n",
      "--- Constructing misID pdfs...\n",
      "--- Constructing low-mass pdfs...\n",
      "--- Constructing comb pdfs...\n",
      "--- INFO: Writing to file...\n",
      "--- INFO: Preparing pdfs for b2dpi_DD_p...\n",
      "--- Constructing signal pdfs...\n",
      "--- Constructing misID pdfs...\n",
      "--- Constructing low-mass pdfs...\n",
      "--- Constructing comb pdfs...\n",
      "--- INFO: Writing to file...\n",
      "tf.Tensor(-34015.923212994705, shape=(), dtype=float64)\n"
     ]
    }
   ],
   "source": [
    "pdfs_data = {}\n",
    "s12_data = {}\n",
    "s13_data = {}\n",
    "Bu_M = {}\n",
    "for decay in ['b2dk_DD', 'b2dpi_DD']:\n",
    "    for charge in ['m', 'p']:\n",
    "        new_decay = decay + '_'+ charge\n",
    "        print('--- INFO: Preparing pdfs for %s...'%new_decay)\n",
    "        s12_data[new_decay], s13_data[new_decay], Bu_M[new_decay] = getMass_v2(decay, charge)\n",
    "        pdfs_data[new_decay] = preparePdf_data(Bu_M[new_decay], varDict, decay)\n",
    "\n",
    "\n",
    "print(tf.reduce_sum(tf.math.log(pdfs_data['b2dk_DD_p']['sig'](Bu_M['b2dk_DD_p']))))"
   ]
  },
  {
   "cell_type": "code",
   "execution_count": null,
   "metadata": {},
   "outputs": [],
   "source": [
    "@tf.function\n",
    "def prod_nll_dk_dd(x):\n",
    "\n",
    "    decay = 'b2dk_DD'\n",
    "    fracDD = 0.33\n",
    "    normalisationCrossTerms_p = totalAmplitudeSquared_Integrated_crossTerm(amp_dk_dd_p, ampbar_dk_dd_p)\n",
    "    normalisationCrossTerms_m = totalAmplitudeSquared_Integrated_crossTerm(amp_dk_dd_m, ampbar_dk_dd_m)\n",
    "    misid_normalisationCrossTerms_p = totalAmplitudeSquared_Integrated_crossTerm(amp_dpi_dd_p, ampbar_dpi_dd_p)\n",
    "    misid_normalisationCrossTerms_m = totalAmplitudeSquared_Integrated_crossTerm(amp_dpi_dd_m, ampbar_dpi_dd_m)\n",
    "\n",
    "    normA_p = tf.math.reduce_mean(tf.math.abs(amp_dk_dd_p)**2)\n",
    "    normAbar_p = tf.math.reduce_mean(tf.math.abs(ampbar_dk_dd_p)**2)\n",
    "    normA_m = tf.math.reduce_mean(tf.math.abs(amp_dk_dd_m)**2)\n",
    "    normAbar_m = tf.math.reduce_mean(tf.math.abs(ampbar_dk_dd_m)**2)\n",
    "\n",
    "    misid_normA_p = tf.math.reduce_mean(tf.math.abs(amp_dpi_dd_p)**2)\n",
    "    misid_normAbar_p = tf.math.reduce_mean(tf.math.abs(ampbar_dpi_dd_p)**2)\n",
    "    misid_normA_m = tf.math.reduce_mean(tf.math.abs(amp_dpi_dd_m)**2)\n",
    "    misid_normAbar_m = tf.math.reduce_mean(tf.math.abs(ampbar_dpi_dd_m)**2)\n",
    "\n",
    "    sig_prob_p = prod_totalAmplitudeSquared_XY(1, amp_Data_dk_dd_p, ampbar_Data_dk_dd_p, x, pdfs_data[decay+'_p']['sig'], pdfs_data[decay+'_m']['sig'], Bu_M[decay+'_p'], Bu_M[decay+'_m'])\n",
    "    sig_prob_m = prod_totalAmplitudeSquared_XY(-1, amp_Data_dk_dd_m, ampbar_Data_dk_dd_m, x, pdfs_data[decay+'_p']['sig'], pdfs_data[decay+'_m']['sig'], Bu_M[decay+'_p'], Bu_M[decay+'_m'])\n",
    "    misid_prob_p = prod_totalAmplitudeSquared_DPi_XY(1, amp_Data_dk_dd_p, ampbar_Data_dk_dd_p, x, pdfs_data[decay+'_p']['misid'], pdfs_data[decay+'_m']['misid'], Bu_M[decay+'_p'], Bu_M[decay+'_m'])\n",
    "    misid_prob_m = prod_totalAmplitudeSquared_DPi_XY(-1, amp_Data_dk_dd_m, ampbar_Data_dk_dd_m, x, pdfs_data[decay+'_p']['misid'], pdfs_data[decay+'_m']['misid'], Bu_M[decay+'_p'], Bu_M[decay+'_m'])\n",
    "    comb_prob_p = prod_comb(amp_Data_dk_dd_p, ampbar_Data_dk_dd_p, x, pdfs_data[decay+'_p'], Bu_M[decay+'_p'], fracDD=fracDD)\n",
    "    comb_prob_m = prod_comb(amp_Data_dk_dd_m, ampbar_Data_dk_dd_m, x, pdfs_data[decay+'_m'], Bu_M[decay+'_m'], fracDD=fracDD)\n",
    "    low_prob_p = prod_low(1, amp_Data_dk_dd_p, ampbar_Data_dk_dd_p, x, pdfs_data[decay+'_p'], Bu_M[decay+'_p'], type='low')\n",
    "    low_prob_m = prod_low(-1, amp_Data_dk_dd_m, ampbar_Data_dk_dd_m, x, pdfs_data[decay+'_m'], Bu_M[decay+'_m'], type='low')\n",
    "    low_misID_prob_p = prod_low(1, amp_Data_dk_dd_p, ampbar_Data_dk_dd_p, x, pdfs_data[decay+'_p'], Bu_M[decay+'_p'], type='low_misID')\n",
    "    low_misID_prob_m = prod_low(-1, amp_Data_dk_dd_m, ampbar_Data_dk_dd_m, x, pdfs_data[decay+'_m'], Bu_M[decay+'_m'], type='low_misID')\n",
    "    low_Bs2DKPi_prob_p = prod_low(1, amp_Data_dk_dd_p, ampbar_Data_dk_dd_p, x, pdfs_data[decay+'_p'], Bu_M[decay+'_p'], type='low_Bs2DKPi')\n",
    "    low_Bs2DKPi_prob_m = prod_low(-1, amp_Data_dk_dd_m, ampbar_Data_dk_dd_m, x, pdfs_data[decay+'_m'], Bu_M[decay+'_m'], type='low_Bs2DKPi')\n",
    "\n",
    "\n",
    "    total_yield = tf.cast((x[6] + x[7] + x[8] + x[9] + x[10] + x[11])/2, tf.float32)\n",
    "    \n",
    "    normalisation_Bplus = totalAmplitudeSquared_Integrated(1, normA_p, normAbar_p, normalisationCrossTerms_p, x)\n",
    "    normalisation_Bminus = totalAmplitudeSquared_Integrated(-1, normA_m, normAbar_m, normalisationCrossTerms_m, x)\n",
    "    misid_normalisation_Bplus = totalAmplitudeSquared_DPi_Integrated(1, misid_normA_p, misid_normAbar_p, misid_normalisationCrossTerms_p, x)\n",
    "    misid_normalisation_Bminus = totalAmplitudeSquared_DPi_Integrated(-1, misid_normA_m, misid_normAbar_m, misid_normalisationCrossTerms_m, x) \n",
    "\n",
    "    comb_normalisation_Bplus = tf.cast((normA_p + normAbar_p)*0.5*fracDD + (1-fracDD), tf.float32)\n",
    "    comb_normalisation_Bminus = tf.cast((normA_m + normAbar_m)*0.5*fracDD + (1-fracDD), tf.float32)\n",
    "    low_normalisation_Bplus = tf.cast(normAbar_p, tf.float32)\n",
    "    low_normalisation_Bminus = tf.cast(normA_m, tf.float32)\n",
    "    low_Bs2DKPi_normalisation_Bplus = tf.cast(normA_p, tf.float32)\n",
    "    low_Bs2DKPi_normalisation_Bminus = tf.cast(normAbar_m, tf.float32)\n",
    "\n",
    "    tf.print(total_yield)\n",
    "    ll_data_p = tf.math.log(1/total_yield*((sig_prob_p/normalisation_Bplus) + (misid_prob_p/misid_normalisation_Bplus) + (comb_prob_p/comb_normalisation_Bplus) + (low_prob_p/low_normalisation_Bplus) + (low_misID_prob_p/low_normalisation_Bplus) + (low_Bs2DKPi_prob_p/low_Bs2DKPi_normalisation_Bplus)))\n",
    "    ll_data_m = tf.math.log(1/total_yield*((sig_prob_m/normalisation_Bminus) + (misid_prob_m/misid_normalisation_Bminus) + (comb_prob_m/comb_normalisation_Bminus) + (low_prob_m/low_normalisation_Bminus) + (low_misID_prob_m/low_normalisation_Bminus) + (low_Bs2DKPi_prob_m/low_Bs2DKPi_normalisation_Bminus)))\n",
    "\n",
    "    \n",
    "\n",
    "    return (tf.reduce_sum( -2* ll_data_p) + tf.reduce_sum( -2*ll_data_m))"
   ]
  },
  {
   "cell_type": "code",
   "execution_count": null,
   "metadata": {},
   "outputs": [],
   "source": [
    "\n",
    "def nll_dk_dd(x):\n",
    "    x1 = x[:12]\n",
    "    print(prod_nll_dk_dd(x1))\n",
    "    return prod_nll_dk_dd(x1)"
   ]
  },
  {
   "cell_type": "code",
   "execution_count": null,
   "metadata": {},
   "outputs": [
    {
     "ename": "KeyboardInterrupt",
     "evalue": "",
     "output_type": "error",
     "traceback": [
      "\u001b[0;31m---------------------------------------------------------------------------\u001b[0m",
      "\u001b[0;31mKeyboardInterrupt\u001b[0m                         Traceback (most recent call last)",
      "Cell \u001b[0;32mIn[16], line 13\u001b[0m\n\u001b[1;32m     11\u001b[0m m \u001b[38;5;241m=\u001b[39m iminuit\u001b[38;5;241m.\u001b[39mMinuit(nll_dk_dd, x)\n\u001b[1;32m     12\u001b[0m m\u001b[38;5;241m.\u001b[39mfixed \u001b[38;5;241m=\u001b[39m [\u001b[38;5;28;01mTrue\u001b[39;00m, \u001b[38;5;28;01mTrue\u001b[39;00m, \u001b[38;5;28;01mTrue\u001b[39;00m, \u001b[38;5;28;01mTrue\u001b[39;00m, \u001b[38;5;28;01mTrue\u001b[39;00m, \u001b[38;5;28;01mTrue\u001b[39;00m, \u001b[38;5;28;01mTrue\u001b[39;00m, \u001b[38;5;28;01mTrue\u001b[39;00m, \u001b[38;5;28;01mTrue\u001b[39;00m, \u001b[38;5;28;01mTrue\u001b[39;00m, \u001b[38;5;28;01mTrue\u001b[39;00m, \u001b[38;5;28;01mTrue\u001b[39;00m, \u001b[38;5;28;01mTrue\u001b[39;00m, \u001b[38;5;28;01mTrue\u001b[39;00m, \u001b[38;5;28;01mTrue\u001b[39;00m, \u001b[38;5;28;01mTrue\u001b[39;00m, \u001b[38;5;28;01mTrue\u001b[39;00m, \u001b[38;5;28;01mTrue\u001b[39;00m, \u001b[38;5;28;01mTrue\u001b[39;00m, \u001b[38;5;28;01mTrue\u001b[39;00m, \u001b[38;5;28;01mTrue\u001b[39;00m, \u001b[38;5;28;01mTrue\u001b[39;00m, \u001b[38;5;28;01mTrue\u001b[39;00m, \u001b[38;5;28;01mTrue\u001b[39;00m, \u001b[38;5;28;01mTrue\u001b[39;00m, \u001b[38;5;28;01mTrue\u001b[39;00m]\n\u001b[0;32m---> 13\u001b[0m mg \u001b[38;5;241m=\u001b[39m \u001b[43mm\u001b[49m\u001b[38;5;241;43m.\u001b[39;49m\u001b[43mscipy\u001b[49m\u001b[43m(\u001b[49m\u001b[43m)\u001b[49m\n",
      "File \u001b[0;32m/software/pc24403/miniconda3/envs/tfdev/lib/python3.12/site-packages/iminuit/minuit.py:1142\u001b[0m, in \u001b[0;36mMinuit.scipy\u001b[0;34m(self, method, ncall, hess, hessp, constraints)\u001b[0m\n\u001b[1;32m   1140\u001b[0m t \u001b[38;5;241m=\u001b[39m mutil\u001b[38;5;241m.\u001b[39m_Timer(\u001b[38;5;28mself\u001b[39m\u001b[38;5;241m.\u001b[39m_fmin)\n\u001b[1;32m   1141\u001b[0m \u001b[38;5;28;01mwith\u001b[39;00m t:\n\u001b[0;32m-> 1142\u001b[0m     r \u001b[38;5;241m=\u001b[39m \u001b[43mminimize\u001b[49m\u001b[43m(\u001b[49m\n\u001b[1;32m   1143\u001b[0m \u001b[43m        \u001b[49m\u001b[43mfcn\u001b[49m\u001b[43m,\u001b[49m\n\u001b[1;32m   1144\u001b[0m \u001b[43m        \u001b[49m\u001b[43mstart\u001b[49m\u001b[43m,\u001b[49m\n\u001b[1;32m   1145\u001b[0m \u001b[43m        \u001b[49m\u001b[43mmethod\u001b[49m\u001b[38;5;241;43m=\u001b[39;49m\u001b[43mmethod\u001b[49m\u001b[43m,\u001b[49m\n\u001b[1;32m   1146\u001b[0m \u001b[43m        \u001b[49m\u001b[43mbounds\u001b[49m\u001b[38;5;241;43m=\u001b[39;49m\u001b[43mBounds\u001b[49m\u001b[43m(\u001b[49m\u001b[43mlower_bound\u001b[49m\u001b[43m,\u001b[49m\u001b[43m \u001b[49m\u001b[43mupper_bound\u001b[49m\u001b[43m,\u001b[49m\u001b[43m \u001b[49m\u001b[43mkeep_feasible\u001b[49m\u001b[38;5;241;43m=\u001b[39;49m\u001b[38;5;28;43;01mTrue\u001b[39;49;00m\u001b[43m)\u001b[49m\n\u001b[1;32m   1147\u001b[0m \u001b[43m        \u001b[49m\u001b[38;5;28;43;01mif\u001b[39;49;00m\u001b[43m \u001b[49m\u001b[43mhas_limits\u001b[49m\n\u001b[1;32m   1148\u001b[0m \u001b[43m        \u001b[49m\u001b[38;5;28;43;01melse\u001b[39;49;00m\u001b[43m \u001b[49m\u001b[38;5;28;43;01mNone\u001b[39;49;00m\u001b[43m,\u001b[49m\n\u001b[1;32m   1149\u001b[0m \u001b[43m        \u001b[49m\u001b[43mjac\u001b[49m\u001b[38;5;241;43m=\u001b[39;49m\u001b[43mgrad\u001b[49m\u001b[43m,\u001b[49m\n\u001b[1;32m   1150\u001b[0m \u001b[43m        \u001b[49m\u001b[43mhess\u001b[49m\u001b[38;5;241;43m=\u001b[39;49m\u001b[43mhess\u001b[49m\u001b[43m,\u001b[49m\n\u001b[1;32m   1151\u001b[0m \u001b[43m        \u001b[49m\u001b[43mhessp\u001b[49m\u001b[38;5;241;43m=\u001b[39;49m\u001b[43mhessp\u001b[49m\u001b[43m,\u001b[49m\n\u001b[1;32m   1152\u001b[0m \u001b[43m        \u001b[49m\u001b[43mconstraints\u001b[49m\u001b[38;5;241;43m=\u001b[39;49m\u001b[43mconstraints\u001b[49m\u001b[43m,\u001b[49m\n\u001b[1;32m   1153\u001b[0m \u001b[43m        \u001b[49m\u001b[43moptions\u001b[49m\u001b[38;5;241;43m=\u001b[39;49m\u001b[43moptions\u001b[49m\u001b[43m,\u001b[49m\n\u001b[1;32m   1154\u001b[0m \u001b[43m    \u001b[49m\u001b[43m)\u001b[49m\n\u001b[1;32m   1155\u001b[0m \u001b[38;5;28;01mif\u001b[39;00m \u001b[38;5;28mself\u001b[39m\u001b[38;5;241m.\u001b[39mprint_level \u001b[38;5;241m>\u001b[39m \u001b[38;5;241m0\u001b[39m:\n\u001b[1;32m   1156\u001b[0m     \u001b[38;5;28mprint\u001b[39m(r)\n",
      "File \u001b[0;32m/software/pc24403/miniconda3/envs/tfdev/lib/python3.12/site-packages/scipy/optimize/_minimize.py:708\u001b[0m, in \u001b[0;36mminimize\u001b[0;34m(fun, x0, args, method, jac, hess, hessp, bounds, constraints, tol, callback, options)\u001b[0m\n\u001b[1;32m    706\u001b[0m     res \u001b[38;5;241m=\u001b[39m _minimize_cg(fun, x0, args, jac, callback, \u001b[38;5;241m*\u001b[39m\u001b[38;5;241m*\u001b[39moptions)\n\u001b[1;32m    707\u001b[0m \u001b[38;5;28;01melif\u001b[39;00m meth \u001b[38;5;241m==\u001b[39m \u001b[38;5;124m'\u001b[39m\u001b[38;5;124mbfgs\u001b[39m\u001b[38;5;124m'\u001b[39m:\n\u001b[0;32m--> 708\u001b[0m     res \u001b[38;5;241m=\u001b[39m \u001b[43m_minimize_bfgs\u001b[49m\u001b[43m(\u001b[49m\u001b[43mfun\u001b[49m\u001b[43m,\u001b[49m\u001b[43m \u001b[49m\u001b[43mx0\u001b[49m\u001b[43m,\u001b[49m\u001b[43m \u001b[49m\u001b[43margs\u001b[49m\u001b[43m,\u001b[49m\u001b[43m \u001b[49m\u001b[43mjac\u001b[49m\u001b[43m,\u001b[49m\u001b[43m \u001b[49m\u001b[43mcallback\u001b[49m\u001b[43m,\u001b[49m\u001b[43m \u001b[49m\u001b[38;5;241;43m*\u001b[39;49m\u001b[38;5;241;43m*\u001b[39;49m\u001b[43moptions\u001b[49m\u001b[43m)\u001b[49m\n\u001b[1;32m    709\u001b[0m \u001b[38;5;28;01melif\u001b[39;00m meth \u001b[38;5;241m==\u001b[39m \u001b[38;5;124m'\u001b[39m\u001b[38;5;124mnewton-cg\u001b[39m\u001b[38;5;124m'\u001b[39m:\n\u001b[1;32m    710\u001b[0m     res \u001b[38;5;241m=\u001b[39m _minimize_newtoncg(fun, x0, args, jac, hess, hessp, callback,\n\u001b[1;32m    711\u001b[0m                              \u001b[38;5;241m*\u001b[39m\u001b[38;5;241m*\u001b[39moptions)\n",
      "File \u001b[0;32m/software/pc24403/miniconda3/envs/tfdev/lib/python3.12/site-packages/scipy/optimize/_optimize.py:1372\u001b[0m, in \u001b[0;36m_minimize_bfgs\u001b[0;34m(fun, x0, args, jac, callback, gtol, norm, eps, maxiter, disp, return_all, finite_diff_rel_step, xrtol, c1, c2, hess_inv0, **unknown_options)\u001b[0m\n\u001b[1;32m   1369\u001b[0m \u001b[38;5;28;01mif\u001b[39;00m maxiter \u001b[38;5;129;01mis\u001b[39;00m \u001b[38;5;28;01mNone\u001b[39;00m:\n\u001b[1;32m   1370\u001b[0m     maxiter \u001b[38;5;241m=\u001b[39m \u001b[38;5;28mlen\u001b[39m(x0) \u001b[38;5;241m*\u001b[39m \u001b[38;5;241m200\u001b[39m\n\u001b[0;32m-> 1372\u001b[0m sf \u001b[38;5;241m=\u001b[39m \u001b[43m_prepare_scalar_function\u001b[49m\u001b[43m(\u001b[49m\u001b[43mfun\u001b[49m\u001b[43m,\u001b[49m\u001b[43m \u001b[49m\u001b[43mx0\u001b[49m\u001b[43m,\u001b[49m\u001b[43m \u001b[49m\u001b[43mjac\u001b[49m\u001b[43m,\u001b[49m\u001b[43m \u001b[49m\u001b[43margs\u001b[49m\u001b[38;5;241;43m=\u001b[39;49m\u001b[43margs\u001b[49m\u001b[43m,\u001b[49m\u001b[43m \u001b[49m\u001b[43mepsilon\u001b[49m\u001b[38;5;241;43m=\u001b[39;49m\u001b[43meps\u001b[49m\u001b[43m,\u001b[49m\n\u001b[1;32m   1373\u001b[0m \u001b[43m                              \u001b[49m\u001b[43mfinite_diff_rel_step\u001b[49m\u001b[38;5;241;43m=\u001b[39;49m\u001b[43mfinite_diff_rel_step\u001b[49m\u001b[43m)\u001b[49m\n\u001b[1;32m   1375\u001b[0m f \u001b[38;5;241m=\u001b[39m sf\u001b[38;5;241m.\u001b[39mfun\n\u001b[1;32m   1376\u001b[0m myfprime \u001b[38;5;241m=\u001b[39m sf\u001b[38;5;241m.\u001b[39mgrad\n",
      "File \u001b[0;32m/software/pc24403/miniconda3/envs/tfdev/lib/python3.12/site-packages/scipy/optimize/_optimize.py:288\u001b[0m, in \u001b[0;36m_prepare_scalar_function\u001b[0;34m(fun, x0, jac, args, bounds, epsilon, finite_diff_rel_step, hess)\u001b[0m\n\u001b[1;32m    284\u001b[0m     bounds \u001b[38;5;241m=\u001b[39m (\u001b[38;5;241m-\u001b[39mnp\u001b[38;5;241m.\u001b[39minf, np\u001b[38;5;241m.\u001b[39minf)\n\u001b[1;32m    286\u001b[0m \u001b[38;5;66;03m# ScalarFunction caches. Reuse of fun(x) during grad\u001b[39;00m\n\u001b[1;32m    287\u001b[0m \u001b[38;5;66;03m# calculation reduces overall function evaluations.\u001b[39;00m\n\u001b[0;32m--> 288\u001b[0m sf \u001b[38;5;241m=\u001b[39m \u001b[43mScalarFunction\u001b[49m\u001b[43m(\u001b[49m\u001b[43mfun\u001b[49m\u001b[43m,\u001b[49m\u001b[43m \u001b[49m\u001b[43mx0\u001b[49m\u001b[43m,\u001b[49m\u001b[43m \u001b[49m\u001b[43margs\u001b[49m\u001b[43m,\u001b[49m\u001b[43m \u001b[49m\u001b[43mgrad\u001b[49m\u001b[43m,\u001b[49m\u001b[43m \u001b[49m\u001b[43mhess\u001b[49m\u001b[43m,\u001b[49m\n\u001b[1;32m    289\u001b[0m \u001b[43m                    \u001b[49m\u001b[43mfinite_diff_rel_step\u001b[49m\u001b[43m,\u001b[49m\u001b[43m \u001b[49m\u001b[43mbounds\u001b[49m\u001b[43m,\u001b[49m\u001b[43m \u001b[49m\u001b[43mepsilon\u001b[49m\u001b[38;5;241;43m=\u001b[39;49m\u001b[43mepsilon\u001b[49m\u001b[43m)\u001b[49m\n\u001b[1;32m    291\u001b[0m \u001b[38;5;28;01mreturn\u001b[39;00m sf\n",
      "File \u001b[0;32m/software/pc24403/miniconda3/envs/tfdev/lib/python3.12/site-packages/scipy/optimize/_differentiable_functions.py:166\u001b[0m, in \u001b[0;36mScalarFunction.__init__\u001b[0;34m(self, fun, x0, args, grad, hess, finite_diff_rel_step, finite_diff_bounds, epsilon)\u001b[0m\n\u001b[1;32m    163\u001b[0m     \u001b[38;5;28mself\u001b[39m\u001b[38;5;241m.\u001b[39mf \u001b[38;5;241m=\u001b[39m fun_wrapped(\u001b[38;5;28mself\u001b[39m\u001b[38;5;241m.\u001b[39mx)\n\u001b[1;32m    165\u001b[0m \u001b[38;5;28mself\u001b[39m\u001b[38;5;241m.\u001b[39m_update_fun_impl \u001b[38;5;241m=\u001b[39m update_fun\n\u001b[0;32m--> 166\u001b[0m \u001b[38;5;28;43mself\u001b[39;49m\u001b[38;5;241;43m.\u001b[39;49m\u001b[43m_update_fun\u001b[49m\u001b[43m(\u001b[49m\u001b[43m)\u001b[49m\n\u001b[1;32m    168\u001b[0m \u001b[38;5;66;03m# Gradient evaluation\u001b[39;00m\n\u001b[1;32m    169\u001b[0m \u001b[38;5;28;01mif\u001b[39;00m \u001b[38;5;28mcallable\u001b[39m(grad):\n",
      "File \u001b[0;32m/software/pc24403/miniconda3/envs/tfdev/lib/python3.12/site-packages/scipy/optimize/_differentiable_functions.py:262\u001b[0m, in \u001b[0;36mScalarFunction._update_fun\u001b[0;34m(self)\u001b[0m\n\u001b[1;32m    260\u001b[0m \u001b[38;5;28;01mdef\u001b[39;00m \u001b[38;5;21m_update_fun\u001b[39m(\u001b[38;5;28mself\u001b[39m):\n\u001b[1;32m    261\u001b[0m     \u001b[38;5;28;01mif\u001b[39;00m \u001b[38;5;129;01mnot\u001b[39;00m \u001b[38;5;28mself\u001b[39m\u001b[38;5;241m.\u001b[39mf_updated:\n\u001b[0;32m--> 262\u001b[0m         \u001b[38;5;28;43mself\u001b[39;49m\u001b[38;5;241;43m.\u001b[39;49m\u001b[43m_update_fun_impl\u001b[49m\u001b[43m(\u001b[49m\u001b[43m)\u001b[49m\n\u001b[1;32m    263\u001b[0m         \u001b[38;5;28mself\u001b[39m\u001b[38;5;241m.\u001b[39mf_updated \u001b[38;5;241m=\u001b[39m \u001b[38;5;28;01mTrue\u001b[39;00m\n",
      "File \u001b[0;32m/software/pc24403/miniconda3/envs/tfdev/lib/python3.12/site-packages/scipy/optimize/_differentiable_functions.py:163\u001b[0m, in \u001b[0;36mScalarFunction.__init__.<locals>.update_fun\u001b[0;34m()\u001b[0m\n\u001b[1;32m    162\u001b[0m \u001b[38;5;28;01mdef\u001b[39;00m \u001b[38;5;21mupdate_fun\u001b[39m():\n\u001b[0;32m--> 163\u001b[0m     \u001b[38;5;28mself\u001b[39m\u001b[38;5;241m.\u001b[39mf \u001b[38;5;241m=\u001b[39m \u001b[43mfun_wrapped\u001b[49m\u001b[43m(\u001b[49m\u001b[38;5;28;43mself\u001b[39;49m\u001b[38;5;241;43m.\u001b[39;49m\u001b[43mx\u001b[49m\u001b[43m)\u001b[49m\n",
      "File \u001b[0;32m/software/pc24403/miniconda3/envs/tfdev/lib/python3.12/site-packages/scipy/optimize/_differentiable_functions.py:145\u001b[0m, in \u001b[0;36mScalarFunction.__init__.<locals>.fun_wrapped\u001b[0;34m(x)\u001b[0m\n\u001b[1;32m    141\u001b[0m \u001b[38;5;28mself\u001b[39m\u001b[38;5;241m.\u001b[39mnfev \u001b[38;5;241m+\u001b[39m\u001b[38;5;241m=\u001b[39m \u001b[38;5;241m1\u001b[39m\n\u001b[1;32m    142\u001b[0m \u001b[38;5;66;03m# Send a copy because the user may overwrite it.\u001b[39;00m\n\u001b[1;32m    143\u001b[0m \u001b[38;5;66;03m# Overwriting results in undefined behaviour because\u001b[39;00m\n\u001b[1;32m    144\u001b[0m \u001b[38;5;66;03m# fun(self.x) will change self.x, with the two no longer linked.\u001b[39;00m\n\u001b[0;32m--> 145\u001b[0m fx \u001b[38;5;241m=\u001b[39m \u001b[43mfun\u001b[49m\u001b[43m(\u001b[49m\u001b[43mnp\u001b[49m\u001b[38;5;241;43m.\u001b[39;49m\u001b[43mcopy\u001b[49m\u001b[43m(\u001b[49m\u001b[43mx\u001b[49m\u001b[43m)\u001b[49m\u001b[43m,\u001b[49m\u001b[43m \u001b[49m\u001b[38;5;241;43m*\u001b[39;49m\u001b[43margs\u001b[49m\u001b[43m)\u001b[49m\n\u001b[1;32m    146\u001b[0m \u001b[38;5;66;03m# Make sure the function returns a true scalar\u001b[39;00m\n\u001b[1;32m    147\u001b[0m \u001b[38;5;28;01mif\u001b[39;00m \u001b[38;5;129;01mnot\u001b[39;00m np\u001b[38;5;241m.\u001b[39misscalar(fx):\n",
      "File \u001b[0;32m/software/pc24403/miniconda3/envs/tfdev/lib/python3.12/site-packages/iminuit/minuit.py:998\u001b[0m, in \u001b[0;36mMinuit.scipy.<locals>.Wrapped.__call__\u001b[0;34m(self, par)\u001b[0m\n\u001b[1;32m    996\u001b[0m \u001b[38;5;28;01mdef\u001b[39;00m \u001b[38;5;21m__call__\u001b[39m(\u001b[38;5;28mself\u001b[39m, par):\n\u001b[1;32m    997\u001b[0m     \u001b[38;5;28mself\u001b[39m\u001b[38;5;241m.\u001b[39mpar[\u001b[38;5;28mself\u001b[39m\u001b[38;5;241m.\u001b[39mfree] \u001b[38;5;241m=\u001b[39m par\n\u001b[0;32m--> 998\u001b[0m     \u001b[38;5;28;01mreturn\u001b[39;00m \u001b[38;5;28;43mself\u001b[39;49m\u001b[38;5;241;43m.\u001b[39;49m\u001b[43mfcn\u001b[49m\u001b[43m(\u001b[49m\u001b[38;5;28;43mself\u001b[39;49m\u001b[38;5;241;43m.\u001b[39;49m\u001b[43mpar\u001b[49m\u001b[43m)\u001b[49m\n",
      "Cell \u001b[0;32mIn[15], line 3\u001b[0m, in \u001b[0;36mnll_dk_dd\u001b[0;34m(x)\u001b[0m\n\u001b[1;32m      1\u001b[0m \u001b[38;5;28;01mdef\u001b[39;00m \u001b[38;5;21mnll_dk_dd\u001b[39m(x):\n\u001b[1;32m      2\u001b[0m     x1 \u001b[38;5;241m=\u001b[39m x[:\u001b[38;5;241m12\u001b[39m]\n\u001b[0;32m----> 3\u001b[0m     \u001b[38;5;28mprint\u001b[39m(\u001b[43mprod_nll_dk_dd\u001b[49m\u001b[43m(\u001b[49m\u001b[43mx1\u001b[49m\u001b[43m)\u001b[49m)\n\u001b[1;32m      4\u001b[0m     \u001b[38;5;28;01mreturn\u001b[39;00m prod_nll_dk_dd(x1)\n",
      "File \u001b[0;32m/software/pc24403/miniconda3/envs/tfdev/lib/python3.12/site-packages/tensorflow/python/util/traceback_utils.py:150\u001b[0m, in \u001b[0;36mfilter_traceback.<locals>.error_handler\u001b[0;34m(*args, **kwargs)\u001b[0m\n\u001b[1;32m    148\u001b[0m filtered_tb \u001b[38;5;241m=\u001b[39m \u001b[38;5;28;01mNone\u001b[39;00m\n\u001b[1;32m    149\u001b[0m \u001b[38;5;28;01mtry\u001b[39;00m:\n\u001b[0;32m--> 150\u001b[0m   \u001b[38;5;28;01mreturn\u001b[39;00m \u001b[43mfn\u001b[49m\u001b[43m(\u001b[49m\u001b[38;5;241;43m*\u001b[39;49m\u001b[43margs\u001b[49m\u001b[43m,\u001b[49m\u001b[43m \u001b[49m\u001b[38;5;241;43m*\u001b[39;49m\u001b[38;5;241;43m*\u001b[39;49m\u001b[43mkwargs\u001b[49m\u001b[43m)\u001b[49m\n\u001b[1;32m    151\u001b[0m \u001b[38;5;28;01mexcept\u001b[39;00m \u001b[38;5;167;01mException\u001b[39;00m \u001b[38;5;28;01mas\u001b[39;00m e:\n\u001b[1;32m    152\u001b[0m   filtered_tb \u001b[38;5;241m=\u001b[39m _process_traceback_frames(e\u001b[38;5;241m.\u001b[39m__traceback__)\n",
      "File \u001b[0;32m/software/pc24403/miniconda3/envs/tfdev/lib/python3.12/site-packages/tensorflow/python/eager/polymorphic_function/polymorphic_function.py:833\u001b[0m, in \u001b[0;36mFunction.__call__\u001b[0;34m(self, *args, **kwds)\u001b[0m\n\u001b[1;32m    830\u001b[0m compiler \u001b[38;5;241m=\u001b[39m \u001b[38;5;124m\"\u001b[39m\u001b[38;5;124mxla\u001b[39m\u001b[38;5;124m\"\u001b[39m \u001b[38;5;28;01mif\u001b[39;00m \u001b[38;5;28mself\u001b[39m\u001b[38;5;241m.\u001b[39m_jit_compile \u001b[38;5;28;01melse\u001b[39;00m \u001b[38;5;124m\"\u001b[39m\u001b[38;5;124mnonXla\u001b[39m\u001b[38;5;124m\"\u001b[39m\n\u001b[1;32m    832\u001b[0m \u001b[38;5;28;01mwith\u001b[39;00m OptionalXlaContext(\u001b[38;5;28mself\u001b[39m\u001b[38;5;241m.\u001b[39m_jit_compile):\n\u001b[0;32m--> 833\u001b[0m   result \u001b[38;5;241m=\u001b[39m \u001b[38;5;28;43mself\u001b[39;49m\u001b[38;5;241;43m.\u001b[39;49m\u001b[43m_call\u001b[49m\u001b[43m(\u001b[49m\u001b[38;5;241;43m*\u001b[39;49m\u001b[43margs\u001b[49m\u001b[43m,\u001b[49m\u001b[43m \u001b[49m\u001b[38;5;241;43m*\u001b[39;49m\u001b[38;5;241;43m*\u001b[39;49m\u001b[43mkwds\u001b[49m\u001b[43m)\u001b[49m\n\u001b[1;32m    835\u001b[0m new_tracing_count \u001b[38;5;241m=\u001b[39m \u001b[38;5;28mself\u001b[39m\u001b[38;5;241m.\u001b[39mexperimental_get_tracing_count()\n\u001b[1;32m    836\u001b[0m without_tracing \u001b[38;5;241m=\u001b[39m (tracing_count \u001b[38;5;241m==\u001b[39m new_tracing_count)\n",
      "File \u001b[0;32m/software/pc24403/miniconda3/envs/tfdev/lib/python3.12/site-packages/tensorflow/python/eager/polymorphic_function/polymorphic_function.py:889\u001b[0m, in \u001b[0;36mFunction._call\u001b[0;34m(self, *args, **kwds)\u001b[0m\n\u001b[1;32m    886\u001b[0m \u001b[38;5;28;01mtry\u001b[39;00m:\n\u001b[1;32m    887\u001b[0m   \u001b[38;5;66;03m# This is the first call of __call__, so we have to initialize.\u001b[39;00m\n\u001b[1;32m    888\u001b[0m   initializers \u001b[38;5;241m=\u001b[39m []\n\u001b[0;32m--> 889\u001b[0m   \u001b[38;5;28;43mself\u001b[39;49m\u001b[38;5;241;43m.\u001b[39;49m\u001b[43m_initialize\u001b[49m\u001b[43m(\u001b[49m\u001b[43margs\u001b[49m\u001b[43m,\u001b[49m\u001b[43m \u001b[49m\u001b[43mkwds\u001b[49m\u001b[43m,\u001b[49m\u001b[43m \u001b[49m\u001b[43madd_initializers_to\u001b[49m\u001b[38;5;241;43m=\u001b[39;49m\u001b[43minitializers\u001b[49m\u001b[43m)\u001b[49m\n\u001b[1;32m    890\u001b[0m \u001b[38;5;28;01mfinally\u001b[39;00m:\n\u001b[1;32m    891\u001b[0m   \u001b[38;5;66;03m# At this point we know that the initialization is complete (or less\u001b[39;00m\n\u001b[1;32m    892\u001b[0m   \u001b[38;5;66;03m# interestingly an exception was raised) so we no longer need a lock.\u001b[39;00m\n\u001b[1;32m    893\u001b[0m   \u001b[38;5;28mself\u001b[39m\u001b[38;5;241m.\u001b[39m_lock\u001b[38;5;241m.\u001b[39mrelease()\n",
      "File \u001b[0;32m/software/pc24403/miniconda3/envs/tfdev/lib/python3.12/site-packages/tensorflow/python/eager/polymorphic_function/polymorphic_function.py:696\u001b[0m, in \u001b[0;36mFunction._initialize\u001b[0;34m(self, args, kwds, add_initializers_to)\u001b[0m\n\u001b[1;32m    691\u001b[0m \u001b[38;5;28mself\u001b[39m\u001b[38;5;241m.\u001b[39m_variable_creation_config \u001b[38;5;241m=\u001b[39m \u001b[38;5;28mself\u001b[39m\u001b[38;5;241m.\u001b[39m_generate_scoped_tracing_options(\n\u001b[1;32m    692\u001b[0m     variable_capturing_scope,\n\u001b[1;32m    693\u001b[0m     tracing_compilation\u001b[38;5;241m.\u001b[39mScopeType\u001b[38;5;241m.\u001b[39mVARIABLE_CREATION,\n\u001b[1;32m    694\u001b[0m )\n\u001b[1;32m    695\u001b[0m \u001b[38;5;66;03m# Force the definition of the function for these arguments\u001b[39;00m\n\u001b[0;32m--> 696\u001b[0m \u001b[38;5;28mself\u001b[39m\u001b[38;5;241m.\u001b[39m_concrete_variable_creation_fn \u001b[38;5;241m=\u001b[39m \u001b[43mtracing_compilation\u001b[49m\u001b[38;5;241;43m.\u001b[39;49m\u001b[43mtrace_function\u001b[49m\u001b[43m(\u001b[49m\n\u001b[1;32m    697\u001b[0m \u001b[43m    \u001b[49m\u001b[43margs\u001b[49m\u001b[43m,\u001b[49m\u001b[43m \u001b[49m\u001b[43mkwds\u001b[49m\u001b[43m,\u001b[49m\u001b[43m \u001b[49m\u001b[38;5;28;43mself\u001b[39;49m\u001b[38;5;241;43m.\u001b[39;49m\u001b[43m_variable_creation_config\u001b[49m\n\u001b[1;32m    698\u001b[0m \u001b[43m\u001b[49m\u001b[43m)\u001b[49m\n\u001b[1;32m    700\u001b[0m \u001b[38;5;28;01mdef\u001b[39;00m \u001b[38;5;21minvalid_creator_scope\u001b[39m(\u001b[38;5;241m*\u001b[39munused_args, \u001b[38;5;241m*\u001b[39m\u001b[38;5;241m*\u001b[39munused_kwds):\n\u001b[1;32m    701\u001b[0m \u001b[38;5;250m  \u001b[39m\u001b[38;5;124;03m\"\"\"Disables variable creation.\"\"\"\u001b[39;00m\n",
      "File \u001b[0;32m/software/pc24403/miniconda3/envs/tfdev/lib/python3.12/site-packages/tensorflow/python/eager/polymorphic_function/tracing_compilation.py:178\u001b[0m, in \u001b[0;36mtrace_function\u001b[0;34m(args, kwargs, tracing_options)\u001b[0m\n\u001b[1;32m    175\u001b[0m     args \u001b[38;5;241m=\u001b[39m tracing_options\u001b[38;5;241m.\u001b[39minput_signature\n\u001b[1;32m    176\u001b[0m     kwargs \u001b[38;5;241m=\u001b[39m {}\n\u001b[0;32m--> 178\u001b[0m   concrete_function \u001b[38;5;241m=\u001b[39m \u001b[43m_maybe_define_function\u001b[49m\u001b[43m(\u001b[49m\n\u001b[1;32m    179\u001b[0m \u001b[43m      \u001b[49m\u001b[43margs\u001b[49m\u001b[43m,\u001b[49m\u001b[43m \u001b[49m\u001b[43mkwargs\u001b[49m\u001b[43m,\u001b[49m\u001b[43m \u001b[49m\u001b[43mtracing_options\u001b[49m\n\u001b[1;32m    180\u001b[0m \u001b[43m  \u001b[49m\u001b[43m)\u001b[49m\n\u001b[1;32m    182\u001b[0m \u001b[38;5;28;01mif\u001b[39;00m \u001b[38;5;129;01mnot\u001b[39;00m tracing_options\u001b[38;5;241m.\u001b[39mbind_graph_to_function:\n\u001b[1;32m    183\u001b[0m   concrete_function\u001b[38;5;241m.\u001b[39m_garbage_collector\u001b[38;5;241m.\u001b[39mrelease()  \u001b[38;5;66;03m# pylint: disable=protected-access\u001b[39;00m\n",
      "File \u001b[0;32m/software/pc24403/miniconda3/envs/tfdev/lib/python3.12/site-packages/tensorflow/python/eager/polymorphic_function/tracing_compilation.py:283\u001b[0m, in \u001b[0;36m_maybe_define_function\u001b[0;34m(args, kwargs, tracing_options)\u001b[0m\n\u001b[1;32m    281\u001b[0m \u001b[38;5;28;01melse\u001b[39;00m:\n\u001b[1;32m    282\u001b[0m   target_func_type \u001b[38;5;241m=\u001b[39m lookup_func_type\n\u001b[0;32m--> 283\u001b[0m concrete_function \u001b[38;5;241m=\u001b[39m \u001b[43m_create_concrete_function\u001b[49m\u001b[43m(\u001b[49m\n\u001b[1;32m    284\u001b[0m \u001b[43m    \u001b[49m\u001b[43mtarget_func_type\u001b[49m\u001b[43m,\u001b[49m\u001b[43m \u001b[49m\u001b[43mlookup_func_context\u001b[49m\u001b[43m,\u001b[49m\u001b[43m \u001b[49m\u001b[43mfunc_graph\u001b[49m\u001b[43m,\u001b[49m\u001b[43m \u001b[49m\u001b[43mtracing_options\u001b[49m\n\u001b[1;32m    285\u001b[0m \u001b[43m\u001b[49m\u001b[43m)\u001b[49m\n\u001b[1;32m    287\u001b[0m \u001b[38;5;28;01mif\u001b[39;00m tracing_options\u001b[38;5;241m.\u001b[39mfunction_cache \u001b[38;5;129;01mis\u001b[39;00m \u001b[38;5;129;01mnot\u001b[39;00m \u001b[38;5;28;01mNone\u001b[39;00m:\n\u001b[1;32m    288\u001b[0m   tracing_options\u001b[38;5;241m.\u001b[39mfunction_cache\u001b[38;5;241m.\u001b[39madd(\n\u001b[1;32m    289\u001b[0m       concrete_function, current_func_context\n\u001b[1;32m    290\u001b[0m   )\n",
      "File \u001b[0;32m/software/pc24403/miniconda3/envs/tfdev/lib/python3.12/site-packages/tensorflow/python/eager/polymorphic_function/tracing_compilation.py:310\u001b[0m, in \u001b[0;36m_create_concrete_function\u001b[0;34m(function_type, type_context, func_graph, tracing_options)\u001b[0m\n\u001b[1;32m    303\u001b[0m   placeholder_bound_args \u001b[38;5;241m=\u001b[39m function_type\u001b[38;5;241m.\u001b[39mplaceholder_arguments(\n\u001b[1;32m    304\u001b[0m       placeholder_context\n\u001b[1;32m    305\u001b[0m   )\n\u001b[1;32m    307\u001b[0m disable_acd \u001b[38;5;241m=\u001b[39m tracing_options\u001b[38;5;241m.\u001b[39mattributes \u001b[38;5;129;01mand\u001b[39;00m tracing_options\u001b[38;5;241m.\u001b[39mattributes\u001b[38;5;241m.\u001b[39mget(\n\u001b[1;32m    308\u001b[0m     attributes_lib\u001b[38;5;241m.\u001b[39mDISABLE_ACD, \u001b[38;5;28;01mFalse\u001b[39;00m\n\u001b[1;32m    309\u001b[0m )\n\u001b[0;32m--> 310\u001b[0m traced_func_graph \u001b[38;5;241m=\u001b[39m \u001b[43mfunc_graph_module\u001b[49m\u001b[38;5;241;43m.\u001b[39;49m\u001b[43mfunc_graph_from_py_func\u001b[49m\u001b[43m(\u001b[49m\n\u001b[1;32m    311\u001b[0m \u001b[43m    \u001b[49m\u001b[43mtracing_options\u001b[49m\u001b[38;5;241;43m.\u001b[39;49m\u001b[43mname\u001b[49m\u001b[43m,\u001b[49m\n\u001b[1;32m    312\u001b[0m \u001b[43m    \u001b[49m\u001b[43mtracing_options\u001b[49m\u001b[38;5;241;43m.\u001b[39;49m\u001b[43mpython_function\u001b[49m\u001b[43m,\u001b[49m\n\u001b[1;32m    313\u001b[0m \u001b[43m    \u001b[49m\u001b[43mplaceholder_bound_args\u001b[49m\u001b[38;5;241;43m.\u001b[39;49m\u001b[43margs\u001b[49m\u001b[43m,\u001b[49m\n\u001b[1;32m    314\u001b[0m \u001b[43m    \u001b[49m\u001b[43mplaceholder_bound_args\u001b[49m\u001b[38;5;241;43m.\u001b[39;49m\u001b[43mkwargs\u001b[49m\u001b[43m,\u001b[49m\n\u001b[1;32m    315\u001b[0m \u001b[43m    \u001b[49m\u001b[38;5;28;43;01mNone\u001b[39;49;00m\u001b[43m,\u001b[49m\n\u001b[1;32m    316\u001b[0m \u001b[43m    \u001b[49m\u001b[43mfunc_graph\u001b[49m\u001b[38;5;241;43m=\u001b[39;49m\u001b[43mfunc_graph\u001b[49m\u001b[43m,\u001b[49m\n\u001b[1;32m    317\u001b[0m \u001b[43m    \u001b[49m\u001b[43madd_control_dependencies\u001b[49m\u001b[38;5;241;43m=\u001b[39;49m\u001b[38;5;129;43;01mnot\u001b[39;49;00m\u001b[43m \u001b[49m\u001b[43mdisable_acd\u001b[49m\u001b[43m,\u001b[49m\n\u001b[1;32m    318\u001b[0m \u001b[43m    \u001b[49m\u001b[43marg_names\u001b[49m\u001b[38;5;241;43m=\u001b[39;49m\u001b[43mfunction_type_utils\u001b[49m\u001b[38;5;241;43m.\u001b[39;49m\u001b[43mto_arg_names\u001b[49m\u001b[43m(\u001b[49m\u001b[43mfunction_type\u001b[49m\u001b[43m)\u001b[49m\u001b[43m,\u001b[49m\n\u001b[1;32m    319\u001b[0m \u001b[43m    \u001b[49m\u001b[43mcreate_placeholders\u001b[49m\u001b[38;5;241;43m=\u001b[39;49m\u001b[38;5;28;43;01mFalse\u001b[39;49;00m\u001b[43m,\u001b[49m\n\u001b[1;32m    320\u001b[0m \u001b[43m\u001b[49m\u001b[43m)\u001b[49m\n\u001b[1;32m    322\u001b[0m transform\u001b[38;5;241m.\u001b[39mapply_func_graph_transforms(traced_func_graph)\n\u001b[1;32m    324\u001b[0m graph_capture_container \u001b[38;5;241m=\u001b[39m traced_func_graph\u001b[38;5;241m.\u001b[39mfunction_captures\n",
      "File \u001b[0;32m/software/pc24403/miniconda3/envs/tfdev/lib/python3.12/site-packages/tensorflow/python/framework/func_graph.py:1059\u001b[0m, in \u001b[0;36mfunc_graph_from_py_func\u001b[0;34m(name, python_func, args, kwargs, signature, func_graph, add_control_dependencies, arg_names, op_return_value, collections, capture_by_value, create_placeholders)\u001b[0m\n\u001b[1;32m   1056\u001b[0m   \u001b[38;5;28;01mreturn\u001b[39;00m x\n\u001b[1;32m   1058\u001b[0m _, original_func \u001b[38;5;241m=\u001b[39m tf_decorator\u001b[38;5;241m.\u001b[39munwrap(python_func)\n\u001b[0;32m-> 1059\u001b[0m func_outputs \u001b[38;5;241m=\u001b[39m \u001b[43mpython_func\u001b[49m\u001b[43m(\u001b[49m\u001b[38;5;241;43m*\u001b[39;49m\u001b[43mfunc_args\u001b[49m\u001b[43m,\u001b[49m\u001b[43m \u001b[49m\u001b[38;5;241;43m*\u001b[39;49m\u001b[38;5;241;43m*\u001b[39;49m\u001b[43mfunc_kwargs\u001b[49m\u001b[43m)\u001b[49m\n\u001b[1;32m   1061\u001b[0m \u001b[38;5;66;03m# invariant: `func_outputs` contains only Tensors, CompositeTensors,\u001b[39;00m\n\u001b[1;32m   1062\u001b[0m \u001b[38;5;66;03m# TensorArrays and `None`s.\u001b[39;00m\n\u001b[1;32m   1063\u001b[0m func_outputs \u001b[38;5;241m=\u001b[39m variable_utils\u001b[38;5;241m.\u001b[39mconvert_variables_to_tensors(func_outputs)\n",
      "File \u001b[0;32m/software/pc24403/miniconda3/envs/tfdev/lib/python3.12/site-packages/tensorflow/python/eager/polymorphic_function/polymorphic_function.py:599\u001b[0m, in \u001b[0;36mFunction._generate_scoped_tracing_options.<locals>.wrapped_fn\u001b[0;34m(*args, **kwds)\u001b[0m\n\u001b[1;32m    595\u001b[0m \u001b[38;5;28;01mwith\u001b[39;00m default_graph\u001b[38;5;241m.\u001b[39m_variable_creator_scope(scope, priority\u001b[38;5;241m=\u001b[39m\u001b[38;5;241m50\u001b[39m):  \u001b[38;5;66;03m# pylint: disable=protected-access\u001b[39;00m\n\u001b[1;32m    596\u001b[0m   \u001b[38;5;66;03m# __wrapped__ allows AutoGraph to swap in a converted function. We give\u001b[39;00m\n\u001b[1;32m    597\u001b[0m   \u001b[38;5;66;03m# the function a weak reference to itself to avoid a reference cycle.\u001b[39;00m\n\u001b[1;32m    598\u001b[0m   \u001b[38;5;28;01mwith\u001b[39;00m OptionalXlaContext(compile_with_xla):\n\u001b[0;32m--> 599\u001b[0m     out \u001b[38;5;241m=\u001b[39m \u001b[43mweak_wrapped_fn\u001b[49m\u001b[43m(\u001b[49m\u001b[43m)\u001b[49m\u001b[38;5;241;43m.\u001b[39;49m\u001b[43m__wrapped__\u001b[49m\u001b[43m(\u001b[49m\u001b[38;5;241;43m*\u001b[39;49m\u001b[43margs\u001b[49m\u001b[43m,\u001b[49m\u001b[43m \u001b[49m\u001b[38;5;241;43m*\u001b[39;49m\u001b[38;5;241;43m*\u001b[39;49m\u001b[43mkwds\u001b[49m\u001b[43m)\u001b[49m\n\u001b[1;32m    600\u001b[0m   \u001b[38;5;28;01mreturn\u001b[39;00m out\n",
      "File \u001b[0;32m/software/pc24403/miniconda3/envs/tfdev/lib/python3.12/site-packages/tensorflow/python/eager/polymorphic_function/autograph_util.py:41\u001b[0m, in \u001b[0;36mpy_func_from_autograph.<locals>.autograph_handler\u001b[0;34m(*args, **kwargs)\u001b[0m\n\u001b[1;32m     39\u001b[0m \u001b[38;5;250m\u001b[39m\u001b[38;5;124;03m\"\"\"Calls a converted version of original_func.\"\"\"\u001b[39;00m\n\u001b[1;32m     40\u001b[0m \u001b[38;5;28;01mtry\u001b[39;00m:\n\u001b[0;32m---> 41\u001b[0m   \u001b[38;5;28;01mreturn\u001b[39;00m \u001b[43mapi\u001b[49m\u001b[38;5;241;43m.\u001b[39;49m\u001b[43mconverted_call\u001b[49m\u001b[43m(\u001b[49m\n\u001b[1;32m     42\u001b[0m \u001b[43m      \u001b[49m\u001b[43moriginal_func\u001b[49m\u001b[43m,\u001b[49m\n\u001b[1;32m     43\u001b[0m \u001b[43m      \u001b[49m\u001b[43margs\u001b[49m\u001b[43m,\u001b[49m\n\u001b[1;32m     44\u001b[0m \u001b[43m      \u001b[49m\u001b[43mkwargs\u001b[49m\u001b[43m,\u001b[49m\n\u001b[1;32m     45\u001b[0m \u001b[43m      \u001b[49m\u001b[43moptions\u001b[49m\u001b[38;5;241;43m=\u001b[39;49m\u001b[43mconverter\u001b[49m\u001b[38;5;241;43m.\u001b[39;49m\u001b[43mConversionOptions\u001b[49m\u001b[43m(\u001b[49m\n\u001b[1;32m     46\u001b[0m \u001b[43m          \u001b[49m\u001b[43mrecursive\u001b[49m\u001b[38;5;241;43m=\u001b[39;49m\u001b[38;5;28;43;01mTrue\u001b[39;49;00m\u001b[43m,\u001b[49m\n\u001b[1;32m     47\u001b[0m \u001b[43m          \u001b[49m\u001b[43moptional_features\u001b[49m\u001b[38;5;241;43m=\u001b[39;49m\u001b[43mautograph_options\u001b[49m\u001b[43m,\u001b[49m\n\u001b[1;32m     48\u001b[0m \u001b[43m          \u001b[49m\u001b[43muser_requested\u001b[49m\u001b[38;5;241;43m=\u001b[39;49m\u001b[38;5;28;43;01mTrue\u001b[39;49;00m\u001b[43m,\u001b[49m\n\u001b[1;32m     49\u001b[0m \u001b[43m      \u001b[49m\u001b[43m)\u001b[49m\u001b[43m)\u001b[49m\n\u001b[1;32m     50\u001b[0m \u001b[38;5;28;01mexcept\u001b[39;00m \u001b[38;5;167;01mException\u001b[39;00m \u001b[38;5;28;01mas\u001b[39;00m e:  \u001b[38;5;66;03m# pylint:disable=broad-except\u001b[39;00m\n\u001b[1;32m     51\u001b[0m   \u001b[38;5;28;01mif\u001b[39;00m \u001b[38;5;28mhasattr\u001b[39m(e, \u001b[38;5;124m\"\u001b[39m\u001b[38;5;124mag_error_metadata\u001b[39m\u001b[38;5;124m\"\u001b[39m):\n",
      "File \u001b[0;32m/software/pc24403/miniconda3/envs/tfdev/lib/python3.12/site-packages/tensorflow/python/autograph/impl/api.py:439\u001b[0m, in \u001b[0;36mconverted_call\u001b[0;34m(f, args, kwargs, caller_fn_scope, options)\u001b[0m\n\u001b[1;32m    437\u001b[0m \u001b[38;5;28;01mtry\u001b[39;00m:\n\u001b[1;32m    438\u001b[0m   \u001b[38;5;28;01mif\u001b[39;00m kwargs \u001b[38;5;129;01mis\u001b[39;00m \u001b[38;5;129;01mnot\u001b[39;00m \u001b[38;5;28;01mNone\u001b[39;00m:\n\u001b[0;32m--> 439\u001b[0m     result \u001b[38;5;241m=\u001b[39m \u001b[43mconverted_f\u001b[49m\u001b[43m(\u001b[49m\u001b[38;5;241;43m*\u001b[39;49m\u001b[43meffective_args\u001b[49m\u001b[43m,\u001b[49m\u001b[43m \u001b[49m\u001b[38;5;241;43m*\u001b[39;49m\u001b[38;5;241;43m*\u001b[39;49m\u001b[43mkwargs\u001b[49m\u001b[43m)\u001b[49m\n\u001b[1;32m    440\u001b[0m   \u001b[38;5;28;01melse\u001b[39;00m:\n\u001b[1;32m    441\u001b[0m     result \u001b[38;5;241m=\u001b[39m converted_f(\u001b[38;5;241m*\u001b[39meffective_args)\n",
      "File \u001b[0;32m/tmp/__autograph_generated_filefr8683d_.py:12\u001b[0m, in \u001b[0;36mouter_factory.<locals>.inner_factory.<locals>.tf__prod_nll_dk_dd\u001b[0;34m(x)\u001b[0m\n\u001b[1;32m     10\u001b[0m decay \u001b[38;5;241m=\u001b[39m \u001b[38;5;124m'\u001b[39m\u001b[38;5;124mb2dk_DD\u001b[39m\u001b[38;5;124m'\u001b[39m\n\u001b[1;32m     11\u001b[0m fracDD \u001b[38;5;241m=\u001b[39m \u001b[38;5;241m0.33\u001b[39m\n\u001b[0;32m---> 12\u001b[0m normalisationCrossTerms_p \u001b[38;5;241m=\u001b[39m \u001b[43mag__\u001b[49m\u001b[38;5;241;43m.\u001b[39;49m\u001b[43mconverted_call\u001b[49m\u001b[43m(\u001b[49m\u001b[43mag__\u001b[49m\u001b[38;5;241;43m.\u001b[39;49m\u001b[43mld\u001b[49m\u001b[43m(\u001b[49m\u001b[43mtotalAmplitudeSquared_Integrated_crossTerm\u001b[49m\u001b[43m)\u001b[49m\u001b[43m,\u001b[49m\u001b[43m \u001b[49m\u001b[43m(\u001b[49m\u001b[43mag__\u001b[49m\u001b[38;5;241;43m.\u001b[39;49m\u001b[43mld\u001b[49m\u001b[43m(\u001b[49m\u001b[43mamp_dk_dd_p\u001b[49m\u001b[43m)\u001b[49m\u001b[43m,\u001b[49m\u001b[43m \u001b[49m\u001b[43mag__\u001b[49m\u001b[38;5;241;43m.\u001b[39;49m\u001b[43mld\u001b[49m\u001b[43m(\u001b[49m\u001b[43mampbar_dk_dd_p\u001b[49m\u001b[43m)\u001b[49m\u001b[43m)\u001b[49m\u001b[43m,\u001b[49m\u001b[43m \u001b[49m\u001b[38;5;28;43;01mNone\u001b[39;49;00m\u001b[43m,\u001b[49m\u001b[43m \u001b[49m\u001b[43mfscope\u001b[49m\u001b[43m)\u001b[49m\n\u001b[1;32m     13\u001b[0m normalisationCrossTerms_m \u001b[38;5;241m=\u001b[39m ag__\u001b[38;5;241m.\u001b[39mconverted_call(ag__\u001b[38;5;241m.\u001b[39mld(totalAmplitudeSquared_Integrated_crossTerm), (ag__\u001b[38;5;241m.\u001b[39mld(amp_dk_dd_m), ag__\u001b[38;5;241m.\u001b[39mld(ampbar_dk_dd_m)), \u001b[38;5;28;01mNone\u001b[39;00m, fscope)\n\u001b[1;32m     14\u001b[0m misid_normalisationCrossTerms_p \u001b[38;5;241m=\u001b[39m ag__\u001b[38;5;241m.\u001b[39mconverted_call(ag__\u001b[38;5;241m.\u001b[39mld(totalAmplitudeSquared_Integrated_crossTerm), (ag__\u001b[38;5;241m.\u001b[39mld(amp_dpi_dd_p), ag__\u001b[38;5;241m.\u001b[39mld(ampbar_dpi_dd_p)), \u001b[38;5;28;01mNone\u001b[39;00m, fscope)\n",
      "File \u001b[0;32m/software/pc24403/miniconda3/envs/tfdev/lib/python3.12/site-packages/tensorflow/python/autograph/impl/api.py:441\u001b[0m, in \u001b[0;36mconverted_call\u001b[0;34m(f, args, kwargs, caller_fn_scope, options)\u001b[0m\n\u001b[1;32m    439\u001b[0m     result \u001b[38;5;241m=\u001b[39m converted_f(\u001b[38;5;241m*\u001b[39meffective_args, \u001b[38;5;241m*\u001b[39m\u001b[38;5;241m*\u001b[39mkwargs)\n\u001b[1;32m    440\u001b[0m   \u001b[38;5;28;01melse\u001b[39;00m:\n\u001b[0;32m--> 441\u001b[0m     result \u001b[38;5;241m=\u001b[39m \u001b[43mconverted_f\u001b[49m\u001b[43m(\u001b[49m\u001b[38;5;241;43m*\u001b[39;49m\u001b[43meffective_args\u001b[49m\u001b[43m)\u001b[49m\n\u001b[1;32m    442\u001b[0m \u001b[38;5;28;01mexcept\u001b[39;00m \u001b[38;5;167;01mException\u001b[39;00m \u001b[38;5;28;01mas\u001b[39;00m e:\n\u001b[1;32m    443\u001b[0m   _attach_error_metadata(e, converted_f)\n",
      "File \u001b[0;32m/tmp/__autograph_generated_file4daorwbz.py:15\u001b[0m, in \u001b[0;36mouter_factory.<locals>.inner_factory.<locals>.tf__totalAmplitudeSquared_Integrated_crossTerm\u001b[0;34m(A, Abar)\u001b[0m\n\u001b[1;32m     13\u001b[0m do_return \u001b[38;5;241m=\u001b[39m \u001b[38;5;28;01mFalse\u001b[39;00m\n\u001b[1;32m     14\u001b[0m retval_ \u001b[38;5;241m=\u001b[39m ag__\u001b[38;5;241m.\u001b[39mUndefinedReturnValue()\n\u001b[0;32m---> 15\u001b[0m phase \u001b[38;5;241m=\u001b[39m \u001b[43mag__\u001b[49m\u001b[38;5;241;43m.\u001b[39;49m\u001b[43mconverted_call\u001b[49m\u001b[43m(\u001b[49m\u001b[43mag__\u001b[49m\u001b[38;5;241;43m.\u001b[39;49m\u001b[43mld\u001b[49m\u001b[43m(\u001b[49m\u001b[43mDeltadeltaD\u001b[49m\u001b[43m)\u001b[49m\u001b[43m,\u001b[49m\u001b[43m \u001b[49m\u001b[43m(\u001b[49m\u001b[43mag__\u001b[49m\u001b[38;5;241;43m.\u001b[39;49m\u001b[43mld\u001b[49m\u001b[43m(\u001b[49m\u001b[43mA\u001b[49m\u001b[43m)\u001b[49m\u001b[43m,\u001b[49m\u001b[43m \u001b[49m\u001b[43mag__\u001b[49m\u001b[38;5;241;43m.\u001b[39;49m\u001b[43mld\u001b[49m\u001b[43m(\u001b[49m\u001b[43mAbar\u001b[49m\u001b[43m)\u001b[49m\u001b[43m)\u001b[49m\u001b[43m,\u001b[49m\u001b[43m \u001b[49m\u001b[38;5;28;43;01mNone\u001b[39;49;00m\u001b[43m,\u001b[49m\u001b[43m \u001b[49m\u001b[43mfscope\u001b[49m\u001b[43m)\u001b[49m\n\u001b[1;32m     16\u001b[0m AAbar \u001b[38;5;241m=\u001b[39m ag__\u001b[38;5;241m.\u001b[39mconverted_call(ag__\u001b[38;5;241m.\u001b[39mld(tf)\u001b[38;5;241m.\u001b[39mcast, (ag__\u001b[38;5;241m.\u001b[39mconverted_call(ag__\u001b[38;5;241m.\u001b[39mld(tf)\u001b[38;5;241m.\u001b[39mabs, (ag__\u001b[38;5;241m.\u001b[39mld(A),), \u001b[38;5;28;01mNone\u001b[39;00m, fscope) \u001b[38;5;241m*\u001b[39m ag__\u001b[38;5;241m.\u001b[39mconverted_call(ag__\u001b[38;5;241m.\u001b[39mld(tf)\u001b[38;5;241m.\u001b[39mabs, (ag__\u001b[38;5;241m.\u001b[39mld(Abar),), \u001b[38;5;28;01mNone\u001b[39;00m, fscope), ag__\u001b[38;5;241m.\u001b[39mld(tf)\u001b[38;5;241m.\u001b[39mfloat64), \u001b[38;5;28;01mNone\u001b[39;00m, fscope)\n\u001b[1;32m     17\u001b[0m real_part \u001b[38;5;241m=\u001b[39m ag__\u001b[38;5;241m.\u001b[39mconverted_call(ag__\u001b[38;5;241m.\u001b[39mld(tf)\u001b[38;5;241m.\u001b[39mcast, (ag__\u001b[38;5;241m.\u001b[39mconverted_call(ag__\u001b[38;5;241m.\u001b[39mld(tf)\u001b[38;5;241m.\u001b[39mmath\u001b[38;5;241m.\u001b[39mreduce_mean, (ag__\u001b[38;5;241m.\u001b[39mld(AAbar) \u001b[38;5;241m*\u001b[39m ag__\u001b[38;5;241m.\u001b[39mconverted_call(ag__\u001b[38;5;241m.\u001b[39mld(tf)\u001b[38;5;241m.\u001b[39mcos, (ag__\u001b[38;5;241m.\u001b[39mld(phase),), \u001b[38;5;28;01mNone\u001b[39;00m, fscope),), \u001b[38;5;28;01mNone\u001b[39;00m, fscope), ag__\u001b[38;5;241m.\u001b[39mld(tf)\u001b[38;5;241m.\u001b[39mfloat64), \u001b[38;5;28;01mNone\u001b[39;00m, fscope)\n",
      "File \u001b[0;32m/software/pc24403/miniconda3/envs/tfdev/lib/python3.12/site-packages/tensorflow/python/autograph/impl/api.py:441\u001b[0m, in \u001b[0;36mconverted_call\u001b[0;34m(f, args, kwargs, caller_fn_scope, options)\u001b[0m\n\u001b[1;32m    439\u001b[0m     result \u001b[38;5;241m=\u001b[39m converted_f(\u001b[38;5;241m*\u001b[39meffective_args, \u001b[38;5;241m*\u001b[39m\u001b[38;5;241m*\u001b[39mkwargs)\n\u001b[1;32m    440\u001b[0m   \u001b[38;5;28;01melse\u001b[39;00m:\n\u001b[0;32m--> 441\u001b[0m     result \u001b[38;5;241m=\u001b[39m \u001b[43mconverted_f\u001b[49m\u001b[43m(\u001b[49m\u001b[38;5;241;43m*\u001b[39;49m\u001b[43meffective_args\u001b[49m\u001b[43m)\u001b[49m\n\u001b[1;32m    442\u001b[0m \u001b[38;5;28;01mexcept\u001b[39;00m \u001b[38;5;167;01mException\u001b[39;00m \u001b[38;5;28;01mas\u001b[39;00m e:\n\u001b[1;32m    443\u001b[0m   _attach_error_metadata(e, converted_f)\n",
      "File \u001b[0;32m/tmp/__autograph_generated_file2_sikyj9.py:10\u001b[0m, in \u001b[0;36mouter_factory.<locals>.inner_factory.<locals>.tf__DeltadeltaD\u001b[0;34m(A, Abar)\u001b[0m\n\u001b[1;32m      8\u001b[0m do_return \u001b[38;5;241m=\u001b[39m \u001b[38;5;28;01mFalse\u001b[39;00m\n\u001b[1;32m      9\u001b[0m retval_ \u001b[38;5;241m=\u001b[39m ag__\u001b[38;5;241m.\u001b[39mUndefinedReturnValue()\n\u001b[0;32m---> 10\u001b[0m var \u001b[38;5;241m=\u001b[39m ag__\u001b[38;5;241m.\u001b[39mconverted_call(ag__\u001b[38;5;241m.\u001b[39mld(tf)\u001b[38;5;241m.\u001b[39mmath\u001b[38;5;241m.\u001b[39mangle, (\u001b[43mag__\u001b[49m\u001b[38;5;241;43m.\u001b[39;49m\u001b[43mld\u001b[49m\u001b[43m(\u001b[49m\u001b[43mA\u001b[49m\u001b[43m)\u001b[49m\u001b[43m \u001b[49m\u001b[38;5;241;43m*\u001b[39;49m\u001b[43m \u001b[49m\u001b[43mag__\u001b[49m\u001b[38;5;241;43m.\u001b[39;49m\u001b[43mconverted_call\u001b[49m\u001b[43m(\u001b[49m\u001b[43mag__\u001b[49m\u001b[38;5;241;43m.\u001b[39;49m\u001b[43mld\u001b[49m\u001b[43m(\u001b[49m\u001b[43mtf\u001b[49m\u001b[43m)\u001b[49m\u001b[38;5;241;43m.\u001b[39;49m\u001b[43mmath\u001b[49m\u001b[38;5;241;43m.\u001b[39;49m\u001b[43mconj\u001b[49m\u001b[43m,\u001b[49m\u001b[43m \u001b[49m\u001b[43m(\u001b[49m\u001b[43mag__\u001b[49m\u001b[38;5;241;43m.\u001b[39;49m\u001b[43mld\u001b[49m\u001b[43m(\u001b[49m\u001b[43mAbar\u001b[49m\u001b[43m)\u001b[49m\u001b[43m,\u001b[49m\u001b[43m)\u001b[49m\u001b[43m,\u001b[49m\u001b[43m \u001b[49m\u001b[38;5;28;43;01mNone\u001b[39;49;00m\u001b[43m,\u001b[49m\u001b[43m \u001b[49m\u001b[43mfscope\u001b[49m\u001b[43m)\u001b[49m,), \u001b[38;5;28;01mNone\u001b[39;00m, fscope)\n\u001b[1;32m     11\u001b[0m \u001b[38;5;28;01mtry\u001b[39;00m:\n\u001b[1;32m     12\u001b[0m     do_return \u001b[38;5;241m=\u001b[39m \u001b[38;5;28;01mTrue\u001b[39;00m\n",
      "File \u001b[0;32m/software/pc24403/miniconda3/envs/tfdev/lib/python3.12/site-packages/tensorflow/python/util/traceback_utils.py:150\u001b[0m, in \u001b[0;36mfilter_traceback.<locals>.error_handler\u001b[0;34m(*args, **kwargs)\u001b[0m\n\u001b[1;32m    148\u001b[0m filtered_tb \u001b[38;5;241m=\u001b[39m \u001b[38;5;28;01mNone\u001b[39;00m\n\u001b[1;32m    149\u001b[0m \u001b[38;5;28;01mtry\u001b[39;00m:\n\u001b[0;32m--> 150\u001b[0m   \u001b[38;5;28;01mreturn\u001b[39;00m \u001b[43mfn\u001b[49m\u001b[43m(\u001b[49m\u001b[38;5;241;43m*\u001b[39;49m\u001b[43margs\u001b[49m\u001b[43m,\u001b[49m\u001b[43m \u001b[49m\u001b[38;5;241;43m*\u001b[39;49m\u001b[38;5;241;43m*\u001b[39;49m\u001b[43mkwargs\u001b[49m\u001b[43m)\u001b[49m\n\u001b[1;32m    151\u001b[0m \u001b[38;5;28;01mexcept\u001b[39;00m \u001b[38;5;167;01mException\u001b[39;00m \u001b[38;5;28;01mas\u001b[39;00m e:\n\u001b[1;32m    152\u001b[0m   filtered_tb \u001b[38;5;241m=\u001b[39m _process_traceback_frames(e\u001b[38;5;241m.\u001b[39m__traceback__)\n",
      "File \u001b[0;32m/software/pc24403/miniconda3/envs/tfdev/lib/python3.12/site-packages/tensorflow/python/framework/override_binary_operator.py:149\u001b[0m, in \u001b[0;36moverride_binary_operator_helper.<locals>.r_binary_op_wrapper\u001b[0;34m(y, x)\u001b[0m\n\u001b[1;32m    144\u001b[0m \u001b[38;5;129m@traceback_utils\u001b[39m\u001b[38;5;241m.\u001b[39mfilter_traceback\n\u001b[1;32m    145\u001b[0m \u001b[38;5;28;01mdef\u001b[39;00m \u001b[38;5;21mr_binary_op_wrapper\u001b[39m(y, x):\n\u001b[1;32m    146\u001b[0m   \u001b[38;5;28;01mwith\u001b[39;00m ops\u001b[38;5;241m.\u001b[39mname_scope(\u001b[38;5;28;01mNone\u001b[39;00m, op_name, [x, y]) \u001b[38;5;28;01mas\u001b[39;00m name:\n\u001b[1;32m    147\u001b[0m     \u001b[38;5;66;03m# TODO(b/178860388): Figure out why binary_op_wrapper and\u001b[39;00m\n\u001b[1;32m    148\u001b[0m     \u001b[38;5;66;03m#   r_binary_op_wrapper use different force_same_dtype values.\u001b[39;00m\n\u001b[0;32m--> 149\u001b[0m     y, x \u001b[38;5;241m=\u001b[39m \u001b[43mmaybe_promote_tensors\u001b[49m\u001b[43m(\u001b[49m\u001b[43my\u001b[49m\u001b[43m,\u001b[49m\u001b[43m \u001b[49m\u001b[43mx\u001b[49m\u001b[43m,\u001b[49m\u001b[43m \u001b[49m\u001b[43mforce_same_dtype\u001b[49m\u001b[38;5;241;43m=\u001b[39;49m\u001b[38;5;28;43;01mTrue\u001b[39;49;00m\u001b[43m)\u001b[49m\n\u001b[1;32m    150\u001b[0m     \u001b[38;5;28;01mreturn\u001b[39;00m func(x, y, name\u001b[38;5;241m=\u001b[39mname)\n",
      "File \u001b[0;32m/software/pc24403/miniconda3/envs/tfdev/lib/python3.12/site-packages/tensorflow/python/framework/override_binary_operator.py:78\u001b[0m, in \u001b[0;36mmaybe_promote_tensors\u001b[0;34m(force_same_dtype, *tensors)\u001b[0m\n\u001b[1;32m     75\u001b[0m   dtype \u001b[38;5;241m=\u001b[39m tensors[\u001b[38;5;241m0\u001b[39m]\u001b[38;5;241m.\u001b[39mdtype\u001b[38;5;241m.\u001b[39mbase_dtype\n\u001b[1;32m     76\u001b[0m   \u001b[38;5;28;01mfor\u001b[39;00m tensor \u001b[38;5;129;01min\u001b[39;00m tensors[\u001b[38;5;241m1\u001b[39m:]:\n\u001b[1;32m     77\u001b[0m     promoted_tensors\u001b[38;5;241m.\u001b[39mappend(\n\u001b[0;32m---> 78\u001b[0m         \u001b[43mops\u001b[49m\u001b[38;5;241;43m.\u001b[39;49m\u001b[43mconvert_to_tensor\u001b[49m\u001b[43m(\u001b[49m\u001b[43mtensor\u001b[49m\u001b[43m,\u001b[49m\u001b[43m \u001b[49m\u001b[43mdtype\u001b[49m\u001b[43m,\u001b[49m\u001b[43m \u001b[49m\u001b[43mname\u001b[49m\u001b[38;5;241;43m=\u001b[39;49m\u001b[38;5;124;43m\"\u001b[39;49m\u001b[38;5;124;43mx\u001b[39;49m\u001b[38;5;124;43m\"\u001b[39;49m\u001b[43m)\u001b[49m)\n\u001b[1;32m     79\u001b[0m   \u001b[38;5;28;01mreturn\u001b[39;00m promoted_tensors\n\u001b[1;32m     80\u001b[0m result_type \u001b[38;5;241m=\u001b[39m np_dtypes\u001b[38;5;241m.\u001b[39m_result_type(  \u001b[38;5;66;03m# pylint: disable=protected-access\u001b[39;00m\n\u001b[1;32m     81\u001b[0m     \u001b[38;5;241m*\u001b[39m[_maybe_get_dtype(x) \u001b[38;5;28;01mfor\u001b[39;00m x \u001b[38;5;129;01min\u001b[39;00m nest\u001b[38;5;241m.\u001b[39mflatten(tensors)])\n",
      "File \u001b[0;32m/software/pc24403/miniconda3/envs/tfdev/lib/python3.12/site-packages/tensorflow/python/profiler/trace.py:183\u001b[0m, in \u001b[0;36mtrace_wrapper.<locals>.inner_wrapper.<locals>.wrapped\u001b[0;34m(*args, **kwargs)\u001b[0m\n\u001b[1;32m    181\u001b[0m   \u001b[38;5;28;01mwith\u001b[39;00m Trace(trace_name, \u001b[38;5;241m*\u001b[39m\u001b[38;5;241m*\u001b[39mtrace_kwargs):\n\u001b[1;32m    182\u001b[0m     \u001b[38;5;28;01mreturn\u001b[39;00m func(\u001b[38;5;241m*\u001b[39margs, \u001b[38;5;241m*\u001b[39m\u001b[38;5;241m*\u001b[39mkwargs)\n\u001b[0;32m--> 183\u001b[0m \u001b[38;5;28;01mreturn\u001b[39;00m \u001b[43mfunc\u001b[49m\u001b[43m(\u001b[49m\u001b[38;5;241;43m*\u001b[39;49m\u001b[43margs\u001b[49m\u001b[43m,\u001b[49m\u001b[43m \u001b[49m\u001b[38;5;241;43m*\u001b[39;49m\u001b[38;5;241;43m*\u001b[39;49m\u001b[43mkwargs\u001b[49m\u001b[43m)\u001b[49m\n",
      "File \u001b[0;32m/software/pc24403/miniconda3/envs/tfdev/lib/python3.12/site-packages/tensorflow/python/framework/ops.py:713\u001b[0m, in \u001b[0;36mconvert_to_tensor\u001b[0;34m(value, dtype, name, as_ref, preferred_dtype, dtype_hint, ctx, accepted_result_types)\u001b[0m\n\u001b[1;32m    711\u001b[0m \u001b[38;5;66;03m# TODO(b/142518781): Fix all call-sites and remove redundant arg\u001b[39;00m\n\u001b[1;32m    712\u001b[0m preferred_dtype \u001b[38;5;241m=\u001b[39m preferred_dtype \u001b[38;5;129;01mor\u001b[39;00m dtype_hint\n\u001b[0;32m--> 713\u001b[0m \u001b[38;5;28;01mreturn\u001b[39;00m \u001b[43mtensor_conversion_registry\u001b[49m\u001b[38;5;241;43m.\u001b[39;49m\u001b[43mconvert\u001b[49m\u001b[43m(\u001b[49m\n\u001b[1;32m    714\u001b[0m \u001b[43m    \u001b[49m\u001b[43mvalue\u001b[49m\u001b[43m,\u001b[49m\u001b[43m \u001b[49m\u001b[43mdtype\u001b[49m\u001b[43m,\u001b[49m\u001b[43m \u001b[49m\u001b[43mname\u001b[49m\u001b[43m,\u001b[49m\u001b[43m \u001b[49m\u001b[43mas_ref\u001b[49m\u001b[43m,\u001b[49m\u001b[43m \u001b[49m\u001b[43mpreferred_dtype\u001b[49m\u001b[43m,\u001b[49m\u001b[43m \u001b[49m\u001b[43maccepted_result_types\u001b[49m\n\u001b[1;32m    715\u001b[0m \u001b[43m\u001b[49m\u001b[43m)\u001b[49m\n",
      "File \u001b[0;32m/software/pc24403/miniconda3/envs/tfdev/lib/python3.12/site-packages/tensorflow/python/framework/tensor_conversion_registry.py:234\u001b[0m, in \u001b[0;36mconvert\u001b[0;34m(value, dtype, name, as_ref, preferred_dtype, accepted_result_types)\u001b[0m\n\u001b[1;32m    225\u001b[0m       \u001b[38;5;28;01mraise\u001b[39;00m \u001b[38;5;167;01mRuntimeError\u001b[39;00m(\n\u001b[1;32m    226\u001b[0m           _add_error_prefix(\n\u001b[1;32m    227\u001b[0m               \u001b[38;5;124mf\u001b[39m\u001b[38;5;124m\"\u001b[39m\u001b[38;5;124mConversion function \u001b[39m\u001b[38;5;132;01m{\u001b[39;00mconversion_func\u001b[38;5;132;01m!r}\u001b[39;00m\u001b[38;5;124m for type \u001b[39m\u001b[38;5;124m\"\u001b[39m\n\u001b[0;32m   (...)\u001b[0m\n\u001b[1;32m    230\u001b[0m               \u001b[38;5;124mf\u001b[39m\u001b[38;5;124m\"\u001b[39m\u001b[38;5;124mactual = \u001b[39m\u001b[38;5;132;01m{\u001b[39;00mret\u001b[38;5;241m.\u001b[39mdtype\u001b[38;5;241m.\u001b[39mbase_dtype\u001b[38;5;241m.\u001b[39mname\u001b[38;5;132;01m}\u001b[39;00m\u001b[38;5;124m\"\u001b[39m,\n\u001b[1;32m    231\u001b[0m               name\u001b[38;5;241m=\u001b[39mname))\n\u001b[1;32m    233\u001b[0m \u001b[38;5;28;01mif\u001b[39;00m ret \u001b[38;5;129;01mis\u001b[39;00m \u001b[38;5;28;01mNone\u001b[39;00m:\n\u001b[0;32m--> 234\u001b[0m   ret \u001b[38;5;241m=\u001b[39m \u001b[43mconversion_func\u001b[49m\u001b[43m(\u001b[49m\u001b[43mvalue\u001b[49m\u001b[43m,\u001b[49m\u001b[43m \u001b[49m\u001b[43mdtype\u001b[49m\u001b[38;5;241;43m=\u001b[39;49m\u001b[43mdtype\u001b[49m\u001b[43m,\u001b[49m\u001b[43m \u001b[49m\u001b[43mname\u001b[49m\u001b[38;5;241;43m=\u001b[39;49m\u001b[43mname\u001b[49m\u001b[43m,\u001b[49m\u001b[43m \u001b[49m\u001b[43mas_ref\u001b[49m\u001b[38;5;241;43m=\u001b[39;49m\u001b[43mas_ref\u001b[49m\u001b[43m)\u001b[49m\n\u001b[1;32m    236\u001b[0m \u001b[38;5;28;01mif\u001b[39;00m ret \u001b[38;5;129;01mis\u001b[39;00m \u001b[38;5;28mNotImplemented\u001b[39m:\n\u001b[1;32m    237\u001b[0m   \u001b[38;5;28;01mcontinue\u001b[39;00m\n",
      "File \u001b[0;32m/software/pc24403/miniconda3/envs/tfdev/lib/python3.12/site-packages/tensorflow/python/framework/constant_tensor_conversion.py:29\u001b[0m, in \u001b[0;36m_constant_tensor_conversion_function\u001b[0;34m(v, dtype, name, as_ref)\u001b[0m\n\u001b[1;32m     26\u001b[0m \u001b[38;5;28;01mfrom\u001b[39;00m \u001b[38;5;21;01mtensorflow\u001b[39;00m\u001b[38;5;21;01m.\u001b[39;00m\u001b[38;5;21;01mpython\u001b[39;00m\u001b[38;5;21;01m.\u001b[39;00m\u001b[38;5;21;01mframework\u001b[39;00m \u001b[38;5;28;01mimport\u001b[39;00m constant_op  \u001b[38;5;66;03m# pylint: disable=g-import-not-at-top\u001b[39;00m\n\u001b[1;32m     28\u001b[0m _ \u001b[38;5;241m=\u001b[39m as_ref\n\u001b[0;32m---> 29\u001b[0m \u001b[38;5;28;01mreturn\u001b[39;00m \u001b[43mconstant_op\u001b[49m\u001b[38;5;241;43m.\u001b[39;49m\u001b[43mconstant\u001b[49m\u001b[43m(\u001b[49m\u001b[43mv\u001b[49m\u001b[43m,\u001b[49m\u001b[43m \u001b[49m\u001b[43mdtype\u001b[49m\u001b[38;5;241;43m=\u001b[39;49m\u001b[43mdtype\u001b[49m\u001b[43m,\u001b[49m\u001b[43m \u001b[49m\u001b[43mname\u001b[49m\u001b[38;5;241;43m=\u001b[39;49m\u001b[43mname\u001b[49m\u001b[43m)\u001b[49m\n",
      "File \u001b[0;32m/software/pc24403/miniconda3/envs/tfdev/lib/python3.12/site-packages/tensorflow/python/ops/weak_tensor_ops.py:142\u001b[0m, in \u001b[0;36mweak_tensor_binary_op_wrapper.<locals>.wrapper\u001b[0;34m(*args, **kwargs)\u001b[0m\n\u001b[1;32m    140\u001b[0m \u001b[38;5;28;01mdef\u001b[39;00m \u001b[38;5;21mwrapper\u001b[39m(\u001b[38;5;241m*\u001b[39margs, \u001b[38;5;241m*\u001b[39m\u001b[38;5;241m*\u001b[39mkwargs):\n\u001b[1;32m    141\u001b[0m   \u001b[38;5;28;01mif\u001b[39;00m \u001b[38;5;129;01mnot\u001b[39;00m ops\u001b[38;5;241m.\u001b[39mis_auto_dtype_conversion_enabled():\n\u001b[0;32m--> 142\u001b[0m     \u001b[38;5;28;01mreturn\u001b[39;00m \u001b[43mop\u001b[49m\u001b[43m(\u001b[49m\u001b[38;5;241;43m*\u001b[39;49m\u001b[43margs\u001b[49m\u001b[43m,\u001b[49m\u001b[43m \u001b[49m\u001b[38;5;241;43m*\u001b[39;49m\u001b[38;5;241;43m*\u001b[39;49m\u001b[43mkwargs\u001b[49m\u001b[43m)\u001b[49m\n\u001b[1;32m    143\u001b[0m   bound_arguments \u001b[38;5;241m=\u001b[39m signature\u001b[38;5;241m.\u001b[39mbind(\u001b[38;5;241m*\u001b[39margs, \u001b[38;5;241m*\u001b[39m\u001b[38;5;241m*\u001b[39mkwargs)\n\u001b[1;32m    144\u001b[0m   bound_arguments\u001b[38;5;241m.\u001b[39mapply_defaults()\n",
      "File \u001b[0;32m/software/pc24403/miniconda3/envs/tfdev/lib/python3.12/site-packages/tensorflow/python/framework/constant_op.py:276\u001b[0m, in \u001b[0;36mconstant\u001b[0;34m(value, dtype, shape, name)\u001b[0m\n\u001b[1;32m    177\u001b[0m \u001b[38;5;129m@tf_export\u001b[39m(\u001b[38;5;124m\"\u001b[39m\u001b[38;5;124mconstant\u001b[39m\u001b[38;5;124m\"\u001b[39m, v1\u001b[38;5;241m=\u001b[39m[])\n\u001b[1;32m    178\u001b[0m \u001b[38;5;28;01mdef\u001b[39;00m \u001b[38;5;21mconstant\u001b[39m(\n\u001b[1;32m    179\u001b[0m     value, dtype\u001b[38;5;241m=\u001b[39m\u001b[38;5;28;01mNone\u001b[39;00m, shape\u001b[38;5;241m=\u001b[39m\u001b[38;5;28;01mNone\u001b[39;00m, name\u001b[38;5;241m=\u001b[39m\u001b[38;5;124m\"\u001b[39m\u001b[38;5;124mConst\u001b[39m\u001b[38;5;124m\"\u001b[39m\n\u001b[1;32m    180\u001b[0m ) \u001b[38;5;241m-\u001b[39m\u001b[38;5;241m>\u001b[39m Union[ops\u001b[38;5;241m.\u001b[39mOperation, ops\u001b[38;5;241m.\u001b[39m_EagerTensorBase]:\n\u001b[1;32m    181\u001b[0m \u001b[38;5;250m  \u001b[39m\u001b[38;5;124;03m\"\"\"Creates a constant tensor from a tensor-like object.\u001b[39;00m\n\u001b[1;32m    182\u001b[0m \n\u001b[1;32m    183\u001b[0m \u001b[38;5;124;03m  Note: All eager `tf.Tensor` values are immutable (in contrast to\u001b[39;00m\n\u001b[0;32m   (...)\u001b[0m\n\u001b[1;32m    274\u001b[0m \u001b[38;5;124;03m    ValueError: if called on a symbolic tensor.\u001b[39;00m\n\u001b[1;32m    275\u001b[0m \u001b[38;5;124;03m  \"\"\"\u001b[39;00m\n\u001b[0;32m--> 276\u001b[0m   \u001b[38;5;28;01mreturn\u001b[39;00m \u001b[43m_constant_impl\u001b[49m\u001b[43m(\u001b[49m\u001b[43mvalue\u001b[49m\u001b[43m,\u001b[49m\u001b[43m \u001b[49m\u001b[43mdtype\u001b[49m\u001b[43m,\u001b[49m\u001b[43m \u001b[49m\u001b[43mshape\u001b[49m\u001b[43m,\u001b[49m\u001b[43m \u001b[49m\u001b[43mname\u001b[49m\u001b[43m,\u001b[49m\u001b[43m \u001b[49m\u001b[43mverify_shape\u001b[49m\u001b[38;5;241;43m=\u001b[39;49m\u001b[38;5;28;43;01mFalse\u001b[39;49;00m\u001b[43m,\u001b[49m\n\u001b[1;32m    277\u001b[0m \u001b[43m                        \u001b[49m\u001b[43mallow_broadcast\u001b[49m\u001b[38;5;241;43m=\u001b[39;49m\u001b[38;5;28;43;01mTrue\u001b[39;49;00m\u001b[43m)\u001b[49m\n",
      "File \u001b[0;32m/software/pc24403/miniconda3/envs/tfdev/lib/python3.12/site-packages/tensorflow/python/framework/constant_op.py:291\u001b[0m, in \u001b[0;36m_constant_impl\u001b[0;34m(value, dtype, shape, name, verify_shape, allow_broadcast)\u001b[0m\n\u001b[1;32m    288\u001b[0m       \u001b[38;5;28;01mreturn\u001b[39;00m _constant_eager_impl(ctx, value, dtype, shape, verify_shape)\n\u001b[1;32m    289\u001b[0m   \u001b[38;5;28;01mreturn\u001b[39;00m _constant_eager_impl(ctx, value, dtype, shape, verify_shape)\n\u001b[0;32m--> 291\u001b[0m const_tensor \u001b[38;5;241m=\u001b[39m \u001b[43mops\u001b[49m\u001b[38;5;241;43m.\u001b[39;49m\u001b[43m_create_graph_constant\u001b[49m\u001b[43m(\u001b[49m\u001b[43m  \u001b[49m\u001b[38;5;66;43;03m# pylint: disable=protected-access\u001b[39;49;00m\n\u001b[1;32m    292\u001b[0m \u001b[43m    \u001b[49m\u001b[43mvalue\u001b[49m\u001b[43m,\u001b[49m\u001b[43m \u001b[49m\u001b[43mdtype\u001b[49m\u001b[43m,\u001b[49m\u001b[43m \u001b[49m\u001b[43mshape\u001b[49m\u001b[43m,\u001b[49m\u001b[43m \u001b[49m\u001b[43mname\u001b[49m\u001b[43m,\u001b[49m\u001b[43m \u001b[49m\u001b[43mverify_shape\u001b[49m\u001b[43m,\u001b[49m\u001b[43m \u001b[49m\u001b[43mallow_broadcast\u001b[49m\n\u001b[1;32m    293\u001b[0m \u001b[43m\u001b[49m\u001b[43m)\u001b[49m\n\u001b[1;32m    294\u001b[0m \u001b[38;5;28;01mreturn\u001b[39;00m const_tensor\n",
      "File \u001b[0;32m/software/pc24403/miniconda3/envs/tfdev/lib/python3.12/site-packages/tensorflow/python/framework/ops.py:276\u001b[0m, in \u001b[0;36m_create_graph_constant\u001b[0;34m(value, dtype, shape, name, verify_shape, allow_broadcast)\u001b[0m\n\u001b[1;32m    273\u001b[0m g \u001b[38;5;241m=\u001b[39m get_default_graph()\n\u001b[1;32m    274\u001b[0m tensor_value \u001b[38;5;241m=\u001b[39m attr_value_pb2\u001b[38;5;241m.\u001b[39mAttrValue()\n\u001b[1;32m    275\u001b[0m tensor_value\u001b[38;5;241m.\u001b[39mtensor\u001b[38;5;241m.\u001b[39mCopyFrom(\n\u001b[0;32m--> 276\u001b[0m     \u001b[43mtensor_util\u001b[49m\u001b[38;5;241;43m.\u001b[39;49m\u001b[43mmake_tensor_proto\u001b[49m\u001b[43m(\u001b[49m\n\u001b[1;32m    277\u001b[0m \u001b[43m        \u001b[49m\u001b[43mvalue\u001b[49m\u001b[43m,\u001b[49m\u001b[43m \u001b[49m\u001b[43mdtype\u001b[49m\u001b[38;5;241;43m=\u001b[39;49m\u001b[43mdtype\u001b[49m\u001b[43m,\u001b[49m\u001b[43m \u001b[49m\u001b[43mshape\u001b[49m\u001b[38;5;241;43m=\u001b[39;49m\u001b[43mshape\u001b[49m\u001b[43m,\u001b[49m\u001b[43m \u001b[49m\u001b[43mverify_shape\u001b[49m\u001b[38;5;241;43m=\u001b[39;49m\u001b[43mverify_shape\u001b[49m\u001b[43m,\u001b[49m\n\u001b[1;32m    278\u001b[0m \u001b[43m        \u001b[49m\u001b[43mallow_broadcast\u001b[49m\u001b[38;5;241;43m=\u001b[39;49m\u001b[43mallow_broadcast\u001b[49m\u001b[43m)\u001b[49m)\n\u001b[1;32m    279\u001b[0m dtype_value \u001b[38;5;241m=\u001b[39m attr_value_pb2\u001b[38;5;241m.\u001b[39mAttrValue(\u001b[38;5;28mtype\u001b[39m\u001b[38;5;241m=\u001b[39mtensor_value\u001b[38;5;241m.\u001b[39mtensor\u001b[38;5;241m.\u001b[39mdtype)\n\u001b[1;32m    280\u001b[0m attrs \u001b[38;5;241m=\u001b[39m {\u001b[38;5;124m\"\u001b[39m\u001b[38;5;124mvalue\u001b[39m\u001b[38;5;124m\"\u001b[39m: tensor_value, \u001b[38;5;124m\"\u001b[39m\u001b[38;5;124mdtype\u001b[39m\u001b[38;5;124m\"\u001b[39m: dtype_value}\n",
      "File \u001b[0;32m/software/pc24403/miniconda3/envs/tfdev/lib/python3.12/site-packages/tensorflow/python/framework/tensor_util.py:627\u001b[0m, in \u001b[0;36mmake_tensor_proto\u001b[0;34m(values, dtype, shape, verify_shape, allow_broadcast)\u001b[0m\n\u001b[1;32m    624\u001b[0m \u001b[38;5;28;01mif\u001b[39;00m append_fn \u001b[38;5;129;01mis\u001b[39;00m \u001b[38;5;28;01mNone\u001b[39;00m:\n\u001b[1;32m    625\u001b[0m   \u001b[38;5;28;01mraise\u001b[39;00m \u001b[38;5;167;01mTypeError\u001b[39;00m(\n\u001b[1;32m    626\u001b[0m       \u001b[38;5;124mf\u001b[39m\u001b[38;5;124m\"\u001b[39m\u001b[38;5;124mElement type not supported in TensorProto: \u001b[39m\u001b[38;5;132;01m{\u001b[39;00mnumpy_dtype\u001b[38;5;241m.\u001b[39mname\u001b[38;5;132;01m}\u001b[39;00m\u001b[38;5;124m.\u001b[39m\u001b[38;5;124m\"\u001b[39m)\n\u001b[0;32m--> 627\u001b[0m \u001b[43mappend_fn\u001b[49m\u001b[43m(\u001b[49m\u001b[43mtensor_proto\u001b[49m\u001b[43m,\u001b[49m\u001b[43m \u001b[49m\u001b[43mproto_values\u001b[49m\u001b[43m)\u001b[49m\n\u001b[1;32m    629\u001b[0m \u001b[38;5;28;01mreturn\u001b[39;00m tensor_proto\n",
      "File \u001b[0;32m/software/pc24403/miniconda3/envs/tfdev/lib/python3.12/site-packages/tensorflow/python/framework/tensor_util.py:193\u001b[0m, in \u001b[0;36mSlowAppendComplex128ArrayToTensorProto\u001b[0;34m(tensor_proto, proto_values)\u001b[0m\n\u001b[1;32m    191\u001b[0m \u001b[38;5;28;01mdef\u001b[39;00m \u001b[38;5;21mSlowAppendComplex128ArrayToTensorProto\u001b[39m(tensor_proto, proto_values):\n\u001b[1;32m    192\u001b[0m   tensor_proto\u001b[38;5;241m.\u001b[39mdcomplex_val\u001b[38;5;241m.\u001b[39mextend(\n\u001b[0;32m--> 193\u001b[0m       [\u001b[43mv\u001b[49m\u001b[38;5;241;43m.\u001b[39;49m\u001b[43mitem\u001b[49m\u001b[43m(\u001b[49m\u001b[43m)\u001b[49m \u001b[38;5;28;01mfor\u001b[39;00m x \u001b[38;5;129;01min\u001b[39;00m proto_values \u001b[38;5;28;01mfor\u001b[39;00m v \u001b[38;5;129;01min\u001b[39;00m [x\u001b[38;5;241m.\u001b[39mreal, x\u001b[38;5;241m.\u001b[39mimag]])\n",
      "\u001b[0;31mKeyboardInterrupt\u001b[0m: "
     ]
    }
   ],
   "source": [
    "xp = tf.Variable(0, tf.float32)\n",
    "yp = tf.Variable(0, tf.float32)\n",
    "xm = tf.Variable(0, tf.float32)\n",
    "ym = tf.Variable(0, tf.float32)\n",
    "xxi = tf.Variable(0, tf.float32)\n",
    "yxi = tf.Variable(0, tf.float32)\n",
    "\n",
    "#x = [xp, yp, xm, ym, xxi, yxi, varDict['n_sig_DK_KsPiPi_DD'], varDict['n_misid_DK_KsPiPi_DD'], varDict['n_comb_DK_KsPiPi_DD'], varDict['n_low_DK_KsPiPi_DD'], varDict['n_low_misID_DK_KsPiPi_DD'], varDict['n_low_Bs2DKPi_DK_KsPiPi_DD'], varDict['n_sig_DK_KsPiPi_LL'], varDict['n_misid_DK_KsPiPi_LL'], varDict['n_comb_DK_KsPiPi_LL'], varDict['n_low_DK_KsPiPi_LL'], varDict['n_low_misID_DK_KsPiPi_LL'], varDict['n_low_Bs2DKPi_DK_KsPiPi_LL'], varDict['n_misid_DPi_KsPiPi_DD'],  varDict['n_sig_DPi_KsPiPi_DD'], varDict['n_comb_DPi_KsPiPi_DD'], varDict['n_low_DPi_KsPiPi_DD'],  varDict['n_misid_DPi_KsPiPi_LL'], varDict['n_sig_DPi_KsPiPi_LL'], varDict['n_comb_DPi_KsPiPi_LL'], varDict['n_low_DPi_KsPiPi_LL']]\n",
    "x = [-0.09, -0.011, 0.058, 0.07, -0.05, 0.007, varDict['n_sig_DK_KsPiPi_DD'], varDict['n_misid_DK_KsPiPi_DD'], varDict['n_comb_DK_KsPiPi_DD'], varDict['n_low_DK_KsPiPi_DD'], varDict['n_low_misID_DK_KsPiPi_DD'], varDict['n_low_Bs2DKPi_DK_KsPiPi_DD'], varDict['n_sig_DK_KsPiPi_LL'], varDict['n_misid_DK_KsPiPi_LL'], varDict['n_comb_DK_KsPiPi_LL'], varDict['n_low_DK_KsPiPi_LL'], varDict['n_low_misID_DK_KsPiPi_LL'], varDict['n_low_Bs2DKPi_DK_KsPiPi_LL'], varDict['n_misid_DPi_KsPiPi_DD'],  varDict['n_sig_DPi_KsPiPi_DD'], varDict['n_comb_DPi_KsPiPi_DD'], varDict['n_low_DPi_KsPiPi_DD'],  varDict['n_misid_DPi_KsPiPi_LL'], varDict['n_sig_DPi_KsPiPi_LL'], varDict['n_comb_DPi_KsPiPi_LL'], varDict['n_low_DPi_KsPiPi_LL']] \n",
    "\n",
    "m = iminuit.Minuit(nll_dk_dd, x)\n",
    "m.fixed = [True, True, True, True, True, True, True, True, True, True, True, True, True, True, True, True, True, True, True, True, True, True, True, True, True, True]\n",
    "mg = m.scipy()"
   ]
  },
  {
   "cell_type": "code",
   "execution_count": null,
   "metadata": {},
   "outputs": [],
   "source": [
    "xp = tf.Variable(0, tf.float32)\n",
    "yp = tf.Variable(0, tf.float32)\n",
    "xm = tf.Variable(0, tf.float32)\n",
    "ym = tf.Variable(0, tf.float32)\n",
    "xxi = tf.Variable(0, tf.float32)\n",
    "yxi = tf.Variable(0, tf.float32)"
   ]
  },
  {
   "cell_type": "code",
   "execution_count": null,
   "metadata": {},
   "outputs": [],
   "source": [
    "x_phy = [xp, yp, xm, ym, xxi, yxi]"
   ]
  },
  {
   "cell_type": "code",
   "execution_count": null,
   "metadata": {},
   "outputs": [],
   "source": [
    "x_yields = "
   ]
  },
  {
   "cell_type": "code",
   "execution_count": null,
   "metadata": {},
   "outputs": [],
   "source": [
    "x = tf.Variable(2.0, tf.float64)\n"
   ]
  },
  {
   "cell_type": "code",
   "execution_count": null,
   "metadata": {},
   "outputs": [],
   "source": [
    "@tf.function\n",
    "def f(x):\n",
    "    return x * 2"
   ]
  },
  {
   "cell_type": "code",
   "execution_count": null,
   "metadata": {},
   "outputs": [
    {
     "data": {
      "text/plain": [
       "<tf.Tensor: shape=(), dtype=float32, numpy=4.0>"
      ]
     },
     "execution_count": 76,
     "metadata": {},
     "output_type": "execute_result"
    }
   ],
   "source": [
    "f(x)"
   ]
  },
  {
   "cell_type": "code",
   "execution_count": null,
   "metadata": {},
   "outputs": [
    {
     "data": {
      "text/plain": [
       "array([-0.04413212,  0.18449916,  1.28607347, ...,  0.15629232,\n",
       "       -0.03127556,  0.26304428])"
      ]
     },
     "execution_count": 21,
     "metadata": {},
     "output_type": "execute_result"
    }
   ],
   "source": [
    "DeltadeltaD(amp_dk_dd_p[0], ampbar_dk_dd_p[0])\n"
   ]
  },
  {
   "cell_type": "code",
   "execution_count": null,
   "metadata": {},
   "outputs": [
    {
     "name": "stdout",
     "output_type": "stream",
     "text": [
      "CPU times: user 878 µs, sys: 967 µs, total: 1.85 ms\n",
      "Wall time: 2 ms\n"
     ]
    }
   ],
   "source": [
    "%%time\n",
    "@tf.function\n",
    "def nll_extended_dk_dd(par):\n",
    "    decay = 'b2dk_DD'\n",
    "    x = tf.cast(Bu_M[decay], tf.float32)\n",
    "    nsig = tf.cast(par[0], tf.float32)\n",
    "    nmisid = tf.cast(varDict['n_misid_DK_KsPiPi_DD'], tf.float32)\n",
    "    ncomb = tf.cast(par[1], tf.float32)\n",
    "    nlow = tf.cast(par[2], tf.float32)\n",
    "\n",
    "    frac_low_misID = tf.cast(varDict['n_low_misID_DK_KsPiPi_DD']/varDict['n_low_DK_KsPiPi_DD'], tf.float32)\n",
    "    nlow_misID = tf.cast(varDict['n_low_misID_DK_KsPiPi_DD'], tf.float32)\n",
    "    nlow_Bs2DKPi = tf.cast(varDict['n_low_Bs2DKPi_DK_KsPiPi_DD'], tf.float32)\n",
    "\n",
    "    pdf =  pdfs_data[decay]['sig'](x)*nsig\n",
    "    pdf2 = pdfs_data[decay]['misid'](x)*nmisid\n",
    "    pdf3 = pdfs_data[decay]['comb'](x)*ncomb\n",
    "    pdf4 = pdfs_data[decay]['low'](x)*nlow\n",
    "    pdf5 = pdfs_data[decay]['low_misID'](x)*nlow_misID\n",
    "    pdf6 = pdfs_data[decay]['low_Bs2DKPi'](x)*nlow_Bs2DKPi\n",
    "    ntotal = (nsig + nmisid + ncomb + nlow + nlow_misID + nlow_Bs2DKPi)\n",
    "\n",
    "    npdf = pdf + pdf2 + pdf3 + pdf4 + pdf5 + pdf6\n",
    "\n",
    "    nll = tf.reduce_sum(-2*tf.math.log(npdf)) + 2*ntotal\n",
    "    return nll\n",
    "\n",
    "@tf.function\n",
    "def neg_like_and_gradient(parms):\n",
    "    return tfp.math.value_and_gradient(nll_extended_dk_dd, parms)\n",
    "\n",
    "\n"
   ]
  },
  {
   "cell_type": "code",
   "execution_count": null,
   "metadata": {},
   "outputs": [],
   "source": [
    "x_ini = [varDict_init['cp_range_n_sig_DK_KsPiPi_DD']*0.5, varDict_init['cp_range_n_comb_DK_KsPiPi_DD'], varDict_init['cp_range_n_low_DK_KsPiPi_DD']]\n"
   ]
  },
  {
   "cell_type": "code",
   "execution_count": null,
   "metadata": {},
   "outputs": [
    {
     "name": "stdout",
     "output_type": "stream",
     "text": [
      "WARNING:tensorflow:AutoGraph could not transform <function nll_extended_dk_dd at 0x7f1cf8e17ce0> and will run it as-is.\n",
      "Cause: Unable to locate the source code of <function nll_extended_dk_dd at 0x7f1cf8e17ce0>. Note that functions defined in certain environments, like the interactive Python shell, do not expose their source code. If that is the case, you should define them in a .py source file. If you are certain the code is graph-compatible, wrap the call using @tf.autograph.experimental.do_not_convert. Original error: could not get source code\n",
      "To silence this warning, decorate the function with @tf.autograph.experimental.do_not_convert\n",
      "WARNING: AutoGraph could not transform <function nll_extended_dk_dd at 0x7f1cf8e17ce0> and will run it as-is.\n",
      "Cause: Unable to locate the source code of <function nll_extended_dk_dd at 0x7f1cf8e17ce0>. Note that functions defined in certain environments, like the interactive Python shell, do not expose their source code. If that is the case, you should define them in a .py source file. If you are certain the code is graph-compatible, wrap the call using @tf.autograph.experimental.do_not_convert. Original error: could not get source code\n",
      "To silence this warning, decorate the function with @tf.autograph.experimental.do_not_convert\n"
     ]
    },
    {
     "data": {
      "text/html": [
       "<table>\n",
       "    <tr>\n",
       "        <th colspan=\"5\" style=\"text-align:center\" title=\"Minimizer\"> Migrad </th>\n",
       "    </tr>\n",
       "    <tr>\n",
       "        <td colspan=\"2\" style=\"text-align:left\" title=\"Minimum value of function\"> FCN = -1.139e+05 </td>\n",
       "        <td colspan=\"3\" style=\"text-align:center\" title=\"Total number of function and (optional) gradient evaluations\"> Nfcn = 43 </td>\n",
       "    </tr>\n",
       "    <tr>\n",
       "        <td colspan=\"2\" style=\"text-align:left\" title=\"Estimated distance to minimum and goal\"> EDM = 0.000977 (Goal: 0.0002) </td>\n",
       "        <td colspan=\"3\" style=\"text-align:center\" title=\"Total run time of algorithms\"> time = 30.0 sec </td>\n",
       "    </tr>\n",
       "    <tr>\n",
       "        <td colspan=\"2\" style=\"text-align:center;background-color:#92CCA6;color:black\"> Valid Minimum </td>\n",
       "        <td colspan=\"3\" style=\"text-align:center;background-color:#92CCA6;color:black\"> No Parameters at limit </td>\n",
       "    </tr>\n",
       "    <tr>\n",
       "        <td colspan=\"2\" style=\"text-align:center;background-color:#92CCA6;color:black\"> Below EDM threshold (goal x 10) </td>\n",
       "        <td colspan=\"3\" style=\"text-align:center;background-color:#92CCA6;color:black\"> Below call limit </td>\n",
       "    </tr>\n",
       "    <tr>\n",
       "        <td style=\"text-align:center;background-color:#92CCA6;color:black\"> Covariance </td>\n",
       "        <td style=\"text-align:center;background-color:#92CCA6;color:black\"> Hesse ok </td>\n",
       "        <td style=\"text-align:center;background-color:#92CCA6;color:black\" title=\"Is covariance matrix accurate?\"> Accurate </td>\n",
       "        <td style=\"text-align:center;background-color:#92CCA6;color:black\" title=\"Is covariance matrix positive definite?\"> Pos. def. </td>\n",
       "        <td style=\"text-align:center;background-color:#92CCA6;color:black\" title=\"Was positive definiteness enforced by Minuit?\"> Not forced </td>\n",
       "    </tr>\n",
       "</table><table>\n",
       "    <tr>\n",
       "        <td></td>\n",
       "        <th title=\"Variable name\"> Name </th>\n",
       "        <th title=\"Value of parameter\"> Value </th>\n",
       "        <th title=\"Hesse error\"> Hesse Error </th>\n",
       "        <th title=\"Minos lower error\"> Minos Error- </th>\n",
       "        <th title=\"Minos upper error\"> Minos Error+ </th>\n",
       "        <th title=\"Lower limit of the parameter\"> Limit- </th>\n",
       "        <th title=\"Upper limit of the parameter\"> Limit+ </th>\n",
       "        <th title=\"Is the parameter fixed in the fit\"> Fixed </th>\n",
       "    </tr>\n",
       "    <tr>\n",
       "        <th> 0 </th>\n",
       "        <td> x0 </td>\n",
       "        <td> 14.69e3 </td>\n",
       "        <td> 0.10e3 </td>\n",
       "        <td>  </td>\n",
       "        <td>  </td>\n",
       "        <td> 0 </td>\n",
       "        <td> 3.32E+04 </td>\n",
       "        <td>  </td>\n",
       "    </tr>\n",
       "    <tr>\n",
       "        <th> 1 </th>\n",
       "        <td> x1 </td>\n",
       "        <td> 2.866e3 </td>\n",
       "        <td> 0.029e3 </td>\n",
       "        <td>  </td>\n",
       "        <td>  </td>\n",
       "        <td> 0 </td>\n",
       "        <td> 4.3E+03 </td>\n",
       "        <td> yes </td>\n",
       "    </tr>\n",
       "    <tr>\n",
       "        <th> 2 </th>\n",
       "        <td> x2 </td>\n",
       "        <td> 520 </td>\n",
       "        <td> 5 </td>\n",
       "        <td>  </td>\n",
       "        <td>  </td>\n",
       "        <td> 10 </td>\n",
       "        <td> 779 </td>\n",
       "        <td> yes </td>\n",
       "    </tr>\n",
       "</table><table>\n",
       "    <tr>\n",
       "        <td></td>\n",
       "        <th> x0 </th>\n",
       "        <th> x1 </th>\n",
       "        <th> x2 </th>\n",
       "    </tr>\n",
       "    <tr>\n",
       "        <th> x0 </th>\n",
       "        <td> 1.08e+04 </td>\n",
       "        <td style=\"background-color:rgb(250,250,250);color:black\"> 0 </td>\n",
       "        <td style=\"background-color:rgb(250,250,250);color:black\"> 0 </td>\n",
       "    </tr>\n",
       "    <tr>\n",
       "        <th> x1 </th>\n",
       "        <td style=\"background-color:rgb(250,250,250);color:black\"> 0 </td>\n",
       "        <td> 0 </td>\n",
       "        <td style=\"background-color:rgb(250,250,250);color:black\"> 0 </td>\n",
       "    </tr>\n",
       "    <tr>\n",
       "        <th> x2 </th>\n",
       "        <td style=\"background-color:rgb(250,250,250);color:black\"> 0 </td>\n",
       "        <td style=\"background-color:rgb(250,250,250);color:black\"> 0 </td>\n",
       "        <td> 0 </td>\n",
       "    </tr>\n",
       "</table>"
      ],
      "text/plain": [
       "┌─────────────────────────────────────────────────────────────────────────┐\n",
       "│                                Migrad                                   │\n",
       "├──────────────────────────────────┬──────────────────────────────────────┤\n",
       "│ FCN = -1.139e+05                 │              Nfcn = 43               │\n",
       "│ EDM = 0.000977 (Goal: 0.0002)    │           time = 30.0 sec            │\n",
       "├──────────────────────────────────┼──────────────────────────────────────┤\n",
       "│          Valid Minimum           │        No Parameters at limit        │\n",
       "├──────────────────────────────────┼──────────────────────────────────────┤\n",
       "│ Below EDM threshold (goal x 10)  │           Below call limit           │\n",
       "├───────────────┬──────────────────┼───────────┬─────────────┬────────────┤\n",
       "│  Covariance   │     Hesse ok     │ Accurate  │  Pos. def.  │ Not forced │\n",
       "└───────────────┴──────────────────┴───────────┴─────────────┴────────────┘\n",
       "┌───┬──────┬───────────┬───────────┬────────────┬────────────┬─────────┬─────────┬───────┐\n",
       "│   │ Name │   Value   │ Hesse Err │ Minos Err- │ Minos Err+ │ Limit-  │ Limit+  │ Fixed │\n",
       "├───┼──────┼───────────┼───────────┼────────────┼────────────┼─────────┼─────────┼───────┤\n",
       "│ 0 │ x0   │  14.69e3  │  0.10e3   │            │            │    0    │ 33166.3 │       │\n",
       "│ 1 │ x1   │  2.866e3  │  0.029e3  │            │            │    0    │ 4298.82 │  yes  │\n",
       "│ 2 │ x2   │    520    │     5     │            │            │   10    │ 779.317 │  yes  │\n",
       "└───┴──────┴───────────┴───────────┴────────────┴────────────┴─────────┴─────────┴───────┘\n",
       "┌────┬────────────────────────────┐\n",
       "│    │       x0       x1       x2 │\n",
       "├────┼────────────────────────────┤\n",
       "│ x0 │ 1.08e+04        0        0 │\n",
       "│ x1 │        0        0        0 │\n",
       "│ x2 │        0        0        0 │\n",
       "└────┴────────────────────────────┘"
      ]
     },
     "execution_count": 24,
     "metadata": {},
     "output_type": "execute_result"
    }
   ],
   "source": [
    "m = Minuit(nll_extended_dk_dd, x_ini)\n",
    "m.limits = [(0, varDict_init['cp_range_n_sig_DK_KsPiPi_DD']*3.5), (0, varDict_init['cp_range_n_comb_DK_KsPiPi_DD']*1.5), (10, varDict_init['cp_range_n_low_DK_KsPiPi_DD']*1.5)]\n",
    "m.fixed = [False, True, True]\n",
    "m.migrad()"
   ]
  },
  {
   "cell_type": "code",
   "execution_count": null,
   "metadata": {},
   "outputs": [],
   "source": [
    "x_scan = np.linspace(2500, 3500, 10)\n",
    "\n",
    "def nll_extended_dk_dd(par, x_int):\n",
    "    decay = 'b2dk_DD'\n",
    "    x = tf.cast(Bu_M[decay], tf.float32)\n",
    "    nsig = tf.cast(varDict['n_sig_DK_KsPiPi_DD'], tf.float32)\n",
    "    nmisid = tf.cast(varDict['n_misid_DK_KsPiPi_DD'], tf.float32)\n",
    "    ncomb = tf.cast(x_int, tf.float32)\n",
    "    nlow = tf.cast(par[2], tf.float32)\n",
    "\n",
    "    frac_low_misID = tf.cast(varDict['n_low_misID_DK_KsPiPi_DD']/varDict['n_low_DK_KsPiPi_DD'], tf.float32)\n",
    "    nlow_misID = tf.cast(varDict['n_low_misID_DK_KsPiPi_DD'], tf.float32)\n",
    "    nlow_Bs2DKPi = tf.cast(varDict['n_low_Bs2DKPi_DK_KsPiPi_DD'], tf.float32)\n",
    "\n",
    "    pdf =  pdfs_data[decay]['sig'](x)*nsig\n",
    "    pdf2 = pdfs_data[decay]['misid'](x)*nmisid\n",
    "    pdf3 = pdfs_data[decay]['comb'](x)*ncomb\n",
    "    pdf4 = pdfs_data[decay]['low'](x)*nlow\n",
    "    pdf5 = pdfs_data[decay]['low_misID'](x)*nlow_misID\n",
    "    pdf6 = pdfs_data[decay]['low_Bs2DKPi'](x)*nlow_Bs2DKPi\n",
    "    ntotal = (nsig + nmisid + ncomb + nlow + nlow_misID + nlow_Bs2DKPi)\n",
    "\n",
    "    npdf = pdf + pdf2 + pdf3 + pdf4 + pdf5 + pdf6\n",
    "\n",
    "    nll = tf.reduce_sum(-2*tf.math.log(npdf)) + 2*ntotal\n",
    "    return nll"
   ]
  },
  {
   "cell_type": "code",
   "execution_count": null,
   "metadata": {},
   "outputs": [],
   "source": [
    "nll_scan = []\n",
    "for i in range(len(x_scan)):\n",
    "    nll_scan.append(nll_extended_dk_dd(x_ini, x_scan[i]))\n"
   ]
  },
  {
   "cell_type": "code",
   "execution_count": null,
   "metadata": {},
   "outputs": [
    {
     "data": {
      "text/plain": [
       "[<matplotlib.lines.Line2D at 0x7f8031b048f0>]"
      ]
     },
     "execution_count": 69,
     "metadata": {},
     "output_type": "execute_result"
    },
    {
     "data": {
      "image/png": "[encoded data removed]",
      "text/plain": [
       "<Figure size 640x480 with 1 Axes>"
      ]
     },
     "metadata": {},
     "output_type": "display_data"
    }
   ],
   "source": [
    "plt.plot(x_scan, nll_scan)"
   ]
  },
  {
   "cell_type": "code",
   "execution_count": null,
   "metadata": {},
   "outputs": [],
   "source": [
    "minimized_nsig = m.values[0]\n",
    "minimized_nmisid = varDict_init['cp_range_n_misid_DK_KsPiPi_DD']#m.values[0]/varDict_init['pideff_DK_KsPiPi_k_to_k_DD'] * varDict_init['pideff_DK_KsPiPi_k_to_p_DD']\n",
    "minimized_ncomb = m.values[1]\n",
    "minimized_nlow = m.values[2]\n",
    "minimized_nlow_misID = varDict_init['cp_range_n_low_misID_DK_KsPiPi_DD']\n",
    "minimized_nlow_Bs2DKPi = varDict_init['cp_range_n_low_Bs2DKPi_DK_KsPiPi_DD']\n"
   ]
  },
  {
   "cell_type": "code",
   "execution_count": null,
   "metadata": {},
   "outputs": [
    {
     "name": "stdout",
     "output_type": "stream",
     "text": [
      "WARNING:tensorflow:AutoGraph could not transform <function neg_like_and_gradient at 0x7fb3d4707600> and will run it as-is.\n",
      "Cause: Unable to locate the source code of <function neg_like_and_gradient at 0x7fb3d4707600>. Note that functions defined in certain environments, like the interactive Python shell, do not expose their source code. If that is the case, you should define them in a .py source file. If you are certain the code is graph-compatible, wrap the call using @tf.autograph.experimental.do_not_convert. Original error: could not get source code\n",
      "To silence this warning, decorate the function with @tf.autograph.experimental.do_not_convert\n",
      "WARNING: AutoGraph could not transform <function neg_like_and_gradient at 0x7fb3d4707600> and will run it as-is.\n",
      "Cause: Unable to locate the source code of <function neg_like_and_gradient at 0x7fb3d4707600>. Note that functions defined in certain environments, like the interactive Python shell, do not expose their source code. If that is the case, you should define them in a .py source file. If you are certain the code is graph-compatible, wrap the call using @tf.autograph.experimental.do_not_convert. Original error: could not get source code\n",
      "To silence this warning, decorate the function with @tf.autograph.experimental.do_not_convert\n",
      "Function value:  tf.Tensor(nan, shape=(), dtype=float32)\n",
      "Gradients:  tf.Tensor([5.5163125e+03 3.2954745e+02 1.7352319e-01], shape=(3,), dtype=float32)\n"
     ]
    }
   ],
   "source": [
    "# using the same values as above\n",
    "testval = tf.constant([1.0, 2.0, 3.0], shape=(3))\n",
    "out = neg_like_and_gradient(parms=testval)\n",
    "print(\"Function value: \", out[0])\n",
    "print(\"Gradients: \", out[1])"
   ]
  },
  {
   "cell_type": "code",
   "execution_count": null,
   "metadata": {},
   "outputs": [],
   "source": [
    "# optimization\n",
    "optim_results = tfp.optimizer.bfgs_minimize(\n",
    "    neg_like_and_gradient, testval, tolerance=1e-8)\n"
   ]
  },
  {
   "cell_type": "code",
   "execution_count": null,
   "metadata": {},
   "outputs": [
    {
     "name": "stdout",
     "output_type": "stream",
     "text": [
      "Estimated parameters:  [1. 2. 3.]\n",
      "Estimated standard errors:  [1. 1. 1.]\n"
     ]
    }
   ],
   "source": [
    "est_params = optim_results.position.numpy()\n",
    "est_serr = np.sqrt(np.diagonal(optim_results.inverse_hessian_estimate.numpy()))\n",
    "print(\"Estimated parameters: \", est_params)\n",
    "print(\"Estimated standard errors: \", est_serr)"
   ]
  },
  {
   "cell_type": "code",
   "execution_count": null,
   "metadata": {},
   "outputs": [
    {
     "name": "stdout",
     "output_type": "stream",
     "text": [
      "Function value:  tf.Tensor(nan, shape=(), dtype=float32)\n",
      "Gradients:  tf.Tensor([5.5163125e+03 3.2954745e+02 1.7352319e-01], shape=(3,), dtype=float32)\n"
     ]
    }
   ],
   "source": [
    "out = neg_like_and_gradient(est_params)\n",
    "print(\"Function value: \", out[0])\n",
    "print(\"Gradients: \", out[1])\n"
   ]
  },
  {
   "cell_type": "code",
   "execution_count": null,
   "metadata": {},
   "outputs": [
    {
     "name": "stdout",
     "output_type": "stream",
     "text": [
      "{'b2dk_DD': 20904, 'b2dpi_DD': 156309}\n"
     ]
    }
   ],
   "source": [
    "\n",
    "\n",
    "n_data = {'b2dk_DD': len(Bu_M['b2dk_DD']), 'b2dpi_DD': len(Bu_M['b2dpi_DD'])}\n",
    "print(n_data)\n",
    "bounds = [(-n_data['b2dk_DD'], 1.2*n_data['b2dk_DD']), (-n_data['b2dk_DD'], 1.2*n_data['b2dk_DD']), (-n_data['b2dk_DD'], 1.2*n_data['b2dk_DD'])]\n",
    "model = minimize(nll_extended_dk_dd, x_ini, method=\"L-BFGS-B\", bounds=bounds)\n"
   ]
  },
  {
   "cell_type": "code",
   "execution_count": null,
   "metadata": {},
   "outputs": [],
   "source": []
  },
  {
   "cell_type": "code",
   "execution_count": null,
   "metadata": {},
   "outputs": [],
   "source": []
  },
  {
   "cell_type": "code",
   "execution_count": null,
   "metadata": {},
   "outputs": [
    {
     "data": {
      "text/plain": [
       "True"
      ]
     },
     "execution_count": 40,
     "metadata": {},
     "output_type": "execute_result"
    }
   ],
   "source": [
    "minimized_nsig = model.x[0]\n",
    "minimized_nmisid = varDict_init['cp_range_n_misid_DK_KsPiPi_DD']#model.x[0]/varDict_init['pideff_DK_KsPiPi_k_to_k_DD'] * varDict_init['pideff_DK_KsPiPi_k_to_p_DD']\n",
    "minimized_ncomb = model.x[1]\n",
    "minimized_nlow = model.x[2]\n",
    "minimized_nlow_misID = varDict_init['cp_range_n_low_misID_DK_KsPiPi_DD']\n",
    "minimized_nlow_Bs2DKPi = varDict_init['cp_range_n_low_Bs2DKPi_DK_KsPiPi_DD']\n",
    "model.success"
   ]
  },
  {
   "cell_type": "code",
   "execution_count": null,
   "metadata": {},
   "outputs": [],
   "source": [
    "x_obs = [minimized_nsig, minimized_nmisid, minimized_ncomb, minimized_nlow, minimized_nlow_misID, minimized_nlow_Bs2DKPi]"
   ]
  },
  {
   "cell_type": "code",
   "execution_count": null,
   "metadata": {},
   "outputs": [],
   "source": []
  },
  {
   "cell_type": "code",
   "execution_count": null,
   "metadata": {},
   "outputs": [
    {
     "name": "stdout",
     "output_type": "stream",
     "text": [
      "nsig: 14214.13\n",
      "nmisid: 4052.02\n",
      "ncomb: 2865.88\n",
      "nlow: 519.54\n",
      "nlow_misID: 2476.18\n",
      "nlow_Bs2DKPi: 257.78\n",
      "ntotal: 24385.54\n",
      "nsig: 10706.31\n",
      "nmisid: 4019.96\n",
      "ncomb: 2965.24\n",
      "nlow: 434.39\n",
      "nlow_misID: 2515.03\n",
      "nlow_Bs2DKPi: 257.70\n",
      "ntotal: 20898.64\n"
     ]
    }
   ],
   "source": [
    "#Print the difference\n",
    "print('nsig: %.2f'%minimized_nsig)\n",
    "print('nmisid: %.2f'%minimized_nmisid)\n",
    "print('ncomb: %.2f'%minimized_ncomb)\n",
    "print('nlow: %.2f'%minimized_nlow)\n",
    "print('nlow_misID: %.2f'%minimized_nlow_misID)\n",
    "print('nlow_Bs2DKPi: %.2f'%minimized_nlow_Bs2DKPi)\n",
    "print('ntotal: %.2f'%(minimized_nsig+minimized_nmisid+minimized_ncomb+minimized_nlow+minimized_nlow_misID+minimized_nlow_Bs2DKPi))\n",
    "print('nsig: %.2f'%x_exp[0])\n",
    "print('nmisid: %.2f'%x_exp[1])\n",
    "print('ncomb: %.2f'%x_exp[2])\n",
    "print('nlow: %.2f'%x_exp[3])\n",
    "print('nlow_misID: %.2f'%x_exp[4])\n",
    "print('nlow_Bs2DKPi: %.2f'%x_exp[5])\n",
    "print('ntotal: %.2f'%(x_exp[0]+x_exp[1]+x_exp[2]+x_exp[3]+x_exp[4]+x_exp[5]))"
   ]
  },
  {
   "cell_type": "code",
   "execution_count": null,
   "metadata": {},
   "outputs": [
    {
     "name": "stderr",
     "output_type": "stream",
     "text": [
      "<>:35: SyntaxWarning: invalid escape sequence '\\p'\n",
      "<>:35: SyntaxWarning: invalid escape sequence '\\p'\n",
      "/tmp/ipykernel_162913/2769646000.py:35: SyntaxWarning: invalid escape sequence '\\p'\n",
      "  ax.set_xlabel('$M(B^{\\pm})$')\n"
     ]
    }
   ],
   "source": [
    "def plotOn(data=[], var=[], decay=decay,  nbins=100, ax=None, range=[5150, 5800]):\n",
    "\n",
    "\n",
    "    density=False\n",
    "    colors={'sig': 'blue', 'misid': 'yellowgreen', 'comb': 'violet', 'low': 'pink', 'low_misID': 'silver', 'low_Bs2DKPi': 'green'}\n",
    "    filled={'sig': False, 'misid': False, 'comb': True, 'low': True, 'low_misID': True, 'low_Bs2DKPi': True}\n",
    "    bin_edges = np.linspace(range[0], range[1], nbins+1)\n",
    "    bin_centers = 0.5 * (bin_edges[:-1] + bin_edges[1:])\n",
    "    bin_centers = tf.cast(bin_centers, tf.float32)\n",
    "    # Assuming s1 is sorted and binned accordingly, this is a placeholder for counting entries per bin\n",
    "    counts, _ = np.histogram(data[decay], bins=bin_edges, density=density)\n",
    "    # Calculate the standard deviation for the error bars\n",
    "    std_devs = np.sqrt(counts)\n",
    "    ax.errorbar(bin_centers, counts, yerr=std_devs, fmt='+', color='darkviolet',  label='Toy Data')\n",
    "    #for key in prob.keys():\n",
    "    #ax.hist(var[decay], bins=100, histtype='step', weights=weights['sig']*data[decay].shape[1], label='sig')\n",
    "    #ax.hist([var[decay], var[decay], var[decay], var[decay], var[decay], var[decay]], bins=100, histtype='step', stacked=True, weights=[weights[key]*var[decay].shape[1] for key in weights.keys()], label=[key for key in weights.keys()])\n",
    "    keys=[ 'misid', 'sig'] \n",
    "    if decay.split('_')[0] == 'b2dk':\n",
    "        keys=['misid', 'sig']\n",
    "        colors={'sig': 'yellowgreen', 'misid': 'blue', 'comb': 'violet', 'low': 'pink', 'low_misID': 'silver', 'low_Bs2DKPi': 'green'}\n",
    "    weights = prob_extended(bin_centers, x_exp) \n",
    "\n",
    "    #ax.hist([var[decay] for key in keys], bins=100, histtype='step', stacked=False, weights=[(weights[key].flatten()) for key in keys], label=[key for key in keys], color=[colors[key] for key in keys], density=density)\n",
    "    ax.plot(bin_centers, weights['total'](bin_centers)/sum(weights['total'](bin_centers))*len(data[decay]), color='red', label='Total ')\n",
    "    ax.plot(bin_centers, weights['sig'](bin_centers)/sum(weights['total'](bin_centers))*len(data[decay]), color='blue', label='Signal')\n",
    "    ax.plot(bin_centers, weights['misid'](bin_centers)/sum(weights['total'](bin_centers))*len(data[decay]), color='yellowgreen', label='MisID')\n",
    "    ax.plot(bin_centers, weights['comb'](bin_centers)/sum(weights['total'](bin_centers))*len(data[decay]), color='violet', label='Combinatorial')\n",
    "    ax.plot(bin_centers, weights['low'](bin_centers)/sum(weights['total'](bin_centers))*len(data[decay]), color='pink', label='Low')\n",
    "    ax.plot(bin_centers, weights['low_misID'](bin_centers)/sum(weights['total'](bin_centers))*len(data[decay]), color='silver', label='Low MisID')\n",
    "    ax.plot(bin_centers, weights['low_Bs2DKPi'](bin_centers)/sum(weights['total'](bin_centers))*len(data[decay]), color='green', label='Low Bs2DKPi')\n",
    "    #ax.hist(var[decay], weights=sum_weights.flatten()*scale_factor, color='red', label='Total',bins=100, histtype='step', density=density)\n",
    "    ax.legend()\n",
    "\n",
    "    ax.set_xlabel('$M(B^{\\pm})$')"
   ]
  },
  {
   "cell_type": "code",
   "execution_count": null,
   "metadata": {},
   "outputs": [
    {
     "name": "stdout",
     "output_type": "stream",
     "text": [
      "CPU times: user 59 µs, sys: 14 µs, total: 73 µs\n",
      "Wall time: 114 µs\n"
     ]
    }
   ],
   "source": [
    "%%time\n",
    "\n",
    "\n",
    "def prob_extended(Bu_M, par):\n",
    "    decay = 'b2dk_DD'\n",
    "    x = tf.cast(Bu_M, tf.float32)\n",
    "    nsig = tf.cast(par[0], tf.float32)\n",
    "    nmisid = tf.cast(par[1], tf.float32)\n",
    "    ncomb = tf.cast(par[2], tf.float32)\n",
    "    nlow = tf.cast(par[3], tf.float32)\n",
    "    nlow_misID = tf.cast(par[4], tf.float32)\n",
    "    nlow_Bs2DKPi = tf.cast(par[5], tf.float32)\n",
    "\n",
    "    pdf = pdfs_data['b2dk_DD']['sig']\n",
    "    pdf2 = pdfs_data['b2dk_DD']['misid']\n",
    "    pdf3 = pdfs_data['b2dk_DD']['comb']\n",
    "    pdf4 = pdfs_data['b2dk_DD']['low']\n",
    "    pdf5 = pdfs_data['b2dk_DD']['low_misID']\n",
    "    pdf6 = pdfs_data['b2dk_DD']['low_Bs2DKPi']\n",
    "    ntotal = (nsig + nmisid + ncomb + nlow + nlow_misID + nlow_Bs2DKPi)\n",
    "\n",
    "    npdf = nsig*pdf(x) + nmisid*pdf2(x) + ncomb*pdf3(x) + nlow*pdf4(x) + nlow_misID*pdf5(x) + nlow_Bs2DKPi*pdf6(x)\n",
    "\n",
    "    prob={}\n",
    "    prob['total'] = lambda x:  (nsig*pdf(x) + nmisid*pdf2(x) + ncomb*pdf3(x) + nlow*pdf4(x) + nlow_misID*pdf5(x) + nlow_Bs2DKPi*pdf6(x))/ntotal\n",
    "    prob['sig'] = lambda x: nsig*pdf(x)/ntotal\n",
    "    prob['misid'] = lambda x: nmisid*pdf2(x)/ntotal\n",
    "    prob['comb'] = lambda x: ncomb*pdf3(x)/ntotal\n",
    "    prob['low'] = lambda x: nlow*pdf4(x)/ntotal\n",
    "    prob['low_misID'] = lambda x:nlow_misID*pdf5(x)/ntotal\n",
    "    prob['low_Bs2DKPi'] = lambda x:nlow_Bs2DKPi*pdf6(x)/ntotal\n",
    "\n",
    "    \n",
    "    return prob\n"
   ]
  },
  {
   "cell_type": "code",
   "execution_count": null,
   "metadata": {},
   "outputs": [
    {
     "data": {
      "image/png": "[encoded data removed]",
      "text/plain": [
       "<Figure size 640x480 with 1 Axes>"
      ]
     },
     "metadata": {},
     "output_type": "display_data"
    }
   ],
   "source": [
    "fig, ax = plt.subplots()\n",
    "plotOn(data=Bu_M, var=[], decay='b2dk_DD',  ax=ax, nbins=144)\n",
    "\n"
   ]
  },
  {
   "cell_type": "markdown",
   "metadata": {},
   "source": [
    "# Only fit on DPi"
   ]
  },
  {
   "cell_type": "code",
   "execution_count": null,
   "metadata": {},
   "outputs": [],
   "source": [
    "def nll_extended_dpi_dd(par):\n",
    "    decay = 'b2dpi_DD'\n",
    "    x= Bu_M[decay]\n",
    "    nsig = par[0]\n",
    "    nmisid = varDict_init['cp_range_n_sig_DK_KsPiPi_DD']/(varDict_init['pideff_DK_KsPiPi_k_to_k_DD']) * varDict_init['pideff_DK_KsPiPi_k_to_p_DD']\n",
    "    ncomb = par[1]\n",
    "    nlow = par[2]\n",
    "\n",
    "    pdf = lambda x: pdfs_data[decay]['sig'](x)*nsig\n",
    "    pdf2 = lambda x: pdfs_data[decay]['misid'](x)*nmisid\n",
    "    pdf3 = lambda x: pdfs_data[decay]['comb'](x)*ncomb\n",
    "    pdf4 = lambda x: pdfs_data[decay]['low'](x)*nlow\n",
    "\n",
    "    ntotal = (nsig + nmisid + ncomb + nlow )\n",
    "\n",
    "    npdf = pdf(x) + pdf2(x) + pdf3(x) + pdf4(x)\n",
    "\n",
    "    nll = tf.reduce_sum(- 2 * np.log(npdf)) + 2 * ntotal\n",
    "    \n",
    "    return nll "
   ]
  },
  {
   "cell_type": "code",
   "execution_count": null,
   "metadata": {},
   "outputs": [
    {
     "name": "stderr",
     "output_type": "stream",
     "text": [
      "/tmp/ipykernel_120626/804192898.py:18: RuntimeWarning: invalid value encountered in log\n",
      "  nll = tf.reduce_sum(- 2 * np.log(npdf)) + 2 * ntotal\n"
     ]
    }
   ],
   "source": [
    "x_ini = (varDict_init['n_sig_DPi_KsPiPi_DD'], varDict_init['n_comb_DPi_KsPiPi_DD'], varDict_init['n_low_DPi_KsPiPi_DD'])\n",
    "bounds = [(-x_ini[0], 5*x_ini[0]), (-x_ini[1], 5*x_ini[1]), (-x_ini[2], 5*x_ini[2])]\n",
    "model = minimize(nll_extended_dpi_dd, x_ini, method=\"L-BFGS-B\", bounds=bounds)"
   ]
  },
  {
   "cell_type": "code",
   "execution_count": null,
   "metadata": {},
   "outputs": [],
   "source": [
    "minimized_nsig = model.x[0]\n",
    "minimized_nmisid = varDict_init['cp_range_n_misid_DPi_KsPiPi_DD']\n",
    "minimized_ncomb = model.x[1]\n",
    "minimized_nlow = model.x[2]\n"
   ]
  },
  {
   "cell_type": "code",
   "execution_count": null,
   "metadata": {},
   "outputs": [],
   "source": [
    "x_exp = (varDict['n_sig_DPi_KsPiPi_DD'], varDict['n_misid_DPi_KsPiPi_DD'], varDict['n_comb_DPi_KsPiPi_DD'], varDict['n_low_DPi_KsPiPi_DD'])\n"
   ]
  },
  {
   "cell_type": "code",
   "execution_count": null,
   "metadata": {},
   "outputs": [],
   "source": [
    "x_obs = [minimized_nsig, minimized_nmisid, minimized_ncomb, minimized_nlow]"
   ]
  },
  {
   "cell_type": "code",
   "execution_count": null,
   "metadata": {},
   "outputs": [
    {
     "name": "stdout",
     "output_type": "stream",
     "text": [
      "nsig: 137475.36\n",
      "nmisid: 1418.44\n",
      "ncomb: 7506.78\n",
      "nlow: 9427.72\n",
      "ntotal: 155828.29\n",
      "nsig: 138028.07\n",
      "nmisid: 1613.96\n",
      "ncomb: 7379.43\n",
      "nlow: 9294.26\n",
      "ntotal: 156315.71\n"
     ]
    }
   ],
   "source": [
    "#Print the difference\n",
    "print('nsig: %.2f'%minimized_nsig)\n",
    "print('nmisid: %.2f'%minimized_nmisid)\n",
    "print('ncomb: %.2f'%minimized_ncomb)\n",
    "print('nlow: %.2f'%minimized_nlow)\n",
    "print('ntotal: %.2f'%(minimized_nsig+minimized_nmisid+minimized_ncomb+minimized_nlow))\n",
    "print('nsig: %.2f'%x_exp[0])\n",
    "print('nmisid: %.2f'%x_exp[1])\n",
    "print('ncomb: %.2f'%x_exp[2])\n",
    "print('nlow: %.2f'%x_exp[3])\n",
    "print('ntotal: %.2f'%(x_exp[0]+x_exp[1]+x_exp[2]+x_exp[3]))"
   ]
  },
  {
   "cell_type": "code",
   "execution_count": null,
   "metadata": {},
   "outputs": [
    {
     "name": "stdout",
     "output_type": "stream",
     "text": [
      "CPU times: user 22 µs, sys: 0 ns, total: 22 µs\n",
      "Wall time: 35.8 µs\n"
     ]
    }
   ],
   "source": [
    "%%time\n",
    "\n",
    "\n",
    "def prob_extended_dpi(Bu_M, par):\n",
    "    decay = 'b2dpi_DD'\n",
    "    x = Bu_M\n",
    "    nsig = par[0]\n",
    "    nmisid = par[1]\n",
    "    ncomb = par[2]\n",
    "    nlow = par[3]\n",
    "\n",
    "\n",
    "    pdf = pdfs_data[decay]['sig']\n",
    "    pdf2 = pdfs_data[decay]['misid']\n",
    "    pdf3 = pdfs_data[decay]['comb']\n",
    "    pdf4 = pdfs_data[decay]['low']\n",
    "    ntotal = 1#(nsig + nmisid + ncomb + nlow)\n",
    "\n",
    "    npdf = nsig*pdf(x) + nmisid*pdf2(x) + ncomb*pdf3(x) + nlow*pdf4(x)\n",
    "\n",
    "    prob={}\n",
    "    prob['total'] = lambda x:  (nsig*pdf(x) + nmisid*pdf2(x) + ncomb*pdf3(x) + nlow*pdf4(x) )/ntotal\n",
    "    prob['sig'] = lambda x: nsig*pdf(x)/ntotal\n",
    "    prob['misid'] = lambda x: nmisid*pdf2(x)/ntotal\n",
    "    prob['comb'] = lambda x: ncomb*pdf3(x)/ntotal\n",
    "    prob['low'] = lambda x: nlow*pdf4(x)/ntotal\n",
    "    print(quad(prob['low'],5150, 5800)[0])\n",
    "\n",
    "    \n",
    "    return prob\n",
    "\n",
    "def plotOn(data=[], var=[], decay=decay,  nbins=100, ax=None, range=[5150, 5800]):\n",
    "\n",
    "\n",
    "    density=False\n",
    "    colors={'sig': 'blue', 'misid': 'yellowgreen', 'comb': 'violet', 'low': 'pink', 'low_misID': 'silver', 'low_Bs2DKPi': 'green'}\n",
    "    filled={'sig': False, 'misid': False, 'comb': True, 'low': True, 'low_misID': True, 'low_Bs2DKPi': True}\n",
    "    bin_edges = np.linspace(range[0], range[1], nbins+1)\n",
    "    bin_centers = 0.5 * (bin_edges[:-1] + bin_edges[1:])\n",
    "    # Assuming s1 is sorted and binned accordingly, this is a placeholder for counting entries per bin\n",
    "    counts, _ = np.histogram(data[decay], bins=bin_edges, density=density)\n",
    "    # Calculate the standard deviation for the error bars\n",
    "    std_devs = np.sqrt(counts)\n",
    "    ax.errorbar(bin_centers, counts, yerr=std_devs, fmt='+', color='darkviolet',  label='Toy Data')\n",
    "    #for key in prob.keys():\n",
    "    #ax.hist(var[decay], bins=100, histtype='step', weights=weights['sig']*data[decay].shape[1], label='sig')\n",
    "    #ax.hist([var[decay], var[decay], var[decay], var[decay], var[decay], var[decay]], bins=100, histtype='step', stacked=True, weights=[weights[key]*var[decay].shape[1] for key in weights.keys()], label=[key for key in weights.keys()])\n",
    "    keys=['misid', 'sig'] \n",
    "    if decay.split('_')[0] == 'b2dk':\n",
    "        keys=['misid', 'sig']\n",
    "        colors={'sig': 'yellowgreen', 'misid': 'blue', 'comb': 'violet', 'low': 'pink', 'low_misID': 'silver', 'low_Bs2DKPi': 'green'}\n",
    "\n",
    "    weights = prob_extended_dpi(bin_centers, x_obs) \n",
    "\n",
    "    #ax.hist([var[decay] for key in keys], bins=100, histtype='step', stacked=False, weights=[(weights[key].flatten()) for key in keys], label=[key for key in keys], color=[colors[key] for key in keys], density=density)\n",
    "    ax.plot(bin_centers, weights['total'](bin_centers).flatten()/sum(weights['total'](bin_centers))*len(data[decay]), color='red', label='Total ')\n",
    "    ax.plot(bin_centers, weights['sig'](bin_centers).flatten()/sum(weights['total'](bin_centers))*len(data[decay]), color='blue', label='Signal')\n",
    "    ax.plot(bin_centers, weights['misid'](bin_centers).flatten()/sum(weights['total'](bin_centers))*len(data[decay]), color='yellowgreen', label='MisID')\n",
    "    ax.plot(bin_centers, weights['comb'](bin_centers).flatten()/sum(weights['total'](bin_centers))*len(data[decay]), color='violet', label='Combinatorial')\n",
    "    ax.plot(bin_centers, weights['low'](bin_centers).flatten()/sum(weights['total'](bin_centers))*len(data[decay]), color='pink', label='Low')\n",
    "    ax.legend()\n",
    "\n",
    "    ax.set_xlabel('$M(B^{\\pm})$')\n"
   ]
  },
  {
   "cell_type": "code",
   "execution_count": null,
   "metadata": {},
   "outputs": [
    {
     "name": "stdout",
     "output_type": "stream",
     "text": [
      "(138028.06537029793, 1613.9550699506342, 7379.431125550909, 9294.261444136733)\n"
     ]
    }
   ],
   "source": [
    "print(x_exp)"
   ]
  },
  {
   "cell_type": "code",
   "execution_count": null,
   "metadata": {},
   "outputs": [
    {
     "name": "stderr",
     "output_type": "stream",
     "text": [
      "/software/pc24403/tfpcbpggsz/example/massshape.py:42: RuntimeWarning: overflow encountered in exp\n",
      "  firstG1 = ((2*(a_new-2*B_NEW+(m-shift))*sigma)/np.exp((a_new-(m-shift))*(a_new-(m-shift))/(2*sigma*sigma)) - (2*(b_new-2*B_NEW+(m-shift))*sigma)/np.exp((b_new-(m-shift))*(b_new-(m-shift))/(2*sigma*sigma))+ np.sqrt(2*np.pi)*((B_NEW-(m-shift))*(B_NEW-(m-shift)) + sigma*sigma)*erf((-a_new+(m-shift))/(np.sqrt(2)*sigma))  - np.sqrt(2*np.pi)*((B_NEW-(m-shift))*(B_NEW-(m-shift)) + sigma*sigma) * erf((-b_new+(m-shift))/(np.sqrt(2)*sigma)))/(2*np.sqrt(2*np.pi))\n",
      "/software/pc24403/tfpcbpggsz/example/massshape.py:43: RuntimeWarning: overflow encountered in exp\n",
      "  secondG1 = (((2*sigma*(a_new*a_new + B_NEW*B_NEW + a_new*(m-shift) + (m-shift)*(m-shift) - 2*B_NEW*(a_new+(m-shift)) + 2*(sigma*sigma)))/np.exp((a_new-(m-shift))*(a_new-(m-shift))/(2*(sigma*sigma))) - (2*sigma*(b_new*b_new + B_NEW*B_NEW + b_new*(m-shift) + (m-shift)*(m-shift) - 2*B_NEW*(b_new + (m-shift)) + 2*(sigma*sigma)))/np.exp((b_new - (m-shift))*(b_new - (m-shift))/(2*(sigma*sigma))) - np.sqrt(2*np.pi)*(-((B_NEW - (m-shift))*(B_NEW - (m-shift)) *(m-shift)) + (2*B_NEW - 3*(m-shift))*(sigma*sigma))*erf((-a_new + (m-shift))/(np.sqrt(2)*sigma)) + np.sqrt(2*np.pi)* (-((B_NEW - (m-shift))*(B_NEW - (m-shift))*(m-shift)) + (2*B_NEW - 3*(m-shift))*(sigma*sigma)) *erf((-b_new + (m-shift))/(np.sqrt(2)*sigma)))/(2 *np.sqrt(2*np.pi)))\n",
      "/software/pc24403/tfpcbpggsz/example/massshape.py:47: RuntimeWarning: overflow encountered in exp\n",
      "  firstG2 = ((2*(a_new-2*B_NEW+(m-shift))*sigma2)/np.exp((a_new-(m-shift))*(a_new-(m-shift))/(2*sigma2*sigma2)) - (2*(b_new-2*B_NEW+(m-shift))*sigma2)/np.exp((b_new-(m-shift))*(b_new-(m-shift))/(2*sigma2*sigma2))+ np.sqrt(2*np.pi)*((B_NEW-(m-shift))*(B_NEW-(m-shift)) + sigma2*sigma2)*erf((-a_new+(m-shift))/(np.sqrt(2)*sigma2))  - np.sqrt(2*np.pi)*((B_NEW-(m-shift))*(B_NEW-(m-shift)) + sigma2*sigma2) * erf((-b_new+(m-shift))/(np.sqrt(2)*sigma2)))/(2*np.sqrt(2*np.pi))\n",
      "/software/pc24403/tfpcbpggsz/example/massshape.py:48: RuntimeWarning: overflow encountered in exp\n",
      "  secondG2 = (((2*sigma2*(a_new*a_new + B_NEW*B_NEW + a_new*(m-shift) + (m-shift)*(m-shift) - 2*B_NEW*(a_new+(m-shift)) + 2*(sigma2*sigma2)))/np.exp((a_new-(m-shift))*(a_new-(m-shift))/(2*(sigma2*sigma2))) - (2*sigma2*(b_new*b_new + B_NEW*B_NEW + b_new*(m-shift) + (m-shift)*(m-shift) - 2*B_NEW*(b_new + (m-shift)) + 2*(sigma2*sigma2)))/np.exp((b_new - (m-shift))*(b_new - (m-shift))/(2*(sigma2*sigma2))) - np.sqrt(2*np.pi)*(-((B_NEW - (m-shift))*(B_NEW - (m-shift)) *(m-shift)) + (2*B_NEW - 3*(m-shift))*(sigma2*sigma2))*erf((-a_new + (m-shift))/(np.sqrt(2)*sigma2)) + np.sqrt(2*np.pi)* (-((B_NEW - (m-shift))*(B_NEW - (m-shift))*(m-shift)) + (2*B_NEW - 3*(m-shift))*(sigma2*sigma2)) *erf((-b_new + (m-shift))/(np.sqrt(2)*sigma2)))/(2 *np.sqrt(2*np.pi)))\n"
     ]
    },
    {
     "name": "stdout",
     "output_type": "stream",
     "text": [
      "9438.323027137887\n"
     ]
    },
    {
     "data": {
      "image/png": "[encoded data removed]",
      "text/plain": [
       "<Figure size 640x480 with 1 Axes>"
      ]
     },
     "metadata": {},
     "output_type": "display_data"
    }
   ],
   "source": [
    "fig, ax = plt.subplots()\n",
    "plotOn(data=Bu_M, var=[], decay='b2dpi_DD',  ax=ax, nbins=144)"
   ]
  },
  {
   "cell_type": "markdown",
   "metadata": {},
   "source": [
    "# Simultaneous fit on DK and DPi"
   ]
  },
  {
   "cell_type": "code",
   "execution_count": null,
   "metadata": {},
   "outputs": [],
   "source": [
    "def nll_extended_dk_dd(par):\n",
    "    decay = 'b2dk_DD'\n",
    "    x= Bu_M[decay]\n",
    "    nsig = par[0]\n",
    "    nmisid = par[3]/(varDict_init['pideff_DPi_KsPiPi_p_to_p_DD']) * varDict_init['pideff_DPi_KsPiPi_p_to_k_DD']\n",
    "    ncomb = par[1]\n",
    "    nlow = par[2]\n",
    "    frac_low_misID = varDict_init['cp_range_n_low_misID_DK_KsPiPi_DD']/varDict_init['cp_range_n_low_DPi_KsPiPi_DD']\n",
    "    nlow_misID = par[5]*frac_low_misID\n",
    "    nlow_Bs2DKPi = varDict_init['cp_range_n_low_Bs2DKPi_DK_KsPiPi_DD']\n",
    "\n",
    "    pdf = lambda x: pdfs_data[decay]['sig'](x)*nsig\n",
    "    pdf2 = lambda x: pdfs_data[decay]['misid'](x)*nmisid\n",
    "    pdf3 = lambda x: pdfs_data[decay]['comb'](x)*ncomb\n",
    "    pdf4 = lambda x: pdfs_data[decay]['low'](x)*nlow\n",
    "    pdf5 = lambda x: pdfs_data[decay]['low_misID'](x)*nlow_misID\n",
    "    pdf6 = lambda x: pdfs_data[decay]['low_Bs2DKPi'](x)*nlow_Bs2DKPi\n",
    "    ntotal = (nsig + nmisid + ncomb + nlow + nlow_misID + nlow_Bs2DKPi)\n",
    "\n",
    "    npdf = pdf(x) + pdf2(x) + pdf3(x) + pdf4(x) + pdf5(x) + pdf6(x)\n",
    "\n",
    "\n",
    "    nll =  tf.reduce_sum(- 2 *np.log(npdf)) + 2* ntotal\n",
    "    \n",
    "    return nll\n",
    "\n",
    "def nll_extended_dpi_dd(par):\n",
    "    decay = 'b2dpi_DD'\n",
    "    x= Bu_M[decay]\n",
    "    nsig = par[3]\n",
    "    nmisid = par[0]/(varDict_init['pideff_DK_KsPiPi_k_to_k_DD']) * varDict_init['pideff_DK_KsPiPi_k_to_p_DD']\n",
    "    ncomb = par[4]\n",
    "    nlow = par[5]\n",
    "\n",
    "    pdf = lambda x: pdfs_data[decay]['sig'](x)*nsig\n",
    "    pdf2 = lambda x: pdfs_data[decay]['misid'](x)*nmisid\n",
    "    pdf3 = lambda x: pdfs_data[decay]['comb'](x)*ncomb\n",
    "    pdf4 = lambda x: pdfs_data[decay]['low'](x)*nlow\n",
    "\n",
    "    ntotal = (nsig + nmisid + ncomb + nlow )\n",
    "\n",
    "    npdf = pdf(x) + pdf2(x) + pdf3(x) + pdf4(x)\n",
    "\n",
    "    nll = tf.reduce_sum(- 2 * np.log(npdf)) + 2 * ntotal\n",
    "    \n",
    "    return nll   \n",
    "\n",
    "def nll_dd(x):\n",
    "    print(nll_extended_dk_dd(x) + nll_extended_dpi_dd(x))\n",
    "    return nll_extended_dk_dd(x) + nll_extended_dpi_dd(x)"
   ]
  },
  {
   "cell_type": "code",
   "execution_count": null,
   "metadata": {},
   "outputs": [
    {
     "name": "stderr",
     "output_type": "stream",
     "text": [
      "/software/pc24403/tfpcbpggsz/example/massshape.py:42: RuntimeWarning: overflow encountered in exp\n",
      "  firstG1 = ((2*(a_new-2*B_NEW+(m-shift))*sigma)/np.exp((a_new-(m-shift))*(a_new-(m-shift))/(2*sigma*sigma)) - (2*(b_new-2*B_NEW+(m-shift))*sigma)/np.exp((b_new-(m-shift))*(b_new-(m-shift))/(2*sigma*sigma))+ np.sqrt(2*np.pi)*((B_NEW-(m-shift))*(B_NEW-(m-shift)) + sigma*sigma)*erf((-a_new+(m-shift))/(np.sqrt(2)*sigma))  - np.sqrt(2*np.pi)*((B_NEW-(m-shift))*(B_NEW-(m-shift)) + sigma*sigma) * erf((-b_new+(m-shift))/(np.sqrt(2)*sigma)))/(2*np.sqrt(2*np.pi))\n",
      "/software/pc24403/tfpcbpggsz/example/massshape.py:43: RuntimeWarning: overflow encountered in exp\n",
      "  secondG1 = (((2*sigma*(a_new*a_new + B_NEW*B_NEW + a_new*(m-shift) + (m-shift)*(m-shift) - 2*B_NEW*(a_new+(m-shift)) + 2*(sigma*sigma)))/np.exp((a_new-(m-shift))*(a_new-(m-shift))/(2*(sigma*sigma))) - (2*sigma*(b_new*b_new + B_NEW*B_NEW + b_new*(m-shift) + (m-shift)*(m-shift) - 2*B_NEW*(b_new + (m-shift)) + 2*(sigma*sigma)))/np.exp((b_new - (m-shift))*(b_new - (m-shift))/(2*(sigma*sigma))) - np.sqrt(2*np.pi)*(-((B_NEW - (m-shift))*(B_NEW - (m-shift)) *(m-shift)) + (2*B_NEW - 3*(m-shift))*(sigma*sigma))*erf((-a_new + (m-shift))/(np.sqrt(2)*sigma)) + np.sqrt(2*np.pi)* (-((B_NEW - (m-shift))*(B_NEW - (m-shift))*(m-shift)) + (2*B_NEW - 3*(m-shift))*(sigma*sigma)) *erf((-b_new + (m-shift))/(np.sqrt(2)*sigma)))/(2 *np.sqrt(2*np.pi)))\n",
      "/software/pc24403/tfpcbpggsz/example/massshape.py:47: RuntimeWarning: overflow encountered in exp\n",
      "  firstG2 = ((2*(a_new-2*B_NEW+(m-shift))*sigma2)/np.exp((a_new-(m-shift))*(a_new-(m-shift))/(2*sigma2*sigma2)) - (2*(b_new-2*B_NEW+(m-shift))*sigma2)/np.exp((b_new-(m-shift))*(b_new-(m-shift))/(2*sigma2*sigma2))+ np.sqrt(2*np.pi)*((B_NEW-(m-shift))*(B_NEW-(m-shift)) + sigma2*sigma2)*erf((-a_new+(m-shift))/(np.sqrt(2)*sigma2))  - np.sqrt(2*np.pi)*((B_NEW-(m-shift))*(B_NEW-(m-shift)) + sigma2*sigma2) * erf((-b_new+(m-shift))/(np.sqrt(2)*sigma2)))/(2*np.sqrt(2*np.pi))\n",
      "/software/pc24403/tfpcbpggsz/example/massshape.py:48: RuntimeWarning: overflow encountered in exp\n",
      "  secondG2 = (((2*sigma2*(a_new*a_new + B_NEW*B_NEW + a_new*(m-shift) + (m-shift)*(m-shift) - 2*B_NEW*(a_new+(m-shift)) + 2*(sigma2*sigma2)))/np.exp((a_new-(m-shift))*(a_new-(m-shift))/(2*(sigma2*sigma2))) - (2*sigma2*(b_new*b_new + B_NEW*B_NEW + b_new*(m-shift) + (m-shift)*(m-shift) - 2*B_NEW*(b_new + (m-shift)) + 2*(sigma2*sigma2)))/np.exp((b_new - (m-shift))*(b_new - (m-shift))/(2*(sigma2*sigma2))) - np.sqrt(2*np.pi)*(-((B_NEW - (m-shift))*(B_NEW - (m-shift)) *(m-shift)) + (2*B_NEW - 3*(m-shift))*(sigma2*sigma2))*erf((-a_new + (m-shift))/(np.sqrt(2)*sigma2)) + np.sqrt(2*np.pi)* (-((B_NEW - (m-shift))*(B_NEW - (m-shift))*(m-shift)) + (2*B_NEW - 3*(m-shift))*(sigma2*sigma2)) *erf((-b_new + (m-shift))/(np.sqrt(2)*sigma2)))/(2 *np.sqrt(2*np.pi)))\n",
      "/software/pc24403/tfpcbpggsz/example/massshape.py:91: RuntimeWarning: overflow encountered in exp\n",
      "  firstG1 = ((2 * (a_new - 2 * B_NEW + (m - m1)) * s1) / np.exp((a_new - (m - m1)) **2 / (2 * s1**2 )) - (2 * (b_new - 2 * B_NEW + (m - m1)) * s1) / np.exp((b_new - (m - m1)) **2 / (2 * (s1 **2))) + np.sqrt(2 * np.pi) * ((B_NEW - (m - m1)) **2 + s1 ** 2) * erf((-a_new + (m - m1)) / (np.sqrt(2) * s1)) - np.sqrt(2 * np.pi) * ((B_NEW - (m - m1)) ** 2 + s1 **2) * erf((-b_new + (m - m1)) / (np.sqrt(2) * s1))) / (2 * np.sqrt(2 * np.pi))\n",
      "/software/pc24403/tfpcbpggsz/example/massshape.py:92: RuntimeWarning: overflow encountered in exp\n",
      "  secondG1 = (((2*s1*(a_new**2 + B_NEW**2 + a_new*(m-m1) + (m-m1)**2 - 2*B_NEW*(a_new+(m-m1)) + 2*s1**2 ))/np.exp((a_new-(m-m1))**2 /(2*(s1**2))) - (2*s1*(b_new**2 + B_NEW**2 + b_new*(m-m1) + (m-m1)**2 - 2*B_NEW*(b_new + (m-m1)) + 2*(s1**2)))/np.exp((b_new - (m-m1))**2 /(2*(s1**2))) - np.sqrt(2*np.pi)*(-((B_NEW - (m-m1))**2 *(m-m1)) + (2*B_NEW - 3*(m-m1))*(s1**2))*erf((-a_new + (m-m1))/(np.sqrt(2)*s1)) + np.sqrt(2*np.pi)* (-((B_NEW - (m-m1))**2 *(m-m1)) + (2*B_NEW - 3*(m-m1))*(s1**2)) *erf((-b_new + (m-m1))/(np.sqrt(2)*s1)))/(2 *np.sqrt(2*np.pi)))\n",
      "/software/pc24403/tfpcbpggsz/example/massshape.py:95: RuntimeWarning: overflow encountered in exp\n",
      "  firstG2 = ((2 * (a_new - 2 * B_NEW + (m - m2)) * s2) / np.exp((a_new - (m - m2)) **2 / (2 * s2**2 )) - (2 * (b_new - 2 * B_NEW + (m - m2)) * s2) / np.exp((b_new - (m - m2)) **2 / (2 * (s2 **2))) + np.sqrt(2 * np.pi) * ((B_NEW - (m - m2)) **2 + s2 ** 2) * erf((-a_new + (m - m2)) / (np.sqrt(2) * s2)) - np.sqrt(2 * np.pi) * ((B_NEW - (m - m2)) ** 2 + s2 **2) * erf((-b_new + (m - m2)) / (np.sqrt(2) * s2))) / (2 * np.sqrt(2 * np.pi))\n",
      "/software/pc24403/tfpcbpggsz/example/massshape.py:96: RuntimeWarning: overflow encountered in exp\n",
      "  secondG2 = (((2*s2*(a_new**2 + B_NEW**2 + a_new*(m-m2) + (m-m2)**2 - 2*B_NEW*(a_new+(m-m2)) + 2*s2**2 ))/np.exp((a_new-(m-m2))**2 /(2*(s2**2))) - (2*s2*(b_new**2 + B_NEW**2 + b_new*(m-m2) + (m-m2)**2 - 2*B_NEW*(b_new + (m-m2)) + 2*(s2**2)))/np.exp((b_new - (m-m2))**2 /(2*(s2**2))) - np.sqrt(2*np.pi)*(-((B_NEW - (m-m2))**2 *(m-m2)) + (2*B_NEW - 3*(m-m2))*(s2**2))*erf((-a_new + (m-m2))/(np.sqrt(2)*s2)) + np.sqrt(2*np.pi)* (-((B_NEW - (m-m2))**2 *(m-m2)) + (2*B_NEW - 3*(m-m2))*(s2**2)) *erf((-b_new + (m-m2))/(np.sqrt(2)*s2)))/(2 *np.sqrt(2*np.pi)))\n",
      "/software/pc24403/tfpcbpggsz/example/massshape.py:103: RuntimeWarning: overflow encountered in exp\n",
      "  firstG4 = ((2 * (a_new - 2 * B_NEW + (m - m4)) * s4) / np.exp((a_new - (m - m4)) **2 / (2 * s4**2 )) - (2 * (b_new - 2 * B_NEW + (m - m4)) * s4) / np.exp((b_new - (m - m4)) **2 / (2 * (s4 **2))) + np.sqrt(2 * np.pi) * ((B_NEW - (m - m4)) **2 + s4 ** 2) * erf((-a_new + (m - m4)) / (np.sqrt(2) * s4)) - np.sqrt(2 * np.pi) * ((B_NEW - (m - m4)) ** 2 + s4 **2) * erf((-b_new + (m - m4)) / (np.sqrt(2) * s4))) / (2 * np.sqrt(2 * np.pi))\n",
      "/software/pc24403/tfpcbpggsz/example/massshape.py:104: RuntimeWarning: overflow encountered in exp\n",
      "  secondG4 = (((2*s4*(a_new**2 + B_NEW**2 + a_new*(m-m4) + (m-m4)**2 - 2*B_NEW*(a_new+(m-m4)) + 2*s4**2 ))/np.exp((a_new-(m-m4))**2 /(2*(s4**2))) - (2*s4*(b_new**2 + B_NEW**2 + b_new*(m-m4) + (m-m4)**2 - 2*B_NEW*(b_new + (m-m4)) + 2*(s4**2)))/np.exp((b_new - (m-m4))**2 /(2*(s4**2))) - np.sqrt(2*np.pi)*(-((B_NEW - (m-m4))**2 *(m-m4)) + (2*B_NEW - 3*(m-m4))*(s4**2))*erf((-a_new + (m-m4))/(np.sqrt(2)*s4)) + np.sqrt(2*np.pi)* (-((B_NEW - (m-m4))**2 *(m-m4)) + (2*B_NEW - 3*(m-m4))*(s4**2)) *erf((-b_new + (m-m4))/(np.sqrt(2)*s4)))/(2 *np.sqrt(2*np.pi)))\n"
     ]
    },
    {
     "name": "stdout",
     "output_type": "stream",
     "text": [
      "tf.Tensor(-2097166.207168456, shape=(), dtype=float64)\n",
      "tf.Tensor(-2097166.2071684585, shape=(), dtype=float64)\n",
      "tf.Tensor(-2097166.207168456, shape=(), dtype=float64)\n",
      "tf.Tensor(-2097166.2071684552, shape=(), dtype=float64)\n",
      "tf.Tensor(-2097166.207168456, shape=(), dtype=float64)\n",
      "tf.Tensor(-2097166.207168456, shape=(), dtype=float64)\n",
      "tf.Tensor(-2097166.207168456, shape=(), dtype=float64)\n",
      "tf.Tensor(-2097166.2676579487, shape=(), dtype=float64)\n",
      "tf.Tensor(-2097166.2676579505, shape=(), dtype=float64)\n",
      "tf.Tensor(-2097166.2676579487, shape=(), dtype=float64)\n",
      "tf.Tensor(-2097166.2676579477, shape=(), dtype=float64)\n",
      "tf.Tensor(-2097166.2676579487, shape=(), dtype=float64)\n",
      "tf.Tensor(-2097166.2676579487, shape=(), dtype=float64)\n",
      "tf.Tensor(-2097166.267657949, shape=(), dtype=float64)\n",
      "tf.Tensor(-2097166.7882419727, shape=(), dtype=float64)\n",
      "tf.Tensor(-2097166.7882419745, shape=(), dtype=float64)\n",
      "tf.Tensor(-2097166.7882419727, shape=(), dtype=float64)\n",
      "tf.Tensor(-2097166.7882419717, shape=(), dtype=float64)\n",
      "tf.Tensor(-2097166.7882419727, shape=(), dtype=float64)\n",
      "tf.Tensor(-2097166.7882419727, shape=(), dtype=float64)\n",
      "tf.Tensor(-2097166.788241973, shape=(), dtype=float64)\n",
      "tf.Tensor(-2097168.8599432074, shape=(), dtype=float64)\n",
      "tf.Tensor(-2097168.859943209, shape=(), dtype=float64)\n",
      "tf.Tensor(-2097168.8599432074, shape=(), dtype=float64)\n",
      "tf.Tensor(-2097168.8599432064, shape=(), dtype=float64)\n",
      "tf.Tensor(-2097168.859943208, shape=(), dtype=float64)\n",
      "tf.Tensor(-2097168.859943208, shape=(), dtype=float64)\n",
      "tf.Tensor(-2097168.859943208, shape=(), dtype=float64)\n",
      "tf.Tensor(-2097176.9766579047, shape=(), dtype=float64)\n",
      "tf.Tensor(-2097176.9766579065, shape=(), dtype=float64)\n",
      "tf.Tensor(-2097176.9766579047, shape=(), dtype=float64)\n",
      "tf.Tensor(-2097176.9766579038, shape=(), dtype=float64)\n",
      "tf.Tensor(-2097176.976657904, shape=(), dtype=float64)\n",
      "tf.Tensor(-2097176.9766579047, shape=(), dtype=float64)\n",
      "tf.Tensor(-2097176.9766579047, shape=(), dtype=float64)\n",
      "tf.Tensor(-2097206.7260514833, shape=(), dtype=float64)\n",
      "tf.Tensor(-2097206.7260514847, shape=(), dtype=float64)\n",
      "tf.Tensor(-2097206.7260514833, shape=(), dtype=float64)\n",
      "tf.Tensor(-2097206.726051483, shape=(), dtype=float64)\n",
      "tf.Tensor(-2097206.726051483, shape=(), dtype=float64)\n",
      "tf.Tensor(-2097206.726051483, shape=(), dtype=float64)\n",
      "tf.Tensor(-2097206.726051483, shape=(), dtype=float64)\n",
      "tf.Tensor(-2097267.6057506055, shape=(), dtype=float64)\n",
      "tf.Tensor(-2097267.6057506064, shape=(), dtype=float64)\n",
      "tf.Tensor(-2097267.6057506055, shape=(), dtype=float64)\n",
      "tf.Tensor(-2097267.6057506055, shape=(), dtype=float64)\n",
      "tf.Tensor(-2097267.605750605, shape=(), dtype=float64)\n",
      "tf.Tensor(-2097267.6057506055, shape=(), dtype=float64)\n",
      "tf.Tensor(-2097267.605750605, shape=(), dtype=float64)\n",
      "tf.Tensor(-2097311.936099483, shape=(), dtype=float64)\n",
      "tf.Tensor(-2097311.936099483, shape=(), dtype=float64)\n",
      "tf.Tensor(-2097311.9360994836, shape=(), dtype=float64)\n",
      "tf.Tensor(-2097311.936099484, shape=(), dtype=float64)\n",
      "tf.Tensor(-2097311.9360994827, shape=(), dtype=float64)\n",
      "tf.Tensor(-2097311.9360994827, shape=(), dtype=float64)\n",
      "tf.Tensor(-2097311.9360994836, shape=(), dtype=float64)\n",
      "tf.Tensor(-2097294.7334067766, shape=(), dtype=float64)\n",
      "tf.Tensor(-2097294.7334067756, shape=(), dtype=float64)\n",
      "tf.Tensor(-2097294.7334067756, shape=(), dtype=float64)\n",
      "tf.Tensor(-2097294.733406776, shape=(), dtype=float64)\n",
      "tf.Tensor(-2097294.7334067766, shape=(), dtype=float64)\n",
      "tf.Tensor(-2097294.733406777, shape=(), dtype=float64)\n",
      "tf.Tensor(-2097294.733406776, shape=(), dtype=float64)\n",
      "tf.Tensor(-2097315.278470773, shape=(), dtype=float64)\n",
      "tf.Tensor(-2097315.278470773, shape=(), dtype=float64)\n",
      "tf.Tensor(-2097315.2784707723, shape=(), dtype=float64)\n",
      "tf.Tensor(-2097315.2784707732, shape=(), dtype=float64)\n",
      "tf.Tensor(-2097315.2784707732, shape=(), dtype=float64)\n",
      "tf.Tensor(-2097315.2784707732, shape=(), dtype=float64)\n",
      "tf.Tensor(-2097315.2784707732, shape=(), dtype=float64)\n",
      "tf.Tensor(-2097318.1575631434, shape=(), dtype=float64)\n",
      "tf.Tensor(-2097318.157563143, shape=(), dtype=float64)\n",
      "tf.Tensor(-2097318.157563143, shape=(), dtype=float64)\n",
      "tf.Tensor(-2097318.1575631434, shape=(), dtype=float64)\n",
      "tf.Tensor(-2097318.157563143, shape=(), dtype=float64)\n",
      "tf.Tensor(-2097318.157563143, shape=(), dtype=float64)\n",
      "tf.Tensor(-2097318.1575631434, shape=(), dtype=float64)\n",
      "tf.Tensor(-2097316.9677877207, shape=(), dtype=float64)\n",
      "tf.Tensor(-2097316.9677877207, shape=(), dtype=float64)\n",
      "tf.Tensor(-2097316.9677877203, shape=(), dtype=float64)\n",
      "tf.Tensor(-2097316.9677877203, shape=(), dtype=float64)\n",
      "tf.Tensor(-2097316.9677877207, shape=(), dtype=float64)\n",
      "tf.Tensor(-2097316.9677877207, shape=(), dtype=float64)\n",
      "tf.Tensor(-2097316.9677877207, shape=(), dtype=float64)\n",
      "tf.Tensor(-2097319.0009006183, shape=(), dtype=float64)\n",
      "tf.Tensor(-2097319.0009006187, shape=(), dtype=float64)\n",
      "tf.Tensor(-2097319.000900618, shape=(), dtype=float64)\n",
      "tf.Tensor(-2097319.000900618, shape=(), dtype=float64)\n",
      "tf.Tensor(-2097319.0009006187, shape=(), dtype=float64)\n",
      "tf.Tensor(-2097319.0009006187, shape=(), dtype=float64)\n",
      "tf.Tensor(-2097319.000900619, shape=(), dtype=float64)\n",
      "tf.Tensor(-2097318.621567956, shape=(), dtype=float64)\n",
      "tf.Tensor(-2097318.6215679557, shape=(), dtype=float64)\n",
      "tf.Tensor(-2097318.6215679557, shape=(), dtype=float64)\n",
      "tf.Tensor(-2097318.621567956, shape=(), dtype=float64)\n",
      "tf.Tensor(-2097318.621567956, shape=(), dtype=float64)\n",
      "tf.Tensor(-2097318.6215679557, shape=(), dtype=float64)\n",
      "tf.Tensor(-2097318.621567956, shape=(), dtype=float64)\n",
      "tf.Tensor(-2097318.897470762, shape=(), dtype=float64)\n",
      "tf.Tensor(-2097318.8974707625, shape=(), dtype=float64)\n",
      "tf.Tensor(-2097318.897470762, shape=(), dtype=float64)\n",
      "tf.Tensor(-2097318.897470762, shape=(), dtype=float64)\n",
      "tf.Tensor(-2097318.8974707625, shape=(), dtype=float64)\n",
      "tf.Tensor(-2097318.8974707625, shape=(), dtype=float64)\n",
      "tf.Tensor(-2097318.897470762, shape=(), dtype=float64)\n",
      "tf.Tensor(-2097318.865740166, shape=(), dtype=float64)\n",
      "tf.Tensor(-2097318.8657401665, shape=(), dtype=float64)\n",
      "tf.Tensor(-2097318.865740166, shape=(), dtype=float64)\n",
      "tf.Tensor(-2097318.865740166, shape=(), dtype=float64)\n",
      "tf.Tensor(-2097318.8657401665, shape=(), dtype=float64)\n",
      "tf.Tensor(-2097318.865740166, shape=(), dtype=float64)\n",
      "tf.Tensor(-2097318.8657401665, shape=(), dtype=float64)\n",
      "tf.Tensor(-2097318.901286177, shape=(), dtype=float64)\n",
      "tf.Tensor(-2097318.9012861764, shape=(), dtype=float64)\n",
      "tf.Tensor(-2097318.9012861764, shape=(), dtype=float64)\n",
      "tf.Tensor(-2097318.901286177, shape=(), dtype=float64)\n",
      "tf.Tensor(-2097318.9012861764, shape=(), dtype=float64)\n",
      "tf.Tensor(-2097318.901286177, shape=(), dtype=float64)\n",
      "tf.Tensor(-2097318.901286177, shape=(), dtype=float64)\n"
     ]
    }
   ],
   "source": [
    "x_ini = [varDict_init['cp_range_n_sig_DK_KsPiPi_DD'], varDict_init['cp_range_n_comb_DK_KsPiPi_DD'], varDict_init['cp_range_n_low_DK_KsPiPi_DD'],  varDict_init['cp_range_n_sig_DPi_KsPiPi_DD'], varDict_init['cp_range_n_comb_DPi_KsPiPi_DD'], varDict_init['cp_range_n_low_DPi_KsPiPi_DD']]\n",
    "\n",
    "n_data = {'b2dk_DD': len(Bu_M['b2dk_DD']), 'b2dpi_DD': len(Bu_M['b2dpi_DD'])}\n",
    "bounds = [(-n_data['b2dk_DD'], 1.2*n_data['b2dk_DD']), (-n_data['b2dk_DD'], 1.2*n_data['b2dk_DD']), (-n_data['b2dk_DD'], 1.2*n_data['b2dk_DD']), (-n_data['b2dpi_DD'], 1.2*n_data['b2dpi_DD']), (-n_data['b2dpi_DD'], 1.2*n_data['b2dpi_DD']), (-n_data['b2dpi_DD'], 1.2*n_data['b2dpi_DD'])]\n",
    "model = minimize(nll_dd, x_ini, method=\"L-BFGS-B\", bounds=bounds)\n"
   ]
  },
  {
   "cell_type": "code",
   "execution_count": null,
   "metadata": {},
   "outputs": [],
   "source": [
    "minimized_dk_dd_nsig = model.x[0]\n",
    "minimized_dk_dd_nmisid = model.x[3]/(varDict_init['pideff_DPi_KsPiPi_p_to_p_DD']) * varDict_init['pideff_DPi_KsPiPi_p_to_k_DD']\n",
    "minimized_dk_dd_ncomb = model.x[1]\n",
    "minimized_dk_dd_nlow = model.x[2]\n",
    "dk_dd_frac_low_misID = varDict_init['cp_range_n_low_misID_DK_KsPiPi_DD']/varDict_init['cp_range_n_low_DPi_KsPiPi_DD']\n",
    "minimized_dk_dd_nlow_misID = model.x[5]*dk_dd_frac_low_misID\n",
    "minimized_dk_dd_nlow_Bs2DKPi = varDict_init['cp_range_n_low_Bs2DKPi_DK_KsPiPi_DD']\n",
    "minimized_dpi_dd_nsig = model.x[3]\n",
    "minimized_dpi_dd_nmisid = model.x[0]/(varDict_init['pideff_DK_KsPiPi_k_to_k_DD']) * varDict_init['pideff_DK_KsPiPi_k_to_p_DD']\n",
    "minimized_dpi_dd_ncomb = model.x[4]\n",
    "minimized_dpi_dd_nlow = model.x[5]\n",
    "\n",
    "n_obs = [minimized_dk_dd_nsig, minimized_dk_dd_nmisid, minimized_dk_dd_ncomb, minimized_dk_dd_nlow, minimized_dk_dd_nlow_misID, minimized_dk_dd_nlow_Bs2DKPi, minimized_dpi_dd_nsig, minimized_dpi_dd_nmisid, minimized_dpi_dd_ncomb, minimized_dpi_dd_nlow]\n"
   ]
  },
  {
   "cell_type": "code",
   "execution_count": null,
   "metadata": {},
   "outputs": [],
   "source": [
    "x_exp = [varDict['n_sig_DK_KsPiPi_DD'], varDict['n_misid_DK_KsPiPi_DD'], varDict['n_comb_DK_KsPiPi_DD'], varDict['n_low_DK_KsPiPi_DD'], varDict['n_low_misID_DK_KsPiPi_DD'], varDict['n_low_Bs2DKPi_DK_KsPiPi_DD'], varDict['n_sig_DPi_KsPiPi_DD'], varDict['n_misid_DPi_KsPiPi_DD'], varDict['n_comb_DPi_KsPiPi_DD'], varDict['n_low_DPi_KsPiPi_DD']]"
   ]
  },
  {
   "cell_type": "code",
   "execution_count": null,
   "metadata": {},
   "outputs": [
    {
     "name": "stdout",
     "output_type": "stream",
     "text": [
      "nsig: 76.27\n",
      "nmisid: -7.94\n",
      "ncomb: -78.58\n",
      "nlow: -156.35\n",
      "nlow_misID: 43.22\n",
      "nlow_Bs2DKPi: 0.08\n",
      "nsig: -272.75\n",
      "nmisid: 11.50\n",
      "ncomb: -144.56\n",
      "nlow: 387.46\n"
     ]
    }
   ],
   "source": [
    "#Difference\n",
    "print('nsig: %.2f'%(n_obs[0] - x_exp[0]))\n",
    "print('nmisid: %.2f'%(n_obs[1] - x_exp[1]))\n",
    "print('ncomb: %.2f'%(n_obs[2] - x_exp[2]))\n",
    "print('nlow: %.2f'%(n_obs[3] - x_exp[3]))\n",
    "print('nlow_misID: %.2f'%(n_obs[4] - x_exp[4]))\n",
    "print('nlow_Bs2DKPi: %.2f'%(n_obs[5] - x_exp[5]))\n",
    "print('nsig: %.2f'%(n_obs[6] - x_exp[6]))\n",
    "print('nmisid: %.2f'%(n_obs[7] - x_exp[7]))\n",
    "print('ncomb: %.2f'%(n_obs[8] - x_exp[8]))\n",
    "print('nlow: %.2f'%(n_obs[9] - x_exp[9]))"
   ]
  }
 ],
 "metadata": {
  "kernelspec": {
   "display_name": "tfgammafit",
   "language": "python",
   "name": "python3"
  },
  "language_info": {
   "codemirror_mode": {
    "name": "ipython",
    "version": 3
   },
   "file_extension": ".py",
   "mimetype": "text/x-python",
   "name": "python",
   "nbconvert_exporter": "python",
   "pygments_lexer": "ipython3",
   "version": "3.12.3"
  }
 },
 "nbformat": 4,
 "nbformat_minor": 2
}
