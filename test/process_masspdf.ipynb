{
 "cells": [
  {
   "cell_type": "code",
   "execution_count": 8,
   "metadata": {},
   "outputs": [],
   "source": [
    "import sys\n",
    "sys.path.append('/software/pc24403/tfpcbpggsz')  \n",
    "from core import *\n"
   ]
  },
  {
   "cell_type": "code",
   "execution_count": 9,
   "metadata": {},
   "outputs": [
    {
     "name": "stdout",
     "output_type": "stream",
     "text": [
      "--- Constructing signal pdfs...\n",
      "--- Constructing misID pdfs...\n",
      "--- Constructing low-mass pdfs...\n",
      "--- Constructing comb pdfs...\n",
      "--- INFO: Writing to file...\n",
      "--- Constructing signal pdfs...\n",
      "--- Constructing misID pdfs...\n",
      "--- Constructing low-mass pdfs...\n",
      "--- Constructing comb pdfs...\n",
      "--- INFO: Writing to file...\n",
      "--- Constructing signal pdfs...\n",
      "--- Constructing misID pdfs...\n",
      "--- Constructing low-mass pdfs...\n",
      "--- Constructing comb pdfs...\n",
      "--- INFO: Writing to file...\n",
      "--- Constructing signal pdfs...\n",
      "--- Constructing misID pdfs...\n",
      "--- Constructing low-mass pdfs...\n",
      "--- Constructing comb pdfs...\n",
      "--- INFO: Writing to file...\n"
     ]
    }
   ],
   "source": [
    "from importlib.machinery import SourceFileLoader\n",
    "config_mass_shape_output = SourceFileLoader('config_mass_shape_output', '/software/pc24403/PCBPGGSZ/outputs/toy/mass_fit/config/%s'%('config_mass_shape_output_1.py')).load_module()\n",
    "\n",
    "varDict = config_mass_shape_output.getconfig()\n",
    "\n",
    "Bu_M = {}\n",
    "mass_pdfs = {}\n",
    "pdfs_data = {}\n",
    "for decay in ['b2dk_LL', 'b2dk_DD']:\n",
    "    for charge in ['p', 'm']:\n",
    "        Bu_M[decay+'_'+charge] = np.linspace(5080.0, 5800, 1000000)\n",
    "        Bu_M[decay+'_'+charge] = tf.cast(Bu_M[decay+'_'+charge], tf.float64)\n",
    "        pdfs_data[decay+'_'+charge] = preparePdf_data(varDict, decay)"
   ]
  },
  {
   "cell_type": "code",
   "execution_count": 10,
   "metadata": {},
   "outputs": [],
   "source": [
    "comps = ['sig', 'misid', 'comb', 'low', 'low_misID', 'low_Bs2DKPi']\n",
    "for decay in ['b2dk_LL', 'b2dk_DD']:\n",
    "    for charge in ['p', 'm']:\n",
    "        new_decay = decay + '_'+ charge\n",
    "        mass_pdfs[new_decay] = {}\n",
    "        for comp in comps:\n",
    "            if decay.split('_')[0] == 'b2dpi' and (comp == 'low_Bs2DKPi' or comp == 'low_misID'): continue\n",
    "            mass_pdfs[new_decay][comp] = pdfs_data[new_decay][comp](Bu_M[new_decay])"
   ]
  },
  {
   "cell_type": "code",
   "execution_count": 12,
   "metadata": {},
   "outputs": [
    {
     "data": {
      "text/plain": [
       "{'b2dk_LL_p': {'sig': <tf.Tensor: shape=(1000000,), dtype=float64, numpy=\n",
       "  array([3.71886047e-05, 3.71887431e-05, 3.71888814e-05, ...,\n",
       "         5.55346309e-07, 5.55342700e-07, 5.55339091e-07])>,\n",
       "  'misid': <tf.Tensor: shape=(1000000,), dtype=float64, numpy=\n",
       "  array([1.84286350e-16, 1.84319246e-16, 1.84352147e-16, ...,\n",
       "         1.89214859e-05, 1.89213634e-05, 1.89212409e-05])>,\n",
       "  'comb': <tf.Tensor: shape=(1000000,), dtype=float64, numpy=\n",
       "  array([0.00368716, 0.00368715, 0.00368714, ..., 0.00032843, 0.00032843,\n",
       "         0.00032843])>,\n",
       "  'low': <tf.Tensor: shape=(1000000,), dtype=float64, numpy=\n",
       "  array([1.41777977e-002, 1.41782039e-002, 1.41786102e-002, ...,\n",
       "         3.87169771e-129, 3.86981887e-129, 3.86794094e-129])>,\n",
       "  'low_misID': <tf.Tensor: shape=(1000000,), dtype=float64, numpy=\n",
       "  array([6.79754460e-03, 6.79750357e-03, 6.79746254e-03, ...,\n",
       "         1.21173847e-06, 1.21172703e-06, 1.21171559e-06])>,\n",
       "  'low_Bs2DKPi': <tf.Tensor: shape=(1000000,), dtype=float64, numpy=\n",
       "  array([0.00730557, 0.00730557, 0.00730558, ..., 0.        , 0.        ,\n",
       "         0.        ])>},\n",
       " 'b2dk_LL_m': {'sig': <tf.Tensor: shape=(1000000,), dtype=float64, numpy=\n",
       "  array([3.71886047e-05, 3.71887431e-05, 3.71888814e-05, ...,\n",
       "         5.55346309e-07, 5.55342700e-07, 5.55339091e-07])>,\n",
       "  'misid': <tf.Tensor: shape=(1000000,), dtype=float64, numpy=\n",
       "  array([1.84286350e-16, 1.84319246e-16, 1.84352147e-16, ...,\n",
       "         1.89214859e-05, 1.89213634e-05, 1.89212409e-05])>,\n",
       "  'comb': <tf.Tensor: shape=(1000000,), dtype=float64, numpy=\n",
       "  array([0.00368716, 0.00368715, 0.00368714, ..., 0.00032843, 0.00032843,\n",
       "         0.00032843])>,\n",
       "  'low': <tf.Tensor: shape=(1000000,), dtype=float64, numpy=\n",
       "  array([1.41777977e-002, 1.41782039e-002, 1.41786102e-002, ...,\n",
       "         3.87169771e-129, 3.86981887e-129, 3.86794094e-129])>,\n",
       "  'low_misID': <tf.Tensor: shape=(1000000,), dtype=float64, numpy=\n",
       "  array([6.79754460e-03, 6.79750357e-03, 6.79746254e-03, ...,\n",
       "         1.21173847e-06, 1.21172703e-06, 1.21171559e-06])>,\n",
       "  'low_Bs2DKPi': <tf.Tensor: shape=(1000000,), dtype=float64, numpy=\n",
       "  array([0.00730557, 0.00730557, 0.00730558, ..., 0.        , 0.        ,\n",
       "         0.        ])>},\n",
       " 'b2dk_DD_p': {'sig': <tf.Tensor: shape=(1000000,), dtype=float64, numpy=\n",
       "  array([3.37469421e-05, 3.37470752e-05, 3.37472084e-05, ...,\n",
       "         4.16983944e-07, 4.16981177e-07, 4.16978410e-07])>,\n",
       "  'misid': <tf.Tensor: shape=(1000000,), dtype=float64, numpy=\n",
       "  array([1.11284693e-18, 1.11307801e-18, 1.11330914e-18, ...,\n",
       "         1.89531335e-05, 1.89530099e-05, 1.89528863e-05])>,\n",
       "  'comb': <tf.Tensor: shape=(1000000,), dtype=float64, numpy=\n",
       "  array([0.0040742 , 0.00407419, 0.00407418, ..., 0.00026178, 0.00026178,\n",
       "         0.00026177])>,\n",
       "  'low': <tf.Tensor: shape=(1000000,), dtype=float64, numpy=\n",
       "  array([1.41441588e-002, 1.41445684e-002, 1.41449779e-002, ...,\n",
       "         3.87169771e-129, 3.86981887e-129, 3.86794094e-129])>,\n",
       "  'low_misID': <tf.Tensor: shape=(1000000,), dtype=float64, numpy=\n",
       "  array([6.82336892e-03, 6.82333571e-03, 6.82330250e-03, ...,\n",
       "         1.21170684e-06, 1.21169541e-06, 1.21168397e-06])>,\n",
       "  'low_Bs2DKPi': <tf.Tensor: shape=(1000000,), dtype=float64, numpy=\n",
       "  array([0.00730557, 0.00730557, 0.00730558, ..., 0.        , 0.        ,\n",
       "         0.        ])>},\n",
       " 'b2dk_DD_m': {'sig': <tf.Tensor: shape=(1000000,), dtype=float64, numpy=\n",
       "  array([3.37469421e-05, 3.37470752e-05, 3.37472084e-05, ...,\n",
       "         4.16983944e-07, 4.16981177e-07, 4.16978410e-07])>,\n",
       "  'misid': <tf.Tensor: shape=(1000000,), dtype=float64, numpy=\n",
       "  array([1.11284693e-18, 1.11307801e-18, 1.11330914e-18, ...,\n",
       "         1.89531335e-05, 1.89530099e-05, 1.89528863e-05])>,\n",
       "  'comb': <tf.Tensor: shape=(1000000,), dtype=float64, numpy=\n",
       "  array([0.0040742 , 0.00407419, 0.00407418, ..., 0.00026178, 0.00026178,\n",
       "         0.00026177])>,\n",
       "  'low': <tf.Tensor: shape=(1000000,), dtype=float64, numpy=\n",
       "  array([1.41441588e-002, 1.41445684e-002, 1.41449779e-002, ...,\n",
       "         3.87169771e-129, 3.86981887e-129, 3.86794094e-129])>,\n",
       "  'low_misID': <tf.Tensor: shape=(1000000,), dtype=float64, numpy=\n",
       "  array([6.82336892e-03, 6.82333571e-03, 6.82330250e-03, ...,\n",
       "         1.21170684e-06, 1.21169541e-06, 1.21168397e-06])>,\n",
       "  'low_Bs2DKPi': <tf.Tensor: shape=(1000000,), dtype=float64, numpy=\n",
       "  array([0.00730557, 0.00730557, 0.00730558, ..., 0.        , 0.        ,\n",
       "         0.        ])>}}"
      ]
     },
     "execution_count": 12,
     "metadata": {},
     "output_type": "execute_result"
    }
   ],
   "source": [
    "mass_pdfs"
   ]
  },
  {
   "cell_type": "code",
   "execution_count": 16,
   "metadata": {},
   "outputs": [],
   "source": [
    "Bu_M_old = np.load('/shared/scratch/pc24403/amp_ampgen_noeff/Bu_M_mc_noeff.npy', allow_pickle=True).item()"
   ]
  },
  {
   "cell_type": "code",
   "execution_count": 18,
   "metadata": {},
   "outputs": [
    {
     "data": {
      "text/plain": [
       "(5000000,)"
      ]
     },
     "execution_count": 18,
     "metadata": {},
     "output_type": "execute_result"
    }
   ],
   "source": []
  },
  {
   "cell_type": "code",
   "execution_count": 19,
   "metadata": {},
   "outputs": [],
   "source": [
    "for key in Bu_M_old.keys():\n",
    "    if 'b2dk' in key:\n",
    "        Bu_M_old[key] = Bu_M[key]"
   ]
  },
  {
   "cell_type": "code",
   "execution_count": 20,
   "metadata": {},
   "outputs": [],
   "source": [
    "np.save('/shared/scratch/pc24403/amp_ampgen_noeff/Bu_M_mc_noeff.npy', Bu_M_old)"
   ]
  }
 ],
 "metadata": {
  "kernelspec": {
   "display_name": "tfdev",
   "language": "python",
   "name": "python3"
  },
  "language_info": {
   "codemirror_mode": {
    "name": "ipython",
    "version": 3
   },
   "file_extension": ".py",
   "mimetype": "text/x-python",
   "name": "python",
   "nbconvert_exporter": "python",
   "pygments_lexer": "ipython3",
   "version": "3.12.3"
  }
 },
 "nbformat": 4,
 "nbformat_minor": 2
}
